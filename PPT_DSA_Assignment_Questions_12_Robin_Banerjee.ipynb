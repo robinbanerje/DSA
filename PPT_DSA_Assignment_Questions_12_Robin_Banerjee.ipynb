{
  "nbformat": 4,
  "nbformat_minor": 0,
  "metadata": {
    "colab": {
      "provenance": []
    },
    "kernelspec": {
      "name": "python3",
      "display_name": "Python 3"
    },
    "language_info": {
      "name": "python"
    }
  },
  "cells": [
    {
      "cell_type": "markdown",
      "source": [
        "Question 1\n",
        "\n",
        "Given a singly linked list, delete middle of the linked list. For example, if given linked list is 1->2->3->4->5 then linked list should be modified to 1->2->4->5.If there are even nodes, then there would be two middle nodes, we need to delete the second middle element. For example, if given linked list is 1->2->3->4->5->6 then it should be modified to 1->2->3->5->6.If the input linked list is NULL or has 1 node, then it should return NULL\n",
        "\n",
        "Example 1:\n",
        "Input:\n",
        "LinkedList: 1->2->3->4->5\n",
        "Output:1 2 4 5\n",
        "\n",
        "Example 2:\n",
        "Input:\n",
        "LinkedList: 2->4->6->7->5->1\n",
        "Output:2 4 6 5 1"
      ],
      "metadata": {
        "id": "xLBppv8SWC_Q"
      }
    },
    {
      "cell_type": "code",
      "source": [
        "def delete_middle_node(head):\n",
        "\n",
        "  # if the linked list is empty or has only one node.\n",
        "  if head is None or head.next is None:\n",
        "    return head\n",
        "\n",
        "  # Create two pointers, slow_ptr and fast_ptr. slow_ptr will point to the node that will be deleted.\n",
        "  slow_ptr = head\n",
        "  fast_ptr = head\n",
        "\n",
        "  # Iterate over the linked list, incrementing slow_ptr by 1 and fast_ptr by 2, until slow_ptr points get to middle node of the linked list.\n",
        "  while fast_ptr is not None and fast_ptr.next is not None:\n",
        "    slow_ptr = slow_ptr.next\n",
        "    fast_ptr = fast_ptr.next.next\n",
        "\n",
        "  # Delete the middle node.\n",
        "  slow_ptr.next = slow_ptr.next.next\n",
        "\n",
        "  # Return the new head of the linked list.\n",
        "  return head\n",
        "\n",
        "# Time complexity: O(n)\n",
        "# Space complexity: O(1)"
      ],
      "metadata": {
        "id": "h4BxOZZrXgAM"
      },
      "execution_count": null,
      "outputs": []
    },
    {
      "cell_type": "markdown",
      "source": [
        "Question 2\n",
        "\n",
        "Given a linked list of N nodes. The task is to check if the linked list has a loop. Linked list can contain self loop.\n",
        "\n",
        "Example 1:\n",
        "Input:\n",
        "N = 3\n",
        "value[] = {1,3,4}\n",
        "x(position at which tail is connected) = 2\n",
        "Output:True\n",
        "Explanation:In above test case N = 3.\n",
        "The linked list with nodes N = 3 is\n",
        "given. Then value of x=2 is given which\n",
        "means last node is connected with xth\n",
        "node of linked list. Therefore, there\n",
        "exists a loop.\n",
        "\n",
        "Example 2:\n",
        "Input:\n",
        "N = 4\n",
        "value[] = {1,8,3,4}\n",
        "x = 0\n",
        "Output:False\n",
        "Explanation:For N = 4 ,x = 0 means\n",
        "then lastNode->next = NULL, then\n",
        "the Linked list does not contains\n",
        "any loop."
      ],
      "metadata": {
        "id": "n6AvnOTZYJ0j"
      }
    },
    {
      "cell_type": "code",
      "source": [
        "def has_loop(head):\n",
        "\n",
        "  # pointers, slow and fast.\n",
        "  slow = head\n",
        "  fast = head\n",
        "\n",
        "  while slow and fast and fast.next:\n",
        "    # Move slow pointer by one node and fast pointer by two nodes.\n",
        "    slow = slow.next\n",
        "    fast = fast.next.next\n",
        "\n",
        "    # If slow and fast pointers meet, then there is a loop.\n",
        "    if slow == fast:\n",
        "      return True\n",
        "\n",
        "  return False\n",
        "\n",
        "  # Time complexity: O(n)\n",
        "  # Space complexity: O(1)"
      ],
      "metadata": {
        "id": "XC5RjzfSeLe2"
      },
      "execution_count": null,
      "outputs": []
    },
    {
      "cell_type": "markdown",
      "source": [
        "Question 3\n",
        "\n",
        "Given a linked list consisting of L nodes and given a number N. The task is to find the Nth node from the end of the linked list.\n",
        "\n",
        "Example 1:\n",
        "Input:\n",
        "N = 2\n",
        "LinkedList: 1->2->3->4->5->6->7->8->9\n",
        "Output:8\n",
        "Explanation:In the first example, there\n",
        "are 9 nodes in linked list and we need\n",
        "to find 2nd node from end. 2nd node\n",
        "from end is 8.\n",
        "\n",
        "Example 2:\n",
        "Input:\n",
        "N = 5\n",
        "LinkedList: 10->5->100->5\n",
        "Output:-1\n",
        "Explanation:In the second example, there\n",
        "are 4 nodes in the linked list and we\n",
        "need to find 5th from the end. Since 'n'\n",
        "is more than the number of nodes in the\n",
        "linked list, the output is -1."
      ],
      "metadata": {
        "id": "xKJhu2UEg76n"
      }
    },
    {
      "cell_type": "code",
      "source": [
        "def nth_node_from_end(head, n):\n",
        "  \n",
        "  # Initialize two pointers, slow and fast.\n",
        "  slow = head\n",
        "  fast = head\n",
        "\n",
        "  # Move fast pointer by n nodes.\n",
        "  for i in range(n):\n",
        "    if fast is None:\n",
        "      # If fast pointer reaches the end of the linked list before n nodes have been traversed,\n",
        "      # then the index is out of range.\n",
        "      return None\n",
        "    fast = fast.next\n",
        "\n",
        "  # Move slow pointer until fast pointer reaches the end of the linked list.\n",
        "  while fast.next is not None:\n",
        "    slow = slow.next\n",
        "    fast = fast.next\n",
        "\n",
        "  # The node pointed to by slow is the Nth node from the end of the linked list.\n",
        "  return slow\n",
        "\n",
        "\n",
        "  # Time complexity: O(n)\n",
        "  # Space complexity: O(1)"
      ],
      "metadata": {
        "id": "HsRfMYkxixa3"
      },
      "execution_count": null,
      "outputs": []
    },
    {
      "cell_type": "markdown",
      "source": [
        "Question 4\n",
        "\n",
        "Given a singly linked list of characters, write a function that returns true if the given list is a palindrome, else false.\n",
        " \n",
        "Examples:\n",
        "Input: R->A->D->A->R->NULL\n",
        "Output: Yes\n",
        "Input: C->O->D->E->NULL\n",
        "Output: No"
      ],
      "metadata": {
        "id": "meD4bj2xi4hm"
      }
    },
    {
      "cell_type": "code",
      "source": [
        "def middle_of_LL(head):\n",
        "  \n",
        "  # Initialize two pointers, slow and fast.\n",
        "  slow = head\n",
        "  fast = head\n",
        "\n",
        "  # Traversee the linked list until fast pointer or fast.next reaches NULL.\n",
        "  while fast is not None and fast.next is not None:\n",
        "    slow = slow.next        # Move slow pointer by 1 step.\n",
        "    fast = fast.next.next   # Move fast pointer by 2 steps.\n",
        "\n",
        "  return slow\n",
        "\n",
        "def isPalindrome(head):\n",
        "\n",
        "  # Find middle node.\n",
        "  curr = middle_of_LL(head)\n",
        "\n",
        "  # middle_of_LL function will return mid node, which is curr pointer.\n",
        "  prev = curr\n",
        "  curr = curr.next\n",
        "  prev.next = None\n",
        "\n",
        "  # Reverse the 2nd half of the linked list.\n",
        "  while curr is not None:\n",
        "    temp = curr.next\n",
        "    curr.next = prev\n",
        "    prev = curr\n",
        "    curr = temp\n",
        "  # Above while loop has reversed the 2nd half of the linked list.\n",
        "\n",
        "  # Now traverse & check for palindrome.\n",
        "  fast = head # fast pointer at start.\n",
        "  curr = prev # curr pointer at end.\n",
        "\n",
        "  while curr is not None:\n",
        "    if curr.data is not fast.data:\n",
        "      # if curr pointer value != fast pointer value, return False.\n",
        "      return False\n",
        "    curr = curr.next\n",
        "    fast = fast.next\n",
        "  return True\n",
        "\n",
        "  # Time complexity: O(n)\n",
        "  # Space complexity: O(1)"
      ],
      "metadata": {
        "id": "6IFYUyd2m0Nm"
      },
      "execution_count": null,
      "outputs": []
    },
    {
      "cell_type": "markdown",
      "source": [
        "Question 5\n",
        "\n",
        "Given a linked list of N nodes such that it may contain a loop.\n",
        "A loop here means that the last node of the link list is connected to the node at position X(1-based index). If the link list does not have any loop, X=0.\n",
        "Remove the loop from the linked list, if it is present, i.e. unlink the last node which is forming the loop.\n",
        "\n",
        "Example 1:\n",
        "Input:\n",
        "N = 3\n",
        "value[] = {1,3,4}\n",
        "X = 2\n",
        "Output:1\n",
        "Explanation:The link list looks like\n",
        "\n",
        "1 -> 3 -> 4\n",
        "  \n",
        "       ^    |\n",
        "       |____|\n",
        "A loop is present. If you remove it\n",
        "successfully, the answer will be 1.\n",
        "\n",
        "Example 2:\n",
        "Input:\n",
        "N = 4\n",
        "value[] = {1,8,3,4}\n",
        "X = 0\n",
        "Output:1\n",
        "Explanation:The Linked list does not\n",
        "contains any loop.\n",
        "\n",
        "Example 3:\n",
        "Input:\n",
        "N = 4\n",
        "value[] = {1,2,3,4}\n",
        "X = 1\n",
        "Output:1\n",
        "Explanation:The link list looks like\n",
        "\n",
        "1 -> 2 -> 3 -> 4\n",
        "\n",
        "^              |\n",
        "\n",
        "|______________|\n",
        "A loop is present.\n",
        "If you remove it successfully,\n",
        "the answer will be 1."
      ],
      "metadata": {
        "id": "q-62hmgxvjrM"
      }
    },
    {
      "cell_type": "code",
      "source": [
        "def remove_loop(head):\n",
        "\n",
        "  slow = head\n",
        "  fast = head\n",
        "\n",
        "  # Find the first node that slow and fast meet.\n",
        "  while fast != None and fast.next != None:\n",
        "    slow = slow.next\n",
        "    fast = fast.next.next\n",
        "\n",
        "    if slow == fast:\n",
        "      break\n",
        "\n",
        "  # if fast reaches the end of the list, there is no loop.\n",
        "  if fast == None:\n",
        "    return False\n",
        "\n",
        "  # Find the node that is forming the loop.\n",
        "  runner = head\n",
        "  while runner != slow:\n",
        "    slow = slow.next\n",
        "    runner = runner.next\n",
        "\n",
        "  # Break the loop by setting the next pointer of the node that is forming the loop to None.\n",
        "  runner.next = None\n",
        "\n",
        "  return True\n",
        "\n",
        "  # Time complexity: O(n)\n",
        "  # Space complexity: O(1)"
      ],
      "metadata": {
        "id": "PP_lOLWiyYSH"
      },
      "execution_count": null,
      "outputs": []
    },
    {
      "cell_type": "markdown",
      "source": [
        "Question 6\n",
        "\n",
        "Given a linked list and two integers M and N. Traverse the linked list such that you retain M nodes then delete next N nodes, continue the same till end of the linked list.\n",
        "Difficulty Level: Rookie\n",
        "\n",
        "Examples:\n",
        "\n",
        "Input:\n",
        "M = 2, N = 2\n",
        "Linked List: 1->2->3->4->5->6->7->8\n",
        "Output:\n",
        "Linked List: 1->2->5->6\n",
        "\n",
        "Input:\n",
        "M = 3, N = 2\n",
        "Linked List: 1->2->3->4->5->6->7->8->9->10\n",
        "Output:\n",
        "Linked List: 1->2->3->6->7->8\n",
        "\n",
        "Input:\n",
        "M = 1, N = 1\n",
        "Linked List: 1->2->3->4->5->6->7->8->9->10\n",
        "Output:\n",
        "Linked List: 1->3->5->7->9"
      ],
      "metadata": {
        "id": "m6fZVFuby5DI"
      }
    },
    {
      "cell_type": "code",
      "source": [
        "def delete_n_nodes_after_m(head, m, n):\n",
        "\n",
        "  # Move current forward m nodes.\n",
        "  current = head\n",
        "  for _ in range(m):\n",
        "    current = current.next\n",
        "\n",
        "  # if there are enough nodes to delete.\n",
        "  if current is None:\n",
        "    return head\n",
        "\n",
        "  # Iterate over the next n nodes and delete them.\n",
        "  next_node = current.next\n",
        "  for _ in range(n):\n",
        "    if next_node is None:\n",
        "      break\n",
        "    current.next = next_node.next\n",
        "    next_node = current.next\n",
        "\n",
        "  # Return head.\n",
        "  return head\n",
        "\n",
        "  # Time complexity: O(m + n)\n",
        "  # Space complexity: O(1)"
      ],
      "metadata": {
        "id": "FDY44vK1zWqo"
      },
      "execution_count": null,
      "outputs": []
    },
    {
      "cell_type": "markdown",
      "source": [
        "Question 7\n",
        "\n",
        "Given two linked lists, insert nodes of second list into first list at alternate positions of first list. For example, if first list is 5->7->17->13->11 and second is 12->10->2->4->6, the first list should become 5->12->7->10->17->2->13->4->11->6 and second list should become empty. The nodes of second list should only be inserted when there are positions available. For example, if the first list is 1->2->3 and second list is 4->5->6->7->8, then first list should become 1->4->2->5->3->6 and second list to 7->8.\n",
        "Use of extra space is not allowed (Not allowed to create additional nodes), i.e., insertion must be done in-place. Expected time complexity is O(n) where n is number of nodes in first list."
      ],
      "metadata": {
        "id": "Yl9FF0R105RN"
      }
    },
    {
      "cell_type": "code",
      "source": [
        "def insert_alternate_nodes(first_list, second_list):\n",
        "\n",
        "  # Create a pointer to the current node in the first list.\n",
        "  current = first_list\n",
        "\n",
        "  # Iterate over the second list.\n",
        "  for node in second_list:\n",
        "    # if there is a position available, insert the node from the second list.\n",
        "    if current.next is not None:\n",
        "      current.next = node\n",
        "      current = current.next\n",
        "\n",
        "  # Return the new head of the first list.\n",
        "  return first_list\n",
        "\n",
        "  # Time complexity: O(n)\n",
        "  # Space complexity: O(1)"
      ],
      "metadata": {
        "id": "zZstXxJP1dx_"
      },
      "execution_count": null,
      "outputs": []
    },
    {
      "cell_type": "markdown",
      "source": [
        "Question 8\n",
        "\n",
        "Given a singly linked list, find if the linked list is circular or not.\n",
        "A linked list is called circular if it is not NULL-terminated and all nodes are connected in the form of a cycle."
      ],
      "metadata": {
        "id": "ZG2sutQJ1sHw"
      }
    },
    {
      "cell_type": "code",
      "source": [
        "def is_circular(head):\n",
        "\n",
        "  slow = head\n",
        "  fast = head\n",
        "\n",
        "  while fast is not None and fast.next is not None:\n",
        "    slow = slow.next\n",
        "    fast = fast.next.next\n",
        "\n",
        "    # if the fast pointer reaches the end of the linked list, then the linked list is not circular.\n",
        "    if fast is None:\n",
        "      return False\n",
        "\n",
        "    # if fast and slow pointers meet, then the linked list is circular.\n",
        "    if slow == fast:\n",
        "      return True\n",
        "\n",
        "  return False\n",
        "\n",
        "  # Time complexity: O(n)\n",
        "  # Space complexity: O(1)"
      ],
      "metadata": {
        "id": "fS_-QFmBe6Q4"
      },
      "execution_count": null,
      "outputs": []
    }
  ]
}