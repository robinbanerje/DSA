{
  "nbformat": 4,
  "nbformat_minor": 0,
  "metadata": {
    "colab": {
      "provenance": []
    },
    "kernelspec": {
      "name": "python3",
      "display_name": "Python 3"
    },
    "language_info": {
      "name": "python"
    }
  },
  "cells": [
    {
      "cell_type": "markdown",
      "source": [
        "Question 1\n",
        "Given two strings s and t, determine if they are isomorphic.\n",
        "Two strings s and t are isomorphic if the characters in s can be replaced to get t.\n",
        "All occurrences of a character must be replaced with another character while preserving the order of characters. No two characters may map to the same character, but a character may map to itself.\n",
        "Example 1:\n",
        "Input: s = \"egg\", t = \"add\"\n",
        "Output: true"
      ],
      "metadata": {
        "id": "bFIDsMe4ZnSX"
      }
    },
    {
      "cell_type": "code",
      "source": [
        "def isomorphic_strings(s, t):\n",
        "    # Check if the lengths of the strings are different\n",
        "    if len(s) != len(t):\n",
        "        return False\n",
        "    \n",
        "    # Create two dictionaries to track the character mappings\n",
        "    mapping_s = {}\n",
        "    mapping_t = {}\n",
        "    \n",
        "    # Iterate through the characters of the strings\n",
        "    for i in range(len(s)):\n",
        "        char_s = s[i]\n",
        "        char_t = t[i]\n",
        "        \n",
        "        # if the current character in s is already mapped differently or\n",
        "        # the current character in t is already mapped differently, return False\n",
        "        if (char_s in mapping_s and mapping_s[char_s] != char_t) or (char_t in mapping_t and mapping_t[char_t] != char_s):\n",
        "            return False\n",
        "        \n",
        "        # Add the character mappings to the dictionaries\n",
        "        mapping_s[char_s] = char_t\n",
        "        mapping_t[char_t] = char_s\n",
        "    \n",
        "    # if we haven't returned False by now, the strings are isomorphic\n",
        "    return True\n",
        "\n",
        "\n",
        "# time complexity = O(n)\n",
        "# space complexity = O(n)"
      ],
      "metadata": {
        "id": "hfs0jbyIa0rl"
      },
      "execution_count": null,
      "outputs": []
    },
    {
      "cell_type": "markdown",
      "source": [
        "Question 2\n",
        "Given a string num which represents an integer, return true if num is a strobogrammatic number.\n",
        "A strobogrammatic number is a number that looks the same when rotated 180 degrees (looked at upside down).\n",
        "Example 1:\n",
        "Input: num = \"69\"\n",
        "Output:\n",
        "true"
      ],
      "metadata": {
        "id": "rH0FjjQubExs"
      }
    },
    {
      "cell_type": "code",
      "source": [
        "def is_strobogrammatic(num):\n",
        "\n",
        "  # Check if the number is empty.\n",
        "  if len(num) == 0:\n",
        "    return False\n",
        "\n",
        "  # Create a map of valid strobogrammatic digits.\n",
        "  valid_digits = {'0': '0', '1': '1', '6': '9', '9': '6', '8': '8'}\n",
        "\n",
        "  # Check if each digit in the number is valid.\n",
        "  for digit in num:\n",
        "    if digit not in valid_digits:\n",
        "      return False\n",
        "\n",
        "  # Reverse the number and check if it is equal to the original number.\n",
        "  reversed_num = num[::-1]\n",
        "  return reversed_num == num\n",
        "\n",
        "# Time complexity: O(n)\n",
        "# Space complexity: O(1)"
      ],
      "metadata": {
        "id": "Vlm4qICRc0ui"
      },
      "execution_count": null,
      "outputs": []
    },
    {
      "cell_type": "markdown",
      "source": [
        "Question 3\n",
        "Given two non-negative integers, num1 and num2 represented as string, return the sum of num1 and num2 as a string.\n",
        "You must solve the problem without using any built-in library for handling large integers (such as BigInteger). You must also not convert the inputs to integers directly.\n",
        "Example 1:\n",
        "Input: num1 = \"11\", num2 = \"123\"\n",
        "Output: \"134\""
      ],
      "metadata": {
        "id": "pzeF4r4FdUbY"
      }
    },
    {
      "cell_type": "code",
      "source": [
        "def add_strings(num1, num2):\n",
        "    # Initialize variables to store the length of the strings and the carry value\n",
        "    len1 = len(num1)\n",
        "    len2 = len(num2)\n",
        "    carry = 0\n",
        "    \n",
        "    # Initialize an empty string to store the result\n",
        "    result = ''\n",
        "    \n",
        "    # Traverse the strings from right to left\n",
        "    while len1 > 0 or len2 > 0 or carry > 0:\n",
        "        # Get the digits at the current positions\n",
        "        digit1 = int(num1[len1 - 1]) if len1 > 0 else 0\n",
        "        digit2 = int(num2[len2 - 1]) if len2 > 0 else 0\n",
        "        \n",
        "        # Calculate the sum of the digits and the carry value\n",
        "        current_sum = digit1 + digit2 + carry\n",
        "        carry = current_sum // 10\n",
        "        current_sum %= 10\n",
        "        \n",
        "        # Prepend the current digit to the result string\n",
        "        result = str(current_sum) + result\n",
        "        \n",
        "        # Move to the next positions\n",
        "        len1 -= 1\n",
        "        len2 -= 1\n",
        "    \n",
        "    # Return the result string\n",
        "    return result\n",
        "\n",
        "# time complexity = O(max(m, n)), where m and n are the lengths of num1 and num2 respectively\n",
        "# space complexity = O(max(m, n)), where m and n are the lengths of num1 and num2 respectively"
      ],
      "metadata": {
        "id": "W2PQ7Aibesp8"
      },
      "execution_count": null,
      "outputs": []
    },
    {
      "cell_type": "markdown",
      "source": [
        "Question 4\n",
        "Given a string s, reverse the order of characters in each word within a sentence while still preserving whitespace and initial word order.\n",
        "Example 1:\n",
        "Input: s = \"Let's take LeetCode contest\"\n",
        "Output: \"s'teL ekat edoCteeL tsetnoc\""
      ],
      "metadata": {
        "id": "FETQlfs0fDGt"
      }
    },
    {
      "cell_type": "code",
      "source": [
        "def reverse_words(s):\n",
        "    # Split the sentence into individual words\n",
        "    words = s.split()\n",
        "    \n",
        "    # Reverse each word in the list\n",
        "    reversed_words = [word[::-1] for word in words]\n",
        "    \n",
        "    # Join the reversed words back into a sentence\n",
        "    result = ' '.join(reversed_words)\n",
        "    \n",
        "    # Return the result\n",
        "    return result\n",
        "\n",
        "# time complexity = O(n)\n",
        "# space complexity = O(n)"
      ],
      "metadata": {
        "id": "QwZIxtf4fiDp"
      },
      "execution_count": null,
      "outputs": []
    },
    {
      "cell_type": "markdown",
      "source": [
        "Question 5\n",
        "Given a string s and an integer k, reverse the first k characters for every 2k characters counting from the start of the string.\n",
        "If there are fewer than k characters left, reverse all of them. If there are less than 2k but greater than or equal to k characters, then reverse the first k characters and leave the other as original.\n",
        "Example 1:\n",
        "Input: s = \"abcdefg\", k = 2\n",
        "Output: \"bacdfeg\""
      ],
      "metadata": {
        "id": "5XeFDb-ef5a6"
      }
    },
    {
      "cell_type": "code",
      "source": [
        "def reverse_string(s, k):\n",
        "    # Convert the string into a list of characters\n",
        "    s = list(s)\n",
        "    \n",
        "    # Iterate through the string in steps of 2k\n",
        "    for i in range(0, len(s), 2 * k):\n",
        "        # Reverse the first k characters\n",
        "        s[i:i+k] = reversed(s[i:i+k])\n",
        "    \n",
        "    # Convert the list back to a string\n",
        "    result = ''.join(s)\n",
        "    \n",
        "    # Return the result\n",
        "    return result\n",
        "\n",
        "# time complexity of O(n)\n",
        "# space complexity of O(n)"
      ],
      "metadata": {
        "id": "YC-Vtl5Cgy_5"
      },
      "execution_count": null,
      "outputs": []
    },
    {
      "cell_type": "markdown",
      "source": [
        "Question 6\n",
        "Given two strings s and goal, return true if and only if s can become goal after some number of shifts on s.\n",
        "A shift on s consists of moving the leftmost character of s to the rightmost position.\n",
        "For example, if s = \"abcde\", then it will be \"bcdea\" after one shift.\n",
        "Example 1:\n",
        "Input: s = \"abcde\", goal = \"cdeab\"\n",
        "Output: true"
      ],
      "metadata": {
        "id": "j8cQpsw4g_Ti"
      }
    },
    {
      "cell_type": "code",
      "source": [
        "def can_shift_string(s, goal):\n",
        "    # Check if the lengths of s and goal are different\n",
        "    if len(s) != len(goal):\n",
        "        return False\n",
        "    \n",
        "    # Concatenate s with itself\n",
        "    s_concat = s + s\n",
        "    \n",
        "    # Check if goal is a substring of s_concat\n",
        "    if goal in s_concat:\n",
        "        return True\n",
        "    \n",
        "    # If goal is not a substring, s cannot become goal after any number of shifts\n",
        "    return False\n",
        "\n",
        "# time complexity = O(n)\n",
        "# space complexity = O(n)"
      ],
      "metadata": {
        "id": "IdNRUvkXhXW5"
      },
      "execution_count": null,
      "outputs": []
    },
    {
      "cell_type": "markdown",
      "source": [
        "Question 7\n",
        "Given two strings s and t, return true if they are equal when both are typed into empty text editors. '#' means a backspace character.\n",
        "Note that after backspacing an empty text, the text will continue empty.\n",
        "Example 1:\n",
        "Input: s = \"ab#c\", t = \"ad#c\"\n",
        "Output: true\n",
        "Explanation: Both s and t become \"ac\""
      ],
      "metadata": {
        "id": "0-mqq8tVh_5B"
      }
    },
    {
      "cell_type": "code",
      "source": [
        "def is_equal_after_backspaces(s, t):\n",
        "\n",
        "  # Initialize the result boolean.\n",
        "  result = True\n",
        "\n",
        "  # Initialize the iterators for the two strings.\n",
        "  i = j = 0\n",
        "\n",
        "  # Loop through the two strings.\n",
        "  while i < len(s) and j < len(t):\n",
        "    # If the current character is not a backspace, compare the two characters.\n",
        "    if s[i] != '#' and t[j] != '#':\n",
        "      if s[i] != t[j]:\n",
        "        result = False\n",
        "        break\n",
        "    \n",
        "    # If the current character is a backspace, move the iterator forward for the corresponding string.\n",
        "    elif s[i] == '#':\n",
        "      i += 1\n",
        "    elif t[j] == '#':\n",
        "      j += 1\n",
        "\n",
        "  # If the two strings are not equal, return False.\n",
        "  if not result:\n",
        "    return False\n",
        "\n",
        "  # If one of the strings is shorter than the other, return False.\n",
        "  if i < len(s) or j < len(t):\n",
        "    return False\n",
        "\n",
        "  # Return True if the two strings are equal.\n",
        "  return True\n",
        "\n",
        "# Time complexity: O(m + n), where m and n are the lengths of the two strings\n",
        "# Space complexity: O(1)"
      ],
      "metadata": {
        "id": "IRHJl8VdjNnr"
      },
      "execution_count": null,
      "outputs": []
    },
    {
      "cell_type": "markdown",
      "source": [
        "Question 8\n",
        "You are given an array coordinates, coordinates[i] = [x, y], where [x, y] represents the coordinate of a point. Check if these points make a straight line in the XY plane.\n",
        "Example 1: \n",
        "Input: coordinates = [[1,2],[2,3],[3,4],[4,5],[5,6],[6,7]]\n",
        "Output: true"
      ],
      "metadata": {
        "id": "CkLvQFDXjcRp"
      }
    },
    {
      "cell_type": "code",
      "source": [
        "def are_points_on_straight_line(coordinates):\n",
        "\n",
        "  # Initialize the result boolean.\n",
        "  result = True\n",
        "\n",
        "  # if there are at least two points, then only slope can be calculated\n",
        "  if len(coordinates) < 2:\n",
        "    return False\n",
        "\n",
        "  # Calculate the slope of the line.\n",
        "  slope = (coordinates[1][1] - coordinates[0][1]) / (coordinates[1][0] - coordinates[0][0])\n",
        "\n",
        "  # if all the points have the same slope, then return True in the end\n",
        "  for i in range(2, len(coordinates)):\n",
        "    if (coordinates[i][1] - coordinates[i - 1][1]) / (coordinates[i][0] - coordinates[i - 1][0]) != slope:\n",
        "      result = False\n",
        "      break\n",
        "\n",
        "  return result\n",
        "\n",
        "# Time complexity: O(n)\n",
        "# Space complexity: O(1)"
      ],
      "metadata": {
        "id": "i1cc02pKjoYa"
      },
      "execution_count": null,
      "outputs": []
    }
  ]
}