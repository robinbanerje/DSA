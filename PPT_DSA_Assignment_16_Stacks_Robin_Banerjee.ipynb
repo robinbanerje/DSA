{
  "nbformat": 4,
  "nbformat_minor": 0,
  "metadata": {
    "colab": {
      "provenance": []
    },
    "kernelspec": {
      "name": "python3",
      "display_name": "Python 3"
    },
    "language_info": {
      "name": "python"
    }
  },
  "cells": [
    {
      "cell_type": "markdown",
      "source": [
        "Question 1\n",
        "\n",
        "Given an array, for each element find the value of the nearest element to the right which is having a frequency greater than that of the current element. If there does not exist an answer for a position, then make the value ‘-1’.\n",
        "\n",
        "Examples 1:\n",
        "Input: a[] = [1, 1, 2, 3, 4, 2, 1]\n",
        "Output : [-1, -1, 1, 2, 2, 1, -1]\n",
        "\n",
        "Explanation:\n",
        "Given array a[] = [1, 1, 2, 3, 4, 2, 1]\n",
        "Frequency of each element is: 3, 3, 2, 1, 1, 2, 3\n",
        "\n",
        "Lets calls Next Greater Frequency element as NGF\n",
        "1. For element a[0] = 1 which has a frequency = 3,\n",
        "   As it has frequency of 3 and no other next element\n",
        "   has frequency more than 3 so  '-1'\n",
        "2. For element a[1] = 1 it will be -1 same logic\n",
        "   like a[0]\n",
        "3. For element a[2] = 2 which has frequency = 2,\n",
        "   NGF element is 1 at position = 6  with frequency\n",
        "   of 3 > 2\n",
        "4. For element a[3] = 3 which has frequency = 1,\n",
        "   NGF element is 2 at position = 5 with frequency\n",
        "   of 2 > 1\n",
        "5. For element a[4] = 4 which has frequency = 1,\n",
        "   NGF element is 2 at position = 5 with frequency\n",
        "   of 2 > 1\n",
        "6. For element a[5] = 2 which has frequency = 2,\n",
        "   NGF element is 1 at position = 6 with frequency\n",
        "   of 3 > 2\n",
        "7. For element a[6] = 1 there is no element to its\n",
        "   right, hence -1\n",
        "\n",
        "Examples 2:\n",
        "Input : a[] = [1, 1, 1, 2, 2, 2, 2, 11, 3, 3]\n",
        "Output : [2, 2, 2, -1, -1, -1, -1, 3, -1, -1]"
      ],
      "metadata": {
        "id": "bcKP1SCC0GcS"
      }
    },
    {
      "cell_type": "code",
      "source": [
        "def find_nearest_greater_frequency(arr):\n",
        "    frequency = {}  # Dictionary to store the frequency of elements\n",
        "    stack = []  # Stack to store the indices of elements with increasing frequencies\n",
        "    result = [-1] * len(arr)  # Initialize result array with -1\n",
        "\n",
        "    # Calculate the frequency of each element in the array\n",
        "    for num in arr:\n",
        "        frequency[num] = frequency.get(num, 0) + 1\n",
        "\n",
        "    # Traverse the array from right to left\n",
        "    for i in range(len(arr) - 1, -1, -1):\n",
        "        current_frequency = frequency[arr[i]]  # Frequency of current element\n",
        "\n",
        "        # Remove the indices from the stack whose frequencies are less than or equal to current frequency\n",
        "        while stack and frequency[arr[stack[-1]]] <= current_frequency:\n",
        "            stack.pop()\n",
        "\n",
        "        if stack:\n",
        "            result[i] = arr[stack[-1]]  # Assign the nearest element with greater frequency\n",
        "        stack.append(i)  # Push the current index onto the stack\n",
        "\n",
        "    return result\n",
        "\n",
        "# time complexity: O(n)\n",
        "# space complexity: O(n)"
      ],
      "metadata": {
        "id": "mLHnVkazBqsq"
      },
      "execution_count": null,
      "outputs": []
    },
    {
      "cell_type": "markdown",
      "source": [
        "Question 2\n",
        "\n",
        "Given a stack of integers, sort it in ascending order using another temporary stack.\n",
        "\n",
        "Examples:\n",
        "\n",
        "Input : [34, 3, 31, 98, 92, 23]\n",
        "Output : [3, 23, 31, 34, 92, 98]\n",
        "\n",
        "Input : [3, 5, 1, 4, 2, 8]\n",
        "Output : [1, 2, 3, 4, 5, 8]"
      ],
      "metadata": {
        "id": "EaXZuzYaD76V"
      }
    },
    {
      "cell_type": "code",
      "source": [
        "def sort_stack(stack):\n",
        "    aux_stack = []  # Auxiliary stack to store the sorted elements\n",
        "\n",
        "    while stack:\n",
        "        temp = stack.pop()  # Pop an element from the original stack\n",
        "\n",
        "        # Move the elements from the auxiliary stack to the original stack\n",
        "        while aux_stack and aux_stack[-1] > temp:\n",
        "            stack.append(aux_stack.pop())\n",
        "\n",
        "        aux_stack.append(temp)  # Push the current element to the auxiliary stack\n",
        "\n",
        "    # Reverse the elements from the auxiliary stack to get the sorted stack\n",
        "    while aux_stack:\n",
        "        stack.append(aux_stack.pop())\n",
        "\n",
        "    return stack\n",
        "\n",
        "# time complexity: O(n^2)\n",
        "# space complexity is O(n)"
      ],
      "metadata": {
        "id": "g-KKsJFgEnWk"
      },
      "execution_count": null,
      "outputs": []
    },
    {
      "cell_type": "markdown",
      "source": [
        "Question 3\n",
        "\n",
        "Given a stack with push(), pop(), and empty() operations, The task is to delete the middle element of it without using any additional data structure.\n",
        "\n",
        "Examples:\n",
        "\n",
        "Input  : Stack[] = [1, 2, 3, 4, 5]\n",
        "Output : Stack[] = [1, 2, 4, 5]\n",
        "\n",
        "Input  : Stack[] = [1, 2, 3, 4, 5, 6]\n",
        "Output : Stack[] = [1, 2, 4, 5, 6]"
      ],
      "metadata": {
        "id": "WZXpaRJzFBiL"
      }
    },
    {
      "cell_type": "code",
      "source": [
        "def delete_middle(stack):\n",
        "\n",
        "  if stack.empty():\n",
        "    return\n",
        "\n",
        "  # Initialize two pointers, top and mid.\n",
        "  top = stack[-1]\n",
        "  mid = stack[0]\n",
        "\n",
        "  # Iterate through the stack until mid reaches the middle element.\n",
        "  while mid != top:\n",
        "    temp = stack.pop(0)\n",
        "    stack.append(temp)\n",
        "    mid = stack[0]\n",
        "\n",
        "  # Pop the middle element.\n",
        "  stack.pop(0)\n",
        "\n",
        "  return stack\n",
        "\n",
        "# time complexity: O(n)\n",
        "# space complexity: O(1)"
      ],
      "metadata": {
        "id": "LkHf6B0eFikX"
      },
      "execution_count": null,
      "outputs": []
    },
    {
      "cell_type": "markdown",
      "source": [
        "Question 4\n",
        "\n",
        "Given a Queue consisting of first n natural numbers (in random order). The task is to check whether the given Queue elements can be arranged in increasing order in another Queue using a stack. The operation allowed are:\n",
        "-\tPush and pop elements from the stack\n",
        "-\tPop (Or Dequeue) from the given Queue.\n",
        "-\tPush (Or Enqueue) in the another Queue.\n",
        "\n",
        "Examples :\n",
        "\n",
        "Input : Queue[] = { 5, 1, 2, 3, 4 }\n",
        "Output : Yes\n",
        "Pop the first element of the given Queue\n",
        "i.e 5. Push 5 into the stack.\n",
        "Now, pop all the elements of the given Queue and push them to second Queue.\n",
        "Now, pop element 5 in the stack and push it to the second Queue.\n",
        "\n",
        "Input : Queue[] = { 5, 1, 2, 6, 3, 4 }\n",
        "Output : No\n",
        "Push 5 to stack.\n",
        "Pop 1, 2 from given Queue and push it to another Queue.\n",
        "Pop 6 from given Queue and push to stack.\n",
        "Pop 3, 4 from given Queue and push to second Queue.\n",
        "Now, from using any of above operation, we cannot push 5 into the second Queue because it is below the 6 in the stack."
      ],
      "metadata": {
        "id": "vpSvgIuAIAOp"
      }
    },
    {
      "cell_type": "code",
      "source": [
        "def check_queue(queue):\n",
        "\n",
        "  stack = []\n",
        "  next_element = 1\n",
        "\n",
        "  while queue:\n",
        "    element = queue.pop(0)\n",
        "\n",
        "    # If the element is less than or equal to the next element, then push it onto the stack.\n",
        "    if element <= next_element:\n",
        "      stack.append(element)\n",
        "    else:\n",
        "      # If the element is greater than the next element, then the queue cannot be arranged in increasing order.\n",
        "      return False\n",
        "\n",
        "    # Update the next element.\n",
        "    next_element = element + 1\n",
        "\n",
        "  # If the stack is empty, then the queue can be arranged in increasing order.\n",
        "  return stack == []\n",
        "\n",
        "# time complexity: O(n)\n",
        "# space complexity: O(n)"
      ],
      "metadata": {
        "id": "C3ZKFwlJJlc9"
      },
      "execution_count": null,
      "outputs": []
    },
    {
      "cell_type": "markdown",
      "source": [
        "Question 5\n",
        "\n",
        "Given a number , write a program to reverse this number using stack.\n",
        "\n",
        "Examples:\n",
        "\n",
        "Input : 365\n",
        "Output : 563\n",
        "\n",
        "Input : 6899\n",
        "Output : 9986"
      ],
      "metadata": {
        "id": "3gCkjys1OylA"
      }
    },
    {
      "cell_type": "code",
      "source": [
        "def reverse_number(num):\n",
        "    stack = []  # Create an empty stack to store digits\n",
        "\n",
        "    # Convert the number to a string and push each digit onto the stack\n",
        "    for digit in str(num):\n",
        "        stack.append(digit)\n",
        "\n",
        "    reversed_num = \"\"  # Initialize an empty string to store reversed number\n",
        "\n",
        "    # Pop each digit from the stack and append it to the reversed_num string\n",
        "    while stack:\n",
        "        reversed_num += stack.pop()\n",
        "\n",
        "    return int(reversed_num)\n",
        "\n",
        "time complexity: O(n)\n",
        "space complexity: O(n)"
      ],
      "metadata": {
        "id": "zAnebO64RuFp"
      },
      "execution_count": null,
      "outputs": []
    },
    {
      "cell_type": "markdown",
      "source": [
        "Question 6\n",
        "\n",
        "Given an integer k and a queue of integers, The task is to reverse the order of the first k elements of the queue, leaving the other elements in the same relative order.\n",
        "\n",
        "Only following standard operations are allowed on queue.\n",
        "-\tenqueue(x) : Add an item x to rear of queue\n",
        "-\tdequeue() : Remove an item from front of queue\n",
        "-\tsize() : Returns number of elements in queue.\n",
        "-\tfront() : Finds front item."
      ],
      "metadata": {
        "id": "T-5FjjYATaze"
      }
    },
    {
      "cell_type": "code",
      "source": [
        "from queue import Queue\n",
        "\n",
        "def reverse_first_k(queue, k):\n",
        "    if k <= 0 or k > queue.qsize():\n",
        "        return queue\n",
        "\n",
        "    stack = []  # Create an empty stack to temporarily store the first k elements\n",
        "\n",
        "    # Dequeue the first k elements from the queue and push them onto the stack\n",
        "    for i in range(k):\n",
        "        stack.append(queue.get())\n",
        "\n",
        "    # Enqueue the elements from the stack back into the queue\n",
        "    while stack:\n",
        "        queue.put(stack.pop())\n",
        "\n",
        "    # Move the remaining elements (after k) to the rear of the queue\n",
        "    for i in range(queue.qsize() - k):\n",
        "        queue.put(queue.get())\n",
        "\n",
        "    return queue\n",
        "\n",
        "# time complexity: O(k + (n - k)) or O(n)\n",
        "# space complexity: O(k), stack temporarily stores only the first k elements"
      ],
      "metadata": {
        "id": "xKmUoWUcUV1g"
      },
      "execution_count": null,
      "outputs": []
    },
    {
      "cell_type": "markdown",
      "source": [
        "Question 7\n",
        "\n",
        "Given a sequence of n strings, the task is to check if any two similar words come together and then destroy each other then print the number of words left in the sequence after this pairwise destruction.\n",
        "\n",
        "Examples:\n",
        "Input : ab aa aa bcd ab\n",
        "Output : 3\n",
        "As aa, aa destroys each other so,\n",
        "ab bcd ab is the new sequence.\n",
        "\n",
        "Input :  tom jerry jerry tom\n",
        "Output : 0\n",
        "As first both jerry will destroy each other.\n",
        "Then sequence will be tom, tom they will also destroy\n",
        "each other. So, the final sequence doesn’t contain any\n",
        "word."
      ],
      "metadata": {
        "id": "sD1fdPGNWOCm"
      }
    },
    {
      "cell_type": "code",
      "source": [
        "def count_words_after_destruction(sequence):\n",
        "    stack = []  # Create an empty stack to store the words\n",
        "\n",
        "    for word in sequence:\n",
        "        if stack and stack[-1] == word:\n",
        "            stack.pop()  # Destroy the similar words\n",
        "        else:\n",
        "            stack.append(word)  # Add the word to the stack\n",
        "\n",
        "    return len(stack)\n",
        "\n",
        "# time complexity: O(n)\n",
        "# space complexity: O(n)"
      ],
      "metadata": {
        "id": "LebJHIb3W4JO"
      },
      "execution_count": null,
      "outputs": []
    },
    {
      "cell_type": "markdown",
      "source": [
        "Question 8\n",
        "\n",
        "Given an array of integers, the task is to find the maximum absolute difference between the nearest left and the right smaller element of every element in the array.\n",
        "Note: If there is no smaller element on right side or left side of any element then we take zero as the smaller element. For example for the leftmost element, the nearest smaller element on the left side is considered as 0. Similarly, for rightmost elements, the smaller element on the right side is considered as 0.\n",
        "\n",
        "Examples:\n",
        "\n",
        "Input : arr[] = {2, 1, 8}\n",
        "Output : 1\n",
        "Left smaller  LS[] {0, 0, 1}\n",
        "Right smaller RS[] {1, 0, 0}\n",
        "Maximum Diff of abs(LS[i] - RS[i]) = 1\n",
        "\n",
        "Input  : arr[] = {2, 4, 8, 7, 7, 9, 3}\n",
        "Output : 4\n",
        "Left smaller   LS[] = {0, 2, 4, 4, 4, 7, 2}\n",
        "Right smaller  RS[] = {0, 3, 7, 3, 3, 3, 0}\n",
        "Maximum Diff of abs(LS[i] - RS[i]) = 7 - 3 = 4\n",
        "\n",
        "Input : arr[] = {5, 1, 9, 2, 5, 1, 7}\n",
        "Output : 1"
      ],
      "metadata": {
        "id": "Z3YoEnjPXf0G"
      }
    },
    {
      "cell_type": "code",
      "source": [
        "def max_absolute_difference(arr):\n",
        "    n = len(arr)\n",
        "    left_smaller = []  # stack for finding nearest smaller element on the left\n",
        "    right_smaller = []  # stack for finding nearest smaller element on the right\n",
        "    max_diff = 0\n",
        "\n",
        "    # Iterate from left to right to populate the left_smaller stack\n",
        "    for i in range(n):\n",
        "        # Remove elements from left_smaller stack that are greater than or equal to current element\n",
        "        while left_smaller and left_smaller[-1] >= arr[i]:\n",
        "            left_smaller.pop()\n",
        "\n",
        "        if left_smaller:\n",
        "            # Calculate the absolute difference between the nearest smaller element on the left and the current element\n",
        "            max_diff = max(max_diff, abs(left_smaller[-1] - arr[i]))\n",
        "        else:\n",
        "            # If there is no smaller element on the left, consider the current element itself as the smaller element\n",
        "            max_diff = max(max_diff, arr[i])\n",
        "\n",
        "        left_smaller.append(arr[i])  # Push the current element to the left_smaller stack\n",
        "\n",
        "    # Clear the left_smaller stack\n",
        "    left_smaller.clear()\n",
        "\n",
        "    # Iterate from right to left to populate the right_smaller stack\n",
        "    for i in range(n - 1, -1, -1):\n",
        "        # Remove elements from right_smaller stack that are greater than or equal to current element\n",
        "        while right_smaller and right_smaller[-1] >= arr[i]:\n",
        "            right_smaller.pop()\n",
        "\n",
        "        if right_smaller:\n",
        "            # Calculate the absolute difference between the nearest smaller element on the right and the current element\n",
        "            max_diff = max(max_diff, abs(right_smaller[-1] - arr[i]))\n",
        "        else:\n",
        "            # If there is no smaller element on the right, consider the current element itself as the smaller element\n",
        "            max_diff = max(max_diff, arr[i])\n",
        "\n",
        "        right_smaller.append(arr[i])  # Push the current element to the right_smaller stack\n",
        "\n",
        "    return max_diff\n",
        "\n",
        "# time complexity: O(n)\n",
        "# space complexity: O(n)"
      ],
      "metadata": {
        "id": "3xdro6_5YwBG"
      },
      "execution_count": null,
      "outputs": []
    }
  ]
}