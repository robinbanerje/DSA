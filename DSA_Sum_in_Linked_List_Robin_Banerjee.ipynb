{
  "nbformat": 4,
  "nbformat_minor": 0,
  "metadata": {
    "colab": {
      "provenance": []
    },
    "kernelspec": {
      "name": "python3",
      "display_name": "Python 3"
    },
    "language_info": {
      "name": "python"
    }
  },
  "cells": [
    {
      "cell_type": "markdown",
      "source": [
        "You are given two non-empty linked lists representing two non-negative integers. The digits are stored in reverse order, and each of their nodes contains a single digit. Add the two numbers and return the sum as a linked list.\n",
        "\n",
        "You may assume the two numbers do not contain any leading zero, except the number 0 itself.\n",
        "\n",
        "\n",
        "Example 1:\n",
        "\n",
        "Input: l1 = [2,4,3], l2 = [5,6,4] Output: [7,0,8] Explanation: 342 + 465 = 807.\n",
        "\n",
        "Example 2:\n",
        "\n",
        "Input: l1 = [0], l2 = [0] Output: [0]\n",
        "\n",
        "Example 3:\n",
        "\n",
        "Input: l1 = [9,9,9,9,9,9,9], l2 = [9,9,9,9] Output: [8,9,9,9,0,0,0,1]\n",
        "\n",
        "\n",
        "\n",
        "Constraints:\n",
        "\n",
        "The number of nodes in each linked list is in the range [1, 100].\n",
        "0 <= Node.val <= 9 It is guaranteed that the list represents a number that does not have leading zeros."
      ],
      "metadata": {
        "id": "vfQa0PTFZkaf"
      }
    },
    {
      "cell_type": "code",
      "source": [
        "class ListNode:\n",
        "    def __init__(self, data=0, next=None):\n",
        "        self.data = data\n",
        "        self.next = next\n",
        "\n",
        "\n",
        "def add_linked_lists(l1, l2):\n",
        "\n",
        "  # initialize the result linked list\n",
        "  result = None\n",
        "\n",
        "  # initialize the carry\n",
        "  carry = 0\n",
        "\n",
        "  # iterate over the linked lists, adding the digits and carry\n",
        "  while l1 is not None or l2 is not None:\n",
        "\n",
        "    # get the current digits from the linked lists\n",
        "    digit1 = l1.data if l1 is not None else 0\n",
        "    digit2 = l2.data if l2 is not None else 0\n",
        "\n",
        "    # add the digits and carry\n",
        "    sum_digit = digit1 + digit2 + carry\n",
        "\n",
        "    # set the carry\n",
        "    carry = sum_digit // 10\n",
        "\n",
        "    # create a new node for the result linked list\n",
        "    node = ListNode(sum_digit % 10)\n",
        "\n",
        "    # link the node to the result linked list\n",
        "    node.next = result\n",
        "    result = node\n",
        "\n",
        "    # move to the next node in the linked lists\n",
        "    l1 = l1.next if l1 is not None else None\n",
        "    l2 = l2.next if l2 is not None else None\n",
        "\n",
        "  # if there is any carry left over\n",
        "  if carry > 0:\n",
        "\n",
        "    # create a new node for the result linked list\n",
        "    node = ListNode(carry)\n",
        "\n",
        "    # link the node to the result linked list\n",
        "    node.next = result\n",
        "    result = node\n",
        "\n",
        "  # return the result linked list\n",
        "  return result\n",
        "\n",
        "# time complexity: O(max(m, n)), where m and n are the lengths of the linked lists\n",
        "# space complexity: O(max(m, n)), where m and n are the lengths of the linked lists"
      ],
      "metadata": {
        "id": "htNb_P81ZzC3"
      },
      "execution_count": null,
      "outputs": []
    }
  ]
}