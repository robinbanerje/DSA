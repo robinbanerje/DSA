{
  "nbformat": 4,
  "nbformat_minor": 0,
  "metadata": {
    "colab": {
      "provenance": []
    },
    "kernelspec": {
      "name": "python3",
      "display_name": "Python 3"
    },
    "language_info": {
      "name": "python"
    }
  },
  "cells": [
    {
      "cell_type": "markdown",
      "source": [
        "Question 1\n",
        "A permutation perm of n + 1 integers of all the integers in the range [0, n] can be represented as a string s of length n where:\n",
        "•\ts[i] == 'I' if perm[i] < perm[i + 1], and\n",
        "•\ts[i] == 'D' if perm[i] > perm[i + 1].\n",
        "Given a string s, reconstruct the permutation perm and return it. If there are multiple valid permutations perm, return any of them.\n",
        "Example 1:\n",
        "Input: s = \"IDID\"\n",
        "Output: [0,4,1,3,2]"
      ],
      "metadata": {
        "id": "XsRRn32UgciG"
      }
    },
    {
      "cell_type": "code",
      "source": [
        "def reconstructPermutation(s):\n",
        "    n = len(s)              # length of input string 's'\n",
        "    perm = []               # empty list to store reconstructed permutation\n",
        "    nums = list(range(n + 1))   # list of numbers from 0 to n+1\n",
        "\n",
        "    for char in s:\n",
        "        if char == 'I':\n",
        "            perm.append(nums.pop(0))   # If the character is 'I', remove the first number from 'nums' and append it to 'perm'\n",
        "        else:\n",
        "            perm.append(nums.pop())   # If the character is 'D', remove the last number from 'nums' and append it to 'perm'\n",
        "\n",
        "    # append the remaining number from 'nums' list to permutation\n",
        "    perm.append(nums[0])\n",
        "\n",
        "    return perm\n",
        "\n",
        "# time complexity = O(n)\n",
        "# space complexity = O(n)\n",
        "\n",
        "# Example:\n",
        "s = \"IDID\"\n",
        "result = reconstructPermutation(s)\n",
        "print(result)  # Output: [0, 4, 1, 3, 2]"
      ],
      "metadata": {
        "colab": {
          "base_uri": "https://localhost:8080/"
        },
        "id": "32_jeacehT1g",
        "outputId": "f8e945e1-8284-43cd-abe4-620c5cca495e"
      },
      "execution_count": 10,
      "outputs": [
        {
          "output_type": "stream",
          "name": "stdout",
          "text": [
            "[0, 4, 1, 3, 2]\n"
          ]
        }
      ]
    },
    {
      "cell_type": "markdown",
      "source": [
        "Question 2\n",
        "You are given an m x n integer matrix matrix with the following two properties:\n",
        "•\tEach row is sorted in non-decreasing order.\n",
        "•\tThe first integer of each row is greater than the last integer of the previous row.\n",
        "Given an integer target, return true if target is in matrix or false otherwise.\n",
        "You must write a solution in O(log(m * n)) time complexity.\n",
        "Example 1:\n",
        "Input: matrix = [[1,3,5,7],[10,11,16,20],[23,30,34,60]], target = 3\n",
        "Output: true\n",
        "Input: matrix = [[1,3,5,7],[10,11,16,20],[23,30,34,60]], target = 3\n",
        "Output: true"
      ],
      "metadata": {
        "id": "MCqr1B1zmI1V"
      }
    },
    {
      "cell_type": "code",
      "source": [
        "def searchMatrix(matrix, target):\n",
        "    m = len(matrix)     # Number of rows\n",
        "    n = len(matrix[0])  # Number of columns\n",
        "\n",
        "    left = 0            # Left pointer for binary search\n",
        "    right = m * n - 1   # Right pointer for binary search\n",
        "\n",
        "    # Perform binary search until the left and right pointers meet\n",
        "    while left <= right:\n",
        "        mid = (left + right) // 2  # Calculate the middle index\n",
        "\n",
        "        # Convert the 1D middle index to 2D indices\n",
        "        row = mid // n\n",
        "        col = mid % n\n",
        "\n",
        "        if matrix[row][col] == target:\n",
        "            return True   # Target found, return True\n",
        "        elif matrix[row][col] < target:\n",
        "            left = mid + 1   # Target is in the right half, update the left pointer\n",
        "        else:\n",
        "            right = mid - 1  # Target is in the left half, update the right pointer\n",
        "\n",
        "    return False   # Target not found\n",
        "\n",
        "# time complexity = O(log(m * n))\n",
        "# space complexity = O(1)\n",
        "\n",
        "# Example:\n",
        "matrix = [[1, 3, 5, 7], [10, 11, 16, 20], [23, 30, 34, 60]]\n",
        "target = 3\n",
        "result = searchMatrix(matrix, target)\n",
        "print(result)  # Output: True"
      ],
      "metadata": {
        "colab": {
          "base_uri": "https://localhost:8080/"
        },
        "id": "ppLu8O06TIEB",
        "outputId": "39c06591-d0ba-4b10-a374-82ce44743020"
      },
      "execution_count": 1,
      "outputs": [
        {
          "output_type": "stream",
          "name": "stdout",
          "text": [
            "True\n"
          ]
        }
      ]
    },
    {
      "cell_type": "markdown",
      "source": [
        "Question 3\n",
        "Given an array of integers arr, return true if and only if it is a valid mountain array.\n",
        "Recall that arr is a mountain array if and only if:\n",
        "\n",
        "arr.length >= 3\n",
        "\n",
        "There exists some i with 0 < i < arr.length - 1 such that: \n",
        "  -\tarr[0] < arr[1] < ... < arr[i - 1] < arr[i]\n",
        "  -\tarr[i] > arr[i + 1] > ... > arr[arr.length – 1]\n",
        "\n",
        "Example 1:\n",
        "Input: arr = [2,1]\n",
        "Output: false"
      ],
      "metadata": {
        "id": "icOYg7BbTNe-"
      }
    },
    {
      "cell_type": "code",
      "source": [
        "def validMountainArray(arr):\n",
        "    n = len(arr)\n",
        "    \n",
        "    # if the array length is less than 3, invalid\n",
        "    if n < 3:\n",
        "        return False\n",
        "    \n",
        "    # Look for the peak element, by traversing up the mountain\n",
        "    i = 0\n",
        "    while i < n - 1 and arr[i] < arr[i + 1]:\n",
        "        i += 1\n",
        "    \n",
        "    # if the peak element is at the start or end, invalid\n",
        "    if i == 0 or i == n - 1:\n",
        "        return False\n",
        "    \n",
        "    # traverse down the mountain\n",
        "    while i < n - 1 and arr[i] > arr[i + 1]:\n",
        "        i += 1\n",
        "    \n",
        "    # if all elements are visited and the condition is satisfied, return True\n",
        "    return i == n - 1\n",
        "\n",
        "# time complexity = O(n)\n",
        "# space complexity = O(1)\n",
        "\n",
        "# Example:\n",
        "arr = [2, 1]\n",
        "result = validMountainArray(arr)\n",
        "print(result)  # Output: False"
      ],
      "metadata": {
        "colab": {
          "base_uri": "https://localhost:8080/"
        },
        "id": "CSfYQbpFUjSI",
        "outputId": "10e8e331-7b79-4c4a-fc9a-a3278a66f710"
      },
      "execution_count": 2,
      "outputs": [
        {
          "output_type": "stream",
          "name": "stdout",
          "text": [
            "False\n"
          ]
        }
      ]
    },
    {
      "cell_type": "markdown",
      "source": [
        "Question 4\n",
        "Given a binary array nums, return the maximum length of a contiguous subarray with an equal number of 0 and 1.\n",
        "Example 1:\n",
        "Input: nums = [0,1]\n",
        "Output: 2\n",
        "Explanation:\n",
        "[0, 1] is the longest contiguous subarray with an equal number of 0 and 1."
      ],
      "metadata": {
        "id": "qFfxf3jJU3el"
      }
    },
    {
      "cell_type": "code",
      "source": [
        "def findMaxLength(nums):\n",
        "\n",
        "    # initial count of 0s and 1s\n",
        "    count_0 = 0\n",
        "    count_1 = 0\n",
        "\n",
        "    # initial maximum length\n",
        "    max_len = 0\n",
        "\n",
        "    for num in nums:\n",
        "        # Increment the count of the current number\n",
        "        if num == 0:\n",
        "            count_0 += 1\n",
        "        else:\n",
        "            count_1 += 1\n",
        "\n",
        "        # if the count of 0s and 1s are equal, update the maximum length\n",
        "        if count_0 == count_1:\n",
        "            max_len = max(max_len, count_0 + count_1)\n",
        "\n",
        "    return max_len\n",
        "\n",
        "# Time Complexity: O(n)\n",
        "# Space Complexity: O(1)\n",
        "\n",
        "# Example:\n",
        "nums = [0, 1]\n",
        "result = findMaxLength(nums)\n",
        "print(result)  # Output: 2"
      ],
      "metadata": {
        "colab": {
          "base_uri": "https://localhost:8080/"
        },
        "id": "Lh3fFnCcVjt2",
        "outputId": "bf2e3e37-2bbf-41eb-9aa7-94e5f238b1f3"
      },
      "execution_count": 3,
      "outputs": [
        {
          "output_type": "stream",
          "name": "stdout",
          "text": [
            "2\n"
          ]
        }
      ]
    },
    {
      "cell_type": "markdown",
      "source": [
        "Question 5\n",
        "The product sum of two equal-length arrays a and b is equal to the sum of a[i] * b[i] for all 0 <= i < a.length (0-indexed).\n",
        "-\tFor example, if a = [1,2,3,4] and b = [5,2,3,1], the product sum would be 15 + 22 + 33 + 41 = 22.\n",
        "\n",
        "Given two arrays nums1 and nums2 of length n, return the minimum product sum if you are allowed to rearrange the order of the elements in nums1.\n",
        "\n",
        "Example 1:\n",
        "Input: nums1 = [5,3,4,2], nums2 = [4,2,2,5]\n",
        "Output: 40\n",
        "Explanation:\n",
        "We can rearrange nums1 to become [3,5,4,2]. The product sum of [3,5,4,2] and [4,2,2,5] is 34 + 52 + 42 + 25 = 40."
      ],
      "metadata": {
        "id": "N1NDZrgMXyJf"
      }
    },
    {
      "cell_type": "code",
      "source": [
        "def minProductSum(nums1, nums2):\n",
        "\n",
        "    # Sort the arrays in ascending order.\n",
        "    nums1.sort()\n",
        "    nums2.sort(reverse=True)\n",
        "\n",
        "    # Calculate the product sum.\n",
        "    product_sum = sum(nums1[i] * nums2[i] for i in range(len(nums1)))\n",
        "\n",
        "    return product_sum\n",
        "\n",
        "# time complexity = O(n log n)\n",
        "# space complexity = O(n)\n",
        "\n",
        "\n",
        "# Example:\n",
        "print(minProductSum([5,3,4,2], [4,2,2,5])) # output = 40"
      ],
      "metadata": {
        "colab": {
          "base_uri": "https://localhost:8080/"
        },
        "id": "XHdkoCLaZ--p",
        "outputId": "63bc9e11-349d-4f92-8331-7cf9a45f0609"
      },
      "execution_count": 4,
      "outputs": [
        {
          "output_type": "stream",
          "name": "stdout",
          "text": [
            "40\n"
          ]
        }
      ]
    },
    {
      "cell_type": "markdown",
      "source": [
        "Question 6\n",
        "An integer array original is transformed into a doubled array changed by appending twice the value of every element in original, and then randomly shuffling the resulting array.\n",
        "Given an array changed, return original if changed is a doubled array. If changed is not a doubled array, return an empty array. The elements in original may be returned in any order.\n",
        "Example 1:\n",
        "Input: changed = [1,3,4,2,6,8]\n",
        "Output: [1,3,4]\n",
        "Explanation: One possible original array could be [1,3,4]:\n",
        "-\tTwice the value of 1 is 1 * 2 = 2.\n",
        "-\tTwice the value of 3 is 3 * 2 = 6.\n",
        "-\tTwice the value of 4 is 4 * 2 = 8.\n",
        "Other original arrays could be [4,3,1] or [3,1,4]."
      ],
      "metadata": {
        "id": "fkXiBB7ocLkY"
      }
    },
    {
      "cell_type": "code",
      "source": [
        "def find_original_array(changed):\n",
        "    if len(changed) % 2 != 0:\n",
        "        return []\n",
        "    \n",
        "    # Sort the 'changed' array in ascending order\n",
        "    changed.sort()\n",
        "    \n",
        "    # Initialize an empty list to store the original array\n",
        "    original = []\n",
        "    \n",
        "    # Create a copy of the 'changed' array\n",
        "    remaining = changed[:]\n",
        "    \n",
        "    # Iterate through the 'changed' array\n",
        "    for i in range(len(changed)):\n",
        "        # Get the current element\n",
        "        num = changed[i]\n",
        "        \n",
        "        # Check if the current element is already used in the original array\n",
        "        if num in original:\n",
        "            continue\n",
        "        \n",
        "        # Check if the doubled value of the current element exists in the remaining array\n",
        "        double_num = num * 2\n",
        "        if double_num in remaining:\n",
        "            # Append the current element to the original array\n",
        "            original.append(num)\n",
        "            \n",
        "            # Remove the current element and its doubled value from the remaining array\n",
        "            remaining.remove(num)\n",
        "            remaining.remove(double_num)\n",
        "        else:\n",
        "            # If the doubled value does not exist or is already used, return an empty array\n",
        "            return []\n",
        "    \n",
        "    # Return the original array\n",
        "    return original\n",
        "\n",
        "# Time complexity: O(nlogn)\n",
        "# Space complexity: O(n)"
      ],
      "metadata": {
        "id": "Xj1MGY_kdKEd"
      },
      "execution_count": null,
      "outputs": []
    },
    {
      "cell_type": "markdown",
      "source": [
        "Question 7\n",
        "Given a positive integer n, generate an n x n matrix filled with elements from 1 to n^2 in spiral order.\n",
        "Example 1:\n",
        "Input: n = 3\n",
        "Output: [[1,2,3],[8,9,4],[7,6,5]]"
      ],
      "metadata": {
        "id": "c52fchJ7gVMQ"
      }
    },
    {
      "cell_type": "code",
      "source": [
        "def spiral_matrix(n):\n",
        "    # Create an empty matrix filled with zeros\n",
        "    matrix = [[0] * n for _ in range(n)]\n",
        "    \n",
        "    # Define the boundaries of the matrix\n",
        "    top = 0\n",
        "    bottom = n - 1\n",
        "    left = 0\n",
        "    right = n - 1\n",
        "    \n",
        "    # Initialize the current number to be filled in the matrix\n",
        "    num = 1\n",
        "    \n",
        "    # Generate the matrix in spiral order\n",
        "    while num <= n * n:\n",
        "        # Fill the top row from left to right\n",
        "        for i in range(left, right + 1):\n",
        "            matrix[top][i] = num\n",
        "            num += 1\n",
        "        top += 1\n",
        "        \n",
        "        # Fill the rightmost column from top to bottom\n",
        "        for i in range(top, bottom + 1):\n",
        "            matrix[i][right] = num\n",
        "            num += 1\n",
        "        right -= 1\n",
        "        \n",
        "        # Fill the bottom row from right to left\n",
        "        for i in range(right, left - 1, -1):\n",
        "            matrix[bottom][i] = num\n",
        "            num += 1\n",
        "        bottom -= 1\n",
        "        \n",
        "        # Fill the leftmost column from bottom to top\n",
        "        for i in range(bottom, top - 1, -1):\n",
        "            matrix[i][left] = num\n",
        "            num += 1\n",
        "        left += 1\n",
        "    \n",
        "    # Return the generated matrix\n",
        "    return matrix\n",
        "\n",
        "# time complexity = O(n^2)\n",
        "# space complexity = O(n^2)"
      ],
      "metadata": {
        "id": "Wox82MpUijW3"
      },
      "execution_count": null,
      "outputs": []
    },
    {
      "cell_type": "markdown",
      "source": [
        "Question 8\n",
        "Given two sparse matrices mat1 of size m x k and mat2 of size k x n, return the result of mat1 x mat2. You may assume that multiplication is always possible.\n",
        "Example 1:\n",
        "Input: mat1 = [[1,0,0],[-1,0,3]], mat2 = [[7,0,0],[0,0,0],[0,0,1]]\n",
        "Output:\n",
        "[[7,0,0],[-7,0,3]]"
      ],
      "metadata": {
        "id": "lz-To4FGi-ta"
      }
    },
    {
      "cell_type": "code",
      "source": [
        "def multiply_sparse_matrices(mat1, mat2):\n",
        "    # Determine the dimensions of the matrices\n",
        "    m = len(mat1)\n",
        "    k = len(mat1[0])\n",
        "    n = len(mat2[0])\n",
        "    \n",
        "    # Create an empty result matrix filled with zeros\n",
        "    result = [[0] * n for _ in range(m)]\n",
        "    \n",
        "    # Perform matrix multiplication\n",
        "    for i in range(m):\n",
        "        for j in range(n):\n",
        "            for l in range(k):\n",
        "                result[i][j] += mat1[i][l] * mat2[l][j]\n",
        "    \n",
        "    # Return the result matrix\n",
        "    return result\n",
        "\n",
        "# time complexity = O(m * n * k)\n",
        "# space complexity = O(m * n)"
      ],
      "metadata": {
        "id": "usLQLjb9jpLA"
      },
      "execution_count": null,
      "outputs": []
    }
  ]
}