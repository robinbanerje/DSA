{
  "nbformat": 4,
  "nbformat_minor": 0,
  "metadata": {
    "colab": {
      "provenance": []
    },
    "kernelspec": {
      "name": "python3",
      "display_name": "Python 3"
    },
    "language_info": {
      "name": "python"
    }
  },
  "cells": [
    {
      "cell_type": "markdown",
      "source": [
        "Question 1\n",
        "Given an integer n, return true if it is a power of two. Otherwise, return false.\n",
        "An integer n is a power of two, if there exists an integer x such that n == 2x.\n",
        "Example 1: Input: n = 1\n",
        "Output: true\n",
        "Example 2: Input: n = 16\n",
        "Output: true\n",
        "Example 3: Input: n = 3\n",
        "Output: false"
      ],
      "metadata": {
        "id": "JRo8HGnu8rNa"
      }
    },
    {
      "cell_type": "code",
      "source": [
        "def isPowerOfTwo(n):\n",
        "    # if input is 0\n",
        "    if n == 0:\n",
        "        return False\n",
        "    if n == 1:\n",
        "        return True\n",
        "    \n",
        "    # if n is divisible by 2 and continue dividing by 2\n",
        "    if n % 2 == 0:\n",
        "        return isPowerOfTwo(n // 2)\n",
        "    \n",
        "    return False\n",
        "\n",
        "# Time complexity: O(log n)\n",
        "# Space complexity: O(log n)"
      ],
      "metadata": {
        "id": "7dSU0Nrm9OQj"
      },
      "execution_count": null,
      "outputs": []
    },
    {
      "cell_type": "markdown",
      "source": [
        "Question 2\n",
        "Given a number n, find the sum of the first natural numbers.\n",
        "Example 1:\n",
        "Input: n = 3\n",
        "Output: 6\n",
        "Example 2:\n",
        "Input : 5\n",
        "Output : 15"
      ],
      "metadata": {
        "id": "oiyBimrl9ckj"
      }
    },
    {
      "cell_type": "code",
      "source": [
        "def sumOfNaturalNumbers(n):\n",
        "    # if input is 0\n",
        "    if n <= 0:\n",
        "        return 0\n",
        "    \n",
        "    # sum of numbers from 1 to n-1 and add n to it\n",
        "    return sumOfNaturalNumbers(n - 1) + n\n",
        "\n",
        "# Time complexity: O(n)\n",
        "# Space complexity: O(n)"
      ],
      "metadata": {
        "id": "v5xlnOPg9xBT"
      },
      "execution_count": null,
      "outputs": []
    },
    {
      "cell_type": "markdown",
      "source": [
        "Question 3\n",
        "Given a positive integer, N. Find the factorial of N.\n",
        "Example 1:\n",
        "Input: N = 5\n",
        "Output: 120\n",
        "Example 2:\n",
        "Input: N = 4\n",
        "Output: 24"
      ],
      "metadata": {
        "id": "tFjkwoHm-Ak8"
      }
    },
    {
      "cell_type": "code",
      "source": [
        "def factorial(n):\n",
        "\n",
        "  # factorial of 0 is 1.\n",
        "  if n == 0:\n",
        "    return 1\n",
        "\n",
        "  # factorial of n is n times the factorial of n - 1.\n",
        "  else:\n",
        "    return n * factorial(n - 1)\n",
        "\n",
        "# Time complexity: O(n!)\n",
        "# Space complexity: O(n)"
      ],
      "metadata": {
        "id": "8jckEcAa-Y3c"
      },
      "execution_count": null,
      "outputs": []
    },
    {
      "cell_type": "markdown",
      "source": [
        "Question 4\n",
        "Given a number N and a power P, the task is to find the exponent of this number raised to the given power, i.e. N^P.\n",
        "Example 1 :\n",
        "Input: N = 5, P = 2\n",
        "Output: 25\n",
        "Example 2 : Input: N = 2, P = 5\n",
        "Output: 32"
      ],
      "metadata": {
        "id": "iOzjIkI_-jFD"
      }
    },
    {
      "cell_type": "code",
      "source": [
        "def power(n, p):\n",
        "  # 0^0 = 1.\n",
        "  if p == 0:\n",
        "    return 1\n",
        "\n",
        "  # n^p = n * n^(p - 1).\n",
        "  else:\n",
        "    return n * power(n, p - 1)\n",
        "\n",
        "# Time complexity: O(p)\n",
        "# Space complexity: O(p)"
      ],
      "metadata": {
        "id": "Jbf-goB5-6ET"
      },
      "execution_count": null,
      "outputs": []
    },
    {
      "cell_type": "markdown",
      "source": [
        "Question 5\n",
        "Given an array of integers arr, the task is to find maximum element of that array using recursion.\n",
        "Example 1:\n",
        "Input: arr = {1, 4, 3, -5, -4, 8, 6}; Output: 8\n",
        "Example 2:\n",
        "Input: arr = {1, 4, 45, 6, 10, -8}; Output: 45"
      ],
      "metadata": {
        "id": "ECerndKO_pJ9"
      }
    },
    {
      "cell_type": "code",
      "source": [
        "def max_element(arr):\n",
        "\n",
        "  # array is empty.\n",
        "    if not arr:\n",
        "    return None\n",
        "  # array has only one element.\n",
        "  elif len(arr) == 1:\n",
        "    return arr[0]\n",
        "  # maximum element of the array is the maximum of the first element and the maximum element of the rest of the array.\n",
        "  else:\n",
        "    return max(arr[0], find_max_element(arr[1:]))\n",
        "\n",
        "# Time complexity: O(n)\n",
        "# Space complexity: O(1)"
      ],
      "metadata": {
        "id": "fLLxXhwJAPiU"
      },
      "execution_count": null,
      "outputs": []
    },
    {
      "cell_type": "markdown",
      "source": [
        "Question 6\n",
        "Given first term (a), common difference (d) and a integer N of the Arithmetic Progression series, the task is to find Nth term of the series.\n",
        "Example 1:\n",
        "Input : a = 2 d = 1 N = 5 Output : 6 The 5th term of the series is : 6\n",
        "Example 2:\n",
        "Input : a = 5 d = 2 N = 10 Output : 23 The 10th term of the series is : 23"
      ],
      "metadata": {
        "id": "Kq2lN2LNAsC0"
      }
    },
    {
      "cell_type": "code",
      "source": [
        "def nth_term_of_AP(a, d, n):\n",
        "  # nth term is the first term if n = 1.\n",
        "  if n == 1:\n",
        "    return a\n",
        "\n",
        "  # nth term is the sum of the (n - 1)th term and the common difference.\n",
        "  else:\n",
        "    return nth_term_of_arithmetic_progression(a + d, d, n - 1)\n",
        "\n",
        "# Time complexity: O(n)\n",
        "# Space complexity: O(1)"
      ],
      "metadata": {
        "id": "I79j21QAA9Nz"
      },
      "execution_count": null,
      "outputs": []
    },
    {
      "cell_type": "markdown",
      "source": [
        "Question 7\n",
        "Given a string S, the task is to write a program to print all permutations of a given string.\n",
        "Example 1:\n",
        "Input:\n",
        "S = “ABC”\n",
        "Output:\n",
        "“ABC”, “ACB”, “BAC”, “BCA”, “CBA”, “CAB”\n",
        "Example 2:\n",
        "Input:\n",
        "S = “XY”\n",
        "Output:\n",
        "“XY”, “YX”"
      ],
      "metadata": {
        "id": "5OpVN4x5BENV"
      }
    },
    {
      "cell_type": "code",
      "source": [
        "def permutations(s):\n",
        "\n",
        "  # string is empty.\n",
        "  if len(s) == 0:\n",
        "    return\n",
        "\n",
        "  # permutations of the string are the concatenation of the permutations of the first character and the permutations of the rest of the string.\n",
        "  else:\n",
        "    for i in range(len(s)):\n",
        "      permutations(s[:i] + s[i + 1:])\n",
        "      print(s[:i] + s[i + 1:] + s[i])\n",
        "\n",
        "# Time complexity: O(n!)\n",
        "# Space complexity: O(n)"
      ],
      "metadata": {
        "id": "HtXpAaF1BqAj"
      },
      "execution_count": null,
      "outputs": []
    },
    {
      "cell_type": "markdown",
      "source": [
        "Question 8\n",
        "Given an array, find a product of all array elements.\n",
        "Example 1:\n",
        "Input : arr[] = {1, 2, 3, 4, 5} Output : 120 Example 2:\n",
        "Input : arr[] = {1, 6, 3} Output : 18"
      ],
      "metadata": {
        "id": "ZiKgmGGJCEHC"
      }
    },
    {
      "cell_type": "code",
      "source": [
        "def product(arr):\n",
        "\n",
        "  # if array is empty.\n",
        "  if len(arr) == 0:\n",
        "    return 1\n",
        "\n",
        "  # product of the array is the product of the first element and the product of the rest of the array.\n",
        "  else:\n",
        "    return arr[0] * product(arr[1:])\n",
        "\n",
        "# Time complexity: O(n)\n",
        "# Space complexity: O(1)"
      ],
      "metadata": {
        "id": "-M_hFeSdCW2Q"
      },
      "execution_count": null,
      "outputs": []
    }
  ]
}