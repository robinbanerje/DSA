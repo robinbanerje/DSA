{
  "nbformat": 4,
  "nbformat_minor": 0,
  "metadata": {
    "colab": {
      "provenance": []
    },
    "kernelspec": {
      "name": "python3",
      "display_name": "Python 3"
    },
    "language_info": {
      "name": "python"
    }
  },
  "cells": [
    {
      "cell_type": "markdown",
      "source": [
        "Move Zeroes\n",
        "\n",
        "Given an integer array nums, move all 0's to the end of it while maintaining the relative order of the non-zero elements.\n",
        "\n",
        "Note that you must do this in-place without making a copy of the array.\n",
        "\n",
        "Example 1:\n",
        "Input: nums = [0,1,0,3,12]\n",
        "Output: [1,3,12,0,0]\n",
        "\n",
        "Example 2:\n",
        "Input: nums = [0]\n",
        "Output: [0]\n",
        "\n",
        "Constraints:\n",
        "a. 1 <= nums.length <= 10^4\n",
        "b. -2^31 <= nums[i] <= 2^31 - 1 *italicised text*"
      ],
      "metadata": {
        "id": "a5ojHVHK-sbm"
      }
    },
    {
      "cell_type": "code",
      "source": [
        "def move_zeroes(nums):\n",
        "\n",
        "  non_zero_index = 0  # index of the first non-zero element\n",
        "\n",
        "  for i in range(len(nums)):\n",
        "    # If the current element is not zero, swapping with the element at the non-zero index\n",
        "    if nums[i] != 0:\n",
        "      nums[i], nums[non_zero_index] = nums[non_zero_index], nums[i]\n",
        "      non_zero_index += 1\n",
        "\n",
        "  # zeros will now be at the end of the array\n",
        "\n",
        "# Time complexity: O(n)\n",
        "# Space complexity: O(1)"
      ],
      "metadata": {
        "id": "fKAEGDq9-zFQ"
      },
      "execution_count": null,
      "outputs": []
    }
  ]
}