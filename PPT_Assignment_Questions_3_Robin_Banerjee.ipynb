{
  "nbformat": 4,
  "nbformat_minor": 0,
  "metadata": {
    "colab": {
      "provenance": []
    },
    "kernelspec": {
      "name": "python3",
      "display_name": "Python 3"
    },
    "language_info": {
      "name": "python"
    }
  },
  "cells": [
    {
      "cell_type": "markdown",
      "source": [
        "Question 1\n",
        "Given an integer array nums of length n and an integer target, find three integers in nums such that the sum is closest to the target.\n",
        "Return the sum of the three integers.\n",
        "\n",
        "You may assume that each input would have exactly one solution.\n",
        "\n",
        "Example:\n",
        "Input: nums = [-1,2,1,-4], target = 1\n",
        "Output: 2\n",
        "\n",
        "Explanation: The sum that is closest to the target is 2. (-1 + 2 + 1 = 2)."
      ],
      "metadata": {
        "id": "Zwsm-8KK7ONG"
      }
    },
    {
      "cell_type": "code",
      "source": [
        "def closest_sum_of_3_efficient(nums, target):\n",
        "\n",
        "    # Sort the array.\n",
        "    nums.sort()\n",
        "\n",
        "    # Initialize the minimum difference to infinity.\n",
        "    min_diff = float(\"inf\")\n",
        "\n",
        "    # Iterate over all possible pairs.\n",
        "    for i in range(len(nums)):\n",
        "        for j in range(i + 1, len(nums)):\n",
        "\n",
        "            # Calculate the remaining sum.\n",
        "            remaining_sum = target - nums[i] - nums[j]\n",
        "\n",
        "            # Find the index of the remaining sum in the array.\n",
        "            low = 0\n",
        "            high = len(nums) - 1\n",
        "            while low <= high:\n",
        "                mid = (low + high) // 2\n",
        "                if nums[mid] < remaining_sum:\n",
        "                    low = mid + 1\n",
        "                elif nums[mid] > remaining_sum:\n",
        "                    high = mid - 1\n",
        "                else:\n",
        "                    break\n",
        "\n",
        "            # Calculate the difference between the sum of the triplet and the target.\n",
        "            diff = abs(target - nums[i] - nums[j] - nums[mid])\n",
        "\n",
        "            # Update the minimum difference if the difference is smaller.\n",
        "            if diff < min_diff:\n",
        "                min_diff = diff\n",
        "                result = nums[i] + nums[j] + nums[mid]\n",
        "\n",
        "    # Return the sum of the triplet with the minimum difference.\n",
        "    return result\n",
        "\n",
        "# time complexity of this function is O(n^2)\n",
        "# space complexity of this function is O(1)\n"
      ],
      "metadata": {
        "id": "sWU6Ux158oT4"
      },
      "execution_count": null,
      "outputs": []
    },
    {
      "cell_type": "markdown",
      "source": [
        "Question 2\n",
        "Given an array nums of n integers, return an array of all the unique quadruplets [nums[a], nums[b], nums[c], nums[d]] such that:\n",
        "           ● 0 <= a, b, c, d < n\n",
        "           ● a, b, c, and d are distinct.\n",
        "           ● nums[a] + nums[b] + nums[c] + nums[d] == target\n",
        "\n",
        "You may return the answer in any order.\n",
        "\n",
        "Example:\n",
        "Input: nums = [1,0,-1,0,-2,2], target = 0\n",
        "Output: [[-2,-1,1,2],[-2,0,0,2],[-1,0,0,1]]"
      ],
      "metadata": {
        "id": "22JZj7Bl-top"
      }
    },
    {
      "cell_type": "code",
      "source": [
        "def find_quadruplets(nums, target):\n",
        "\n",
        "  # Sort the array to avoid duplicate quadruplets.\n",
        "  nums.sort()\n",
        "\n",
        "  # Create a set to store all of the unique quadruplets.\n",
        "  quadruplets = set()\n",
        "\n",
        "  # Iterate over all possible quadruplets.\n",
        "  for i in range(len(nums) - 3):\n",
        "    for j in range(i + 1, len(nums) - 2):\n",
        "      for k in range(j + 1, len(nums) - 1):\n",
        "        for l in range(k + 1, len(nums)):\n",
        "\n",
        "          # Check if the quadruplet sums up to the target value.\n",
        "          if nums[i] + nums[j] + nums[k] + nums[l] == target:\n",
        "\n",
        "            # Add the quadruplet to the set of unique quadruplets.\n",
        "            quadruplets.add((nums[i], nums[j], nums[k], nums[l]))\n",
        "\n",
        "  # Return the list of unique quadruplets.\n",
        "  return list(quadruplets)\n",
        "\n",
        "# Time complexity: O(n^4)\n",
        "# Space complexity: O(n)\n"
      ],
      "metadata": {
        "id": "5lK0vaDpANrq"
      },
      "execution_count": null,
      "outputs": []
    },
    {
      "cell_type": "markdown",
      "source": [
        "Question 3\n",
        "A permutation of an array of integers is an arrangement of its members into a sequence or linear order.\n",
        "\n",
        "For example, for arr = [1,2,3], the following are all the permutations of arr: [1,2,3], [1,3,2], [2, 1, 3], [2, 3, 1], [3,1,2], [3,2,1].\n",
        "\n",
        "The next permutation of an array of integers is the next lexicographically greater permutation of its integer. More formally, if all the permutations of the array are sorted in one container according to their lexicographical order, then the next permutation of that array is the permutation that follows it in the sorted container.\n",
        "\n",
        "If such an arrangement is not possible, the array must be rearranged as the\n",
        "lowest possible order (i.e., sorted in ascending order).\n",
        "\n",
        "● For example, the next permutation of arr = [1,2,3] is [1,3,2].\n",
        "● Similarly, the next permutation of arr = [2,3,1] is [3,1,2].\n",
        "● While the next permutation of arr = [3,2,1] is [1,2,3] because [3,2,1] does not have a lexicographical larger rearrangement.\n",
        "\n",
        "Given an array of integers nums, find the next permutation of nums.\n",
        "The replacement must be in place and use only constant extra memory.\n",
        "\n",
        "Example:\n",
        "Input: nums = [1,2,3]\n",
        "Output: [1,3,2]"
      ],
      "metadata": {
        "id": "7-90lOEpATNo"
      }
    },
    {
      "cell_type": "code",
      "source": [
        "def next_permutation(nums):\n",
        "\n",
        "  # Find the first index i such that nums[i] < nums[i + 1].\n",
        "  i = len(nums) - 2\n",
        "  while i >= 0 and nums[i] >= nums[i + 1]:\n",
        "    i -= 1\n",
        "\n",
        "  # If no such index exists, then the array is already in its last permutation.\n",
        "  # return the array unchanged.\n",
        "  if i < 0:\n",
        "    return nums\n",
        "\n",
        "  # Find the smallest element j such that nums[j] > nums[i].\n",
        "  j = len(nums) - 1\n",
        "  while nums[j] <= nums[i]:\n",
        "    j -= 1\n",
        "\n",
        "  # Swap the elements at indices i and j.\n",
        "  nums[i], nums[j] = nums[j], nums[i]\n",
        "\n",
        "  # Reverse the suffix of the array starting from index i + 1.\n",
        "  nums[i + 1:] = nums[i + 1:][::-1]\n",
        "\n",
        "  # Return the new array.\n",
        "  return nums\n",
        "\n",
        "# time complexity of O(n)\n",
        "# space complexity of O(1)"
      ],
      "metadata": {
        "id": "twM6cfhlBeyF"
      },
      "execution_count": null,
      "outputs": []
    },
    {
      "cell_type": "markdown",
      "source": [
        "Question 4\n",
        "Given a sorted array of distinct integers and a target value, return the index if the target is found. If not, return the index where it would be if it were inserted in order.\n",
        "\n",
        "You must write an algorithm with O(log n) runtime complexity.\n",
        "\n",
        "Example 1:\n",
        "Input: nums = [1,3,5,6], target = 5\n",
        "Output: 2"
      ],
      "metadata": {
        "id": "cO9g17C5B9lV"
      }
    },
    {
      "cell_type": "code",
      "source": [
        "def binary_search(nums, target):\n",
        "\n",
        "  # Initialize the left and right pointers.\n",
        "  left = 0\n",
        "  right = len(nums) - 1\n",
        "\n",
        "  # Loop while the left pointer is less than or equal to the right pointer.\n",
        "  while left <= right:\n",
        "    # Find the middle element.\n",
        "    mid = (left + right) // 2\n",
        "\n",
        "    # Check if the middle element is equal to the target value.\n",
        "    if nums[mid] == target:\n",
        "      # Return the index of the target value.\n",
        "      return mid\n",
        "\n",
        "    # If the middle element is less than the target value, then the target value must be in the right half of the array.\n",
        "    elif nums[mid] < target:\n",
        "      # Update the left pointer to the right of the middle element.\n",
        "      left = mid + 1\n",
        "\n",
        "    # If the middle element is greater than the target value, then the target value must be in the left half of the array.\n",
        "    else:\n",
        "      # Update the right pointer to the left of the middle element.\n",
        "      right = mid - 1\n",
        "\n",
        "  # If the loop terminates, then the target value was not found.\n",
        "  return -1\n",
        "\n",
        "# time complexity = O(log n)\n",
        "# space complexity = O(1)"
      ],
      "metadata": {
        "id": "4xLLH_haCVOQ"
      },
      "execution_count": null,
      "outputs": []
    },
    {
      "cell_type": "markdown",
      "source": [
        "Question 5\n",
        "You are given a large integer represented as an integer array digits, where each digits[i] is the ith digit of the integer. The digits are ordered from most significant to least significant in left-to-right order. The large integer does not contain any leading 0's.\n",
        "\n",
        "Increment the large integer by one and return the resulting array of digits.\n",
        "\n",
        "Example:\n",
        "Input: digits = [1,2,3]\n",
        "Output: [1,2,4]\n",
        "\n",
        "Explanation: The array represents the integer 123.\n",
        "Incrementing by one gives 123 + 1 = 124.\n",
        "Thus, the result should be [1,2,4]."
      ],
      "metadata": {
        "id": "mtERu9n7Cec6"
      }
    },
    {
      "cell_type": "code",
      "source": [
        "def increment_large_integer(digits):\n",
        "\n",
        "  # Initialize the carry flag.\n",
        "  carry = 1\n",
        "\n",
        "  # Loop over the digits from right to left.\n",
        "  for i in range(len(digits) - 1, -1, -1):\n",
        "    # Add the carry flag to the current digit.\n",
        "    digits[i] += carry\n",
        "\n",
        "    # If the current digit is greater than 9, then it carries over to the next digit.\n",
        "    if digits[i] > 9:\n",
        "      carry = 1\n",
        "      digits[i] -= 10\n",
        "    else:\n",
        "      carry = 0\n",
        "\n",
        "  # If the carry flag is still set, then the integer has overflowed and we need to add a new digit at the beginning of the array.\n",
        "  if carry:\n",
        "    digits.insert(0, 1)\n",
        "\n",
        "  # Return the incremented array of digits.\n",
        "  return digits\n",
        "\n",
        "# time complexity: O(n)\n",
        "# space complexity: O(1)"
      ],
      "metadata": {
        "id": "rOiPRWXRDJ7a"
      },
      "execution_count": null,
      "outputs": []
    },
    {
      "cell_type": "markdown",
      "source": [
        "Question 6\n",
        "Given a non-empty array of integers nums, every element appears twice except for one. Find that single one.\n",
        "\n",
        "You must implement a solution with a linear runtime complexity and use only\n",
        "constant extra space.\n",
        "\n",
        "Example:\n",
        "Input: nums = [2,2,1]\n",
        "Output: 1"
      ],
      "metadata": {
        "id": "oCApVobrDb66"
      }
    },
    {
      "cell_type": "code",
      "source": [
        "def find_single_element(nums):\n",
        "\n",
        "  # Initialize the seen set.\n",
        "  seen = set()\n",
        "\n",
        "  # Loop over the elements in the array.\n",
        "  for num in nums:\n",
        "    # If the element is not in the seen set, then it is the single element.\n",
        "    if num not in seen:\n",
        "      return num\n",
        "\n",
        "    # Otherwise, add the element to the seen set.\n",
        "    seen.add(num)\n",
        "\n",
        "# Time complexity: O(n)\n",
        "# Space complexity: O(1)"
      ],
      "metadata": {
        "id": "pjA7_WPIFYlk"
      },
      "execution_count": null,
      "outputs": []
    },
    {
      "cell_type": "markdown",
      "source": [
        "Question 7\n",
        "You are given an inclusive range [lower, upper] and a sorted unique integer array nums, where all elements are within the inclusive range.\n",
        "\n",
        "A number x is considered missing if x is in the range [lower, upper] and x is not in nums.\n",
        "\n",
        "Return the shortest sorted list of ranges that exactly covers all the missing numbers. That is, no element of nums is included in any of the ranges, and each missing number is covered by one of the ranges.\n",
        "\n",
        "Example:\n",
        "Input: nums = [0,1,3,50,75], lower = 0, upper = 99\n",
        "Output: [[2,2],[4,49],[51,74],[76,99]]\n",
        "\n",
        "Explanation: The ranges are:\n",
        "[2,2]\n",
        "[4,49]\n",
        "[51,74]\n",
        "[76,99]"
      ],
      "metadata": {
        "id": "i4KvmxksFeEm"
      }
    },
    {
      "cell_type": "code",
      "source": [
        "def find_missing_ranges(nums, lower, upper):\n",
        "\n",
        "  # Initialize the seen set.\n",
        "  seen = set(nums)\n",
        "\n",
        "  # Initialize the result list.\n",
        "  result = []\n",
        "\n",
        "  # Loop over the numbers in the range.\n",
        "  for i in range(lower, upper + 1):\n",
        "    # If the number is not in the seen set, then it is missing.\n",
        "    if i not in seen:\n",
        "      # Add a range to the result list for the missing number.\n",
        "      result.append([i, i])\n",
        "\n",
        "  # Sort the result list.\n",
        "  result.sort()\n",
        "\n",
        "  # Return the result list.\n",
        "  return result\n",
        "\n",
        "# Time complexity: O(n)\n",
        "# Space complexity: O(1)"
      ],
      "metadata": {
        "id": "lvdSGpboGbgG"
      },
      "execution_count": null,
      "outputs": []
    },
    {
      "cell_type": "markdown",
      "source": [
        "Question 8\n",
        "Given an array of meeting time intervals where intervals[i] = [starti, endi], determine if a person could attend all meetings.\n",
        "\n",
        "Example:\n",
        "Input: intervals = [[0,30],[5,10],[15,20]]\n",
        "Output: false"
      ],
      "metadata": {
        "id": "PvUbOdL-Ge2d"
      }
    },
    {
      "cell_type": "code",
      "source": [
        "def meetings(intervals):\n",
        "\n",
        "  # Sort the intervals by start time.\n",
        "  intervals.sort()\n",
        "\n",
        "  # Initialize the current time to the start time of the first meeting.\n",
        "  current_time = intervals[0][0]\n",
        "\n",
        "  # Loop over the intervals.\n",
        "  for interval in intervals:\n",
        "    # If the current time is still within the previous meeting, then the person cannot attend the current meeting.\n",
        "    if current_time < interval[0]:\n",
        "      return False\n",
        "\n",
        "    # Update the current time to the end time of the current meeting.\n",
        "    current_time = interval[1]\n",
        "\n",
        "  # If the current time is still less than the end time of the last meeting, then the person can attend all meetings.\n",
        "  return current_time <= intervals[-1][1]\n",
        "\n",
        "# Time complexity: O(n log n) & Space complexity: O(1), where n is the number of intervals."
      ],
      "metadata": {
        "id": "-K4N-EiNHW9r"
      },
      "execution_count": null,
      "outputs": []
    }
  ]
}