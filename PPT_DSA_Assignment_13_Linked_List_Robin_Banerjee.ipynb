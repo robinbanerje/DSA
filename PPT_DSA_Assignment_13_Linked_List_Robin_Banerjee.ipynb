{
  "nbformat": 4,
  "nbformat_minor": 0,
  "metadata": {
    "colab": {
      "provenance": []
    },
    "kernelspec": {
      "name": "python3",
      "display_name": "Python 3"
    },
    "language_info": {
      "name": "python"
    }
  },
  "cells": [
    {
      "cell_type": "markdown",
      "source": [
        "Question 1\n",
        "\n",
        "Given two linked list of the same size, the task is to create a new linked list using those linked lists. The condition is that the greater node among both linked list will be added to the new linked list.\n",
        "\n",
        "Examples:\n",
        "\n",
        "Input: list1 = 5->2->3->8\n",
        "list2 = 1->7->4->5\n",
        "Output: New list = 5->7->4->8\n",
        "\n",
        "Input:list1 = 2->8->9->3\n",
        "list2 = 5->3->6->4\n",
        "Output: New list = 5->8->9->4"
      ],
      "metadata": {
        "id": "EueYlHrhmgN0"
      }
    },
    {
      "cell_type": "code",
      "source": [
        "# Function to modify the first linked list by keeping the greater nodes\n",
        "def modify_linked_list(list1, list2):\n",
        "    # Initialize a pointer to traverse both linked lists\n",
        "    curr1 = list1\n",
        "    curr2 = list2\n",
        "\n",
        "    # Traverse both linked lists simultaneously\n",
        "    while curr1 and curr2:\n",
        "        # Compare the data of the curr nodes in list1 and list2\n",
        "        if curr1.data >= curr2.data:\n",
        "            curr1 = curr1.next\n",
        "        else:\n",
        "            # Store the next node of curr2\n",
        "            next_node = curr2.next\n",
        "\n",
        "            # Insert curr2 before curr1\n",
        "            curr2.next = curr1\n",
        "            if curr1 == list1:\n",
        "                list1 = curr2\n",
        "            else:\n",
        "                prev1.next = curr2\n",
        "\n",
        "            # Update pointers\n",
        "            prev1 = curr2\n",
        "            curr2 = next_node\n",
        "\n",
        "    # Return the modified linked list\n",
        "    return list1\n",
        "\n",
        "# Time complexity: O(n)\n",
        "# Space complexity: O(1)"
      ],
      "metadata": {
        "id": "tpcIfwIPoGtf"
      },
      "execution_count": null,
      "outputs": []
    },
    {
      "cell_type": "markdown",
      "source": [
        "Question 2\n",
        "\n",
        "Write a function that takes a list sorted in non-decreasing order and deletes any duplicate nodes from the list. The list should only be traversed once.\n",
        "For example if the linked list is 11->11->11->21->43->43->60 then removeDuplicates() should convert the list to 11->21->43->60.\n",
        "\n",
        "Example 1:\n",
        "Input:\n",
        "LinkedList:\n",
        "11->11->11->21->43->43->60\n",
        "Output:\n",
        "11->21->43->60\n",
        "\n",
        "Example 2:\n",
        "Input:\n",
        "LinkedList:\n",
        "10->12->12->25->25->25->34\n",
        "Output:\n",
        "10->12->25->34"
      ],
      "metadata": {
        "id": "JuhF3EjSoYyW"
      }
    },
    {
      "cell_type": "code",
      "source": [
        "def remove_duplicates(head):\n",
        "\n",
        "  # current node.\n",
        "  curr = head\n",
        "\n",
        "  # keeping track of the previous node.\n",
        "  prev = None\n",
        "\n",
        "  while curr:\n",
        "    # If the curr node is equal to the prev node, then it is a duplicate.\n",
        "    if prev and curr.val == prev.val:\n",
        "      # Remove the curr node from the linked list.\n",
        "      prev.next = curr.next\n",
        "    else:\n",
        "      # Update the prev node.\n",
        "      prev = curr\n",
        "\n",
        "    # Move on to the next node in the linked list.\n",
        "    curr = curr.next\n",
        "\n",
        "  # Return the new head of the linked list.\n",
        "  return head\n",
        "\n",
        "# time complexity : O(n)\n",
        "# space complexity : O(1)"
      ],
      "metadata": {
        "id": "YGiIStQtqwtd"
      },
      "execution_count": null,
      "outputs": []
    },
    {
      "cell_type": "markdown",
      "source": [
        "Question 3\n",
        "\n",
        "Given a linked list of size N. The task is to reverse every k nodes (where k is an input to the function) in the linked list. If the number of nodes is not a multiple of k then left-out nodes, in the end, should be considered as a group and must be reversed (See Example 2 for clarification).\n",
        "\n",
        "Example 1:\n",
        "Input:\n",
        "LinkedList: 1->2->2->4->5->6->7->8\n",
        "K = 4\n",
        "Output:4 2 2 1 8 7 6 5\n",
        "Explanation:\n",
        "The first 4 elements 1,2,2,4 are reversed first\n",
        "and then the next 4 elements 5,6,7,8. Hence, the\n",
        "resultant linked list is 4->2->2->1->8->7->6->5.\n",
        "\n",
        "Example 2:\n",
        "Input:\n",
        "LinkedList: 1->2->3->4->5\n",
        "K = 3\n",
        "Output:3 2 1 5 4\n",
        "Explanation:\n",
        "The first 3 elements are 1,2,3 are reversed\n",
        "first and then elements 4,5 are reversed.Hence,\n",
        "the resultant linked list is 3->2->1->5->4."
      ],
      "metadata": {
        "id": "AjWBoifer3sK"
      }
    },
    {
      "cell_type": "code",
      "source": [
        "def reverse_k_nodes(head, k):\n",
        "    # Check if the linked list is empty or has only one node\n",
        "    if head is None or head.next is None:\n",
        "        return head\n",
        "\n",
        "    current = head\n",
        "    next_node = None\n",
        "    prev_node = None\n",
        "    count = 0\n",
        "\n",
        "    # Reverse the first k nodes\n",
        "    while current is not None and count < k:\n",
        "        next_node = current.next\n",
        "        current.next = prev_node\n",
        "        prev_node = current\n",
        "        current = next_node\n",
        "        count += 1\n",
        "\n",
        "    # Recursively reverse the remaining nodes\n",
        "    if next_node is not None:\n",
        "        head.next = reverse_k_nodes(next_node, k)\n",
        "\n",
        "    return prev_node\n",
        "\n",
        "# Time complexity: O(n)\n",
        "# Space complexity: O(1)"
      ],
      "metadata": {
        "id": "80bQb8apsvZv"
      },
      "execution_count": null,
      "outputs": []
    },
    {
      "cell_type": "markdown",
      "source": [
        "Question 4\n",
        "\n",
        "Given a linked list, write a function to reverse every alternate k nodes (where k is an input to the function) in an efficient way. Give the complexity of your algorithm.\n",
        "\n",
        "Example:\n",
        "Inputs:   1->2->3->4->5->6->7->8->9->NULL and k = 3\n",
        "Output:   3->2->1->4->5->6->9->8->7->NULL."
      ],
      "metadata": {
        "id": "P-b1KyYWs7YQ"
      }
    },
    {
      "cell_type": "code",
      "source": [
        "def reverse_alternate_k_nodes(head, k):\n",
        "    if head is None or head.next is None or k <= 1:\n",
        "        return head\n",
        "\n",
        "    current = head\n",
        "    prev = None\n",
        "    count = 0\n",
        "\n",
        "    # Reverse the first k nodes\n",
        "    while current is not None and count < k:\n",
        "        next_node = current.next\n",
        "\n",
        "        # Reverse alternate k nodes\n",
        "        if count % (2 * k) < k:\n",
        "            current.next = prev\n",
        "        else:\n",
        "            current.next = next_node\n",
        "\n",
        "        prev = current\n",
        "        current = next_node\n",
        "        count += 1\n",
        "\n",
        "    # Recursive call for the next set of k nodes\n",
        "    if current is not None:\n",
        "        head.next = reverse_alternate_k_nodes(current, k)\n",
        "\n",
        "    return prev\n",
        "\n",
        "# Time complexity: O(n)\n",
        "# Space complexity: O(1)"
      ],
      "metadata": {
        "id": "4vBLk0kHtY3S"
      },
      "execution_count": null,
      "outputs": []
    },
    {
      "cell_type": "markdown",
      "source": [
        "Question 5\n",
        "\n",
        "Given a linked list and a key to be deleted. Delete last occurrence of key from linked. The list may have duplicates.\n",
        "\n",
        "Examples:\n",
        "Input:   1->2->3->5->2->10, key = 2\n",
        "Output:  1->2->3->5->10"
      ],
      "metadata": {
        "id": "PEkG6AMOtt56"
      }
    },
    {
      "cell_type": "code",
      "source": [
        "def delete_last_occurrence(head, key):\n",
        "\n",
        "  prev = None\n",
        "  current = head\n",
        "  while current is not None:\n",
        "    if current.data == key:\n",
        "      # if this is the last occurrence of the key.\n",
        "      if current.next is None or current.next.data != key:\n",
        "        # if last occurrence, delete it.\n",
        "        if prev is None:\n",
        "          # This is the head of the linked list, so update the head.\n",
        "          head = current.next\n",
        "        else:\n",
        "          # This is not the head of the linked list, so update the previous node's next pointer.\n",
        "          prev.next = current.next\n",
        "\n",
        "      # Update the pointers.\n",
        "      prev = current\n",
        "      current = current.next\n",
        "    else:\n",
        "      # The key is not found, so update the pointers.\n",
        "      prev = current\n",
        "      current = current.next\n",
        "\n",
        "  return head\n",
        "\n",
        "# Time complexity: O(n)\n",
        "# Space complexity: O(1)"
      ],
      "metadata": {
        "id": "GYXPyda_uFbS"
      },
      "execution_count": null,
      "outputs": []
    },
    {
      "cell_type": "markdown",
      "source": [
        "Question 6\n",
        "\n",
        "Given two sorted linked lists consisting of N and M nodes respectively. The task is to merge both of the lists (in place) and return the head of the merged list.\n",
        "\n",
        "Examples:\n",
        "Input: a: 5->10->15, b: 2->3->20\n",
        "Output: 2->3->5->10->15->20\n",
        "Input: a: 1->1, b: 2->4\n",
        "Output: 1->1->2->4"
      ],
      "metadata": {
        "id": "eEESYSnsuiQ9"
      }
    },
    {
      "cell_type": "code",
      "source": [
        "def merge_sorted_lists(a, b):\n",
        "    # If one of the lists is empty, return the other list\n",
        "    if a is None:\n",
        "        return b\n",
        "    if b is None:\n",
        "        return a\n",
        "\n",
        "    # Choose the head of the merged list based on the smaller first element\n",
        "    if a.data <= b.data:\n",
        "        head = a\n",
        "        a = a.next\n",
        "    else:\n",
        "        head = b\n",
        "        b = b.next\n",
        "\n",
        "    current = head\n",
        "\n",
        "    # Merge the remaining nodes\n",
        "    while a is not None and b is not None:\n",
        "        if a.data <= b.data:\n",
        "            current.next = a\n",
        "            a = a.next\n",
        "        else:\n",
        "            current.next = b\n",
        "            b = b.next\n",
        "        current = current.next\n",
        "\n",
        "    # Attach the remaining nodes of the longer list, if any\n",
        "    if a is not None:\n",
        "        current.next = a\n",
        "    if b is not None:\n",
        "        current.next = b\n",
        "\n",
        "    return head\n",
        "\n",
        "# time complexity: O(N + M)\n",
        "# Space complexity: O(1)"
      ],
      "metadata": {
        "id": "ltec19Ea_Mo0"
      },
      "execution_count": null,
      "outputs": []
    },
    {
      "cell_type": "markdown",
      "source": [
        "Question 7\n",
        "\n",
        "Given a Doubly Linked List, the task is to reverse the given Doubly Linked List.\n",
        "\n",
        "Example:\n",
        "Original Linked list 10 8 4 2\n",
        "Reversed Linked list 2 4 8 10"
      ],
      "metadata": {
        "id": "y8nS5Q_eArvt"
      }
    },
    {
      "cell_type": "code",
      "source": [
        "class Node:\n",
        "    def __init__(self, data):\n",
        "        self.data = data\n",
        "        self.prev = None\n",
        "        self.next = None\n",
        "\n",
        "def reverse_doubly_linked_list(head):\n",
        "    # If the list is empty or contains only one node, return the head\n",
        "    if head is None or head.next is None:\n",
        "        return head\n",
        "\n",
        "    current = head\n",
        "    new_head = None\n",
        "\n",
        "    # Traverse the list and swap prev and next pointers of each node\n",
        "    while current is not None:\n",
        "        # Store the next node before modifying pointers\n",
        "        next_node = current.next\n",
        "\n",
        "        # Reverse the pointers of the current node\n",
        "        current.next = current.prev\n",
        "        current.prev = next_node\n",
        "\n",
        "        # Update the new head if it's the first iteration\n",
        "        if new_head is None:\n",
        "            new_head = current\n",
        "\n",
        "        # Move to the next node\n",
        "        current = next_node\n",
        "\n",
        "    return new_head\n",
        "\n",
        "# time complexity is O(N)\n",
        "# space complexity is O(1)"
      ],
      "metadata": {
        "id": "utQBOX5AC7ss"
      },
      "execution_count": null,
      "outputs": []
    },
    {
      "cell_type": "markdown",
      "source": [
        "Question 8\n",
        "\n",
        "Given a doubly linked list and a position. The task is to delete a node from given position in a doubly linked list.\n",
        "\n",
        "Example 1:\n",
        "Input:\n",
        "LinkedList = 1 <--> 3 <--> 4\n",
        "x = 3\n",
        "Output:1 3\n",
        "Explanation:After deleting the node at\n",
        "position 3 (position starts from 1),\n",
        "the linked list will be now as 1->3.\n",
        "\n",
        "Example 2:\n",
        "Input:\n",
        "LinkedList = 1 <--> 5 <--> 2 <--> 9\n",
        "x = 1\n",
        "Output:5 2 9"
      ],
      "metadata": {
        "id": "EBFjFNYIDeFD"
      }
    },
    {
      "cell_type": "code",
      "source": [
        "class Node:\n",
        "    def __init__(self, data):\n",
        "        self.data = data\n",
        "        self.prev = None\n",
        "        self.next = None\n",
        "\n",
        "def delete_node(head, position):\n",
        "    # If the list is empty, return the head\n",
        "    if head is None:\n",
        "        return head\n",
        "\n",
        "    # If the node to be deleted is the head node\n",
        "    if position == 1:\n",
        "        # Move the head to the next node\n",
        "        new_head = head.next\n",
        "        if new_head is not None:\n",
        "            new_head.prev = None\n",
        "        return new_head\n",
        "\n",
        "    current = head\n",
        "    count = 1\n",
        "\n",
        "    # Traverse the list to find the node at the given position\n",
        "    while current is not None and count < position:\n",
        "        current = current.next\n",
        "        count += 1\n",
        "\n",
        "    # If the position is invalid (beyond the length of the list), return the head\n",
        "    if current is None:\n",
        "        return head\n",
        "\n",
        "    # Adjust the pointers to remove the node from the list\n",
        "    prev_node = current.prev\n",
        "    next_node = current.next\n",
        "\n",
        "    if prev_node is not None:\n",
        "        prev_node.next = next_node\n",
        "\n",
        "    if next_node is not None:\n",
        "        next_node.prev = prev_node\n",
        "\n",
        "    return head\n",
        "\n",
        "# Time complexity: O(N)\n",
        "# Space complexity: O(1)"
      ],
      "metadata": {
        "id": "9O01xW5GEC5z"
      },
      "execution_count": null,
      "outputs": []
    }
  ]
}