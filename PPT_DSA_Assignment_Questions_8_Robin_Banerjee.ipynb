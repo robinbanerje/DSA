{
  "nbformat": 4,
  "nbformat_minor": 0,
  "metadata": {
    "colab": {
      "provenance": []
    },
    "kernelspec": {
      "name": "python3",
      "display_name": "Python 3"
    },
    "language_info": {
      "name": "python"
    }
  },
  "cells": [
    {
      "cell_type": "markdown",
      "source": [
        "Question 1\n",
        "Given two strings s1 and s2, return the lowest ASCII sum of deleted characters to make two strings equal.\n",
        "Example 1:\n",
        "Input: s1 = \"sea\", s2 = \"eat\"\n",
        "Output: 231\n",
        "Explanation: Deleting \"s\" from \"sea\" adds the ASCII value of \"s\" (115) to the sum.\n",
        "Deleting \"t\" from \"eat\" adds 116 to the sum.\n",
        "At the end, both strings are equal, and 115 + 116 = 231 is the minimum sum possible to achieve this."
      ],
      "metadata": {
        "id": "8SEZmmyj0Ume"
      }
    },
    {
      "cell_type": "code",
      "source": [
        "def minimumDeleteSum(s1, s2):\n",
        "    # Create a memoization array to store the computed results\n",
        "    memo = [[-1] * (len(s2)+1) for _ in range(len(s1)+1)]\n",
        "\n",
        "    def helper(i, j):\n",
        "        # Base cases: if either string is empty, return the sum of ASCII values of the remaining characters\n",
        "        if i == len(s1):\n",
        "            return sum(ord(ch) for ch in s2[j:])\n",
        "        if j == len(s2):\n",
        "            return sum(ord(ch) for ch in s1[i:])\n",
        "\n",
        "        # If the solution for the current indices is already memoized, return it\n",
        "        if memo[i][j] != -1:\n",
        "            return memo[i][j]\n",
        "\n",
        "        # If the characters at the current indices are equal, move to the next indices\n",
        "        if s1[i] == s2[j]:\n",
        "            memo[i][j] = helper(i+1, j+1)\n",
        "            return memo[i][j]\n",
        "\n",
        "        # Calculate the minimum ASCII sum by either deleting s1[i] or s2[j], and move to the next index\n",
        "        delete_s1 = ord(s1[i]) + helper(i+1, j)\n",
        "        delete_s2 = ord(s2[j]) + helper(i, j+1)\n",
        "        memo[i][j] = min(delete_s1, delete_s2)\n",
        "        return memo[i][j]\n",
        "\n",
        "    # Call the recursive helper function with initial indices 0, 0\n",
        "    return helper(0, 0)\n",
        "\n",
        "# time complexity = O(m * n)\n",
        "# space complexity = O(m * n)"
      ],
      "metadata": {
        "id": "gxr6gwAf0WbF"
      },
      "execution_count": null,
      "outputs": []
    },
    {
      "cell_type": "markdown",
      "source": [
        "Question 2\n",
        "Given a string s containing only three types of characters: '(', ')' and '*', return true if s is valid.\n",
        "The following rules define a valid string:\n",
        "-\tAny left parenthesis '(' must have a corresponding right parenthesis ')'.\n",
        "-\tAny right parenthesis ')' must have a corresponding left parenthesis '('.\n",
        "-\tLeft parenthesis '(' must go before the corresponding right parenthesis ')'.\n",
        "-\t'*' could be treated as a single right parenthesis ')' or a single left parenthesis '(' or an empty string \"\".\n",
        "\n",
        "Example 1:\n",
        "Input: s = \"()\"\n",
        "Output: true"
      ],
      "metadata": {
        "id": "c9VuJJCo2zMX"
      }
    },
    {
      "cell_type": "code",
      "source": [
        "def isValid(s):\n",
        "    stack = []  # Stack to keep track of open parentheses\n",
        "\n",
        "    for char in s:\n",
        "        if char == '(' or char == '*':\n",
        "            stack.append(char)\n",
        "        else:\n",
        "            # If the stack is not empty, pop the corresponding open parenthesis\n",
        "            if stack:\n",
        "                stack.pop()\n",
        "            else:\n",
        "                return False\n",
        "\n",
        "    # Iterate through the remaining open parentheses in the stack\n",
        "    while stack:\n",
        "        # If we have an open parenthesis, we can either treat it as '*' or an empty string\n",
        "        if stack[-1] == '(' or stack[-1] == '*':\n",
        "            stack.pop()\n",
        "        else:\n",
        "            return False\n",
        "\n",
        "    return True if not stack else False\n",
        "\n",
        "# time complexity = O(n)\n",
        "# space complexity = O(n)"
      ],
      "metadata": {
        "id": "9IyLPvxs39FQ"
      },
      "execution_count": null,
      "outputs": []
    },
    {
      "cell_type": "markdown",
      "source": [
        "Question 3\n",
        "Given two strings word1 and word2, return the minimum number of steps required to make word1 and word2 the same.\n",
        "In one step, you can delete exactly one character in either string.\n",
        "\n",
        "Example 1:\n",
        "Input: word1 = \"sea\", word2 = \"eat\"\n",
        "Output: 2\n",
        "Explanation: You need one step to make \"sea\" to \"ea\" and another step to make \"eat\" to \"ea\"."
      ],
      "metadata": {
        "id": "OXVFu5bs4Rpl"
      }
    },
    {
      "cell_type": "code",
      "source": [
        "def make_strings_equal(word1, word2):\n",
        "\n",
        "  # Initialize the minimum number of steps to the length of the longer string.\n",
        "  min_steps = max(len(word1), len(word2))\n",
        "\n",
        "  # Iterate over the characters in word1.\n",
        "  for i in range(len(word1)):\n",
        "    # If the character at index i is not in word2, then increment the minimum number of steps.\n",
        "    if word1[i] not in word2:\n",
        "      min_steps += 1\n",
        "\n",
        "  # Return the minimum number of steps.\n",
        "  return min_steps\n",
        "\n",
        "\n",
        "# Time complexity: O(|word1| + |word2|), where |word1| and |word2| are the lengths of the strings.\n",
        "# Space complexity: O(1), since no additional space is allocated."
      ],
      "metadata": {
        "id": "92GXqZJZ4dtb"
      },
      "execution_count": null,
      "outputs": []
    },
    {
      "cell_type": "markdown",
      "source": [
        "Question 4\n",
        "You need to construct a binary tree from a string consisting of parenthesis and integers.\n",
        "The whole input represents a binary tree. It contains an integer followed by zero, one or two pairs of parenthesis. The integer represents the root's value and a pair of parenthesis contains a child binary tree with the same structure. You always start to construct the left child node of the parent first if it exists. \n",
        "Input: s = \"4(2(3)(1))(6(5))\"\n",
        "Output: [4,2,6,3,1,5]"
      ],
      "metadata": {
        "id": "iFQbqGwT5lOk"
      }
    },
    {
      "cell_type": "code",
      "source": [
        "def binary_tree(s):\n",
        "\n",
        "  # Initialize the stack to empty.\n",
        "  stack = []\n",
        "\n",
        "  # Iterate over the characters in s.\n",
        "  for c in s:\n",
        "    # If c is a left parenthesis '(', then push it onto the stack.\n",
        "    if c == '(':\n",
        "      stack.append(c)\n",
        "\n",
        "    # If c is a right parenthesis ')', then pop the top two elements off the stack.\n",
        "    # The first element is the value of the current node, and the second element is the value of the parent node.\n",
        "    elif c == ')':\n",
        "      value = stack.pop()\n",
        "      parent_value = stack.pop()\n",
        "\n",
        "      # Create a new node with the given value and parent value.\n",
        "      node = Node(value, parent_value)\n",
        "\n",
        "      # If the parent node is not None, then add the new node as its left child.\n",
        "      if parent_value is not None:\n",
        "        parent_node = stack[-1]\n",
        "        if parent_node.left is None:\n",
        "          parent_node.left = node\n",
        "\n",
        "  # The last element in the stack is the root of the tree.\n",
        "  return stack[-1]\n",
        "\n",
        "# Time complexity: O(|s|), where |s| is the length of the string.\n",
        "# Space complexity: O(|s|), since no additional space is allocated."
      ],
      "metadata": {
        "id": "m5hWVWbi6lMB"
      },
      "execution_count": null,
      "outputs": []
    },
    {
      "cell_type": "markdown",
      "source": [
        "Question 5\n",
        "Given an array of characters chars, compress it using the following algorithm:\n",
        "Begin with an empty string s. For each group of consecutive repeating characters in chars:\n",
        "-\tIf the group's length is 1, append the character to s.\n",
        "-\tOtherwise, append the character followed by the group's length.\n",
        "The compressed string s should not be returned separately, but instead, be stored in the input character array chars. Note that group lengths that are 10 or longer will be split into multiple characters in chars.\n",
        "After you are done modifying the input array, return the new length of the array.\n",
        "You must write an algorithm that uses only constant extra space.\n",
        "Example 1:\n",
        "Input: chars = [\"a\",\"a\",\"b\",\"b\",\"c\",\"c\",\"c\"]\n",
        "Output: Return 6, and the first 6 characters of the input array should be: [\"a\",\"2\",\"b\",\"2\",\"c\",\"3\"]\n",
        "Explanation: The groups are \"aa\", \"bb\", and \"ccc\". This compresses to \"a2b2c3\"."
      ],
      "metadata": {
        "id": "-i4NeVPo6688"
      }
    },
    {
      "cell_type": "code",
      "source": [
        "def compress_array(chars):\n",
        "\n",
        "  # Initialize the current index to 0.\n",
        "  index = 0\n",
        "\n",
        "  # Iterate over the characters in chars.\n",
        "  for i in range(len(chars)):\n",
        "    # If the current character is the same as the previous character, then increment the count.\n",
        "    if chars[i] == chars[index]:\n",
        "      count += 1\n",
        "\n",
        "    # Otherwise, append the character followed by the count to the output array.\n",
        "    else:\n",
        "      chars[index] = chars[i]\n",
        "      chars[index + 1] = count\n",
        "      index += 2\n",
        "      count = 1\n",
        "\n",
        "  # If the count is not 0, then append it to the output array.\n",
        "  if count != 0:\n",
        "    chars[index] = count\n",
        "    index += 1\n",
        "\n",
        "  # Return the new length of the array.\n",
        "  return index\n",
        "\n",
        "# Time complexity: O(n)\n",
        "# Space complexity: O(1)"
      ],
      "metadata": {
        "id": "72xOGHic7iaX"
      },
      "execution_count": null,
      "outputs": []
    },
    {
      "cell_type": "markdown",
      "source": [
        "Question 6\n",
        "Given two strings s and p, return an array of all the start indices of p*'s anagrams in* s. You may return the answer in any order.\n",
        "An Anagram is a word or phrase formed by rearranging the letters of a different word or phrase, typically using all the original letters exactly once.\n",
        "Example 1:\n",
        "Input: s = \"cbaebabacd\", p = \"abc\"\n",
        "Output: [0,6]\n",
        "Explanation:\n",
        "The substring with start index = 0 is \"cba\", which is an anagram of \"abc\".\n",
        "The substring with start index = 6 is \"bac\", which is an anagram of \"abc\"."
      ],
      "metadata": {
        "id": "yjDlp1Bw7sO1"
      }
    },
    {
      "cell_type": "code",
      "source": [
        "def find_anagrams(s, p):\n",
        "\n",
        "  # Initialize the list to store the frequencies of all characters in p.\n",
        "  char_freq = [0] * 26\n",
        "  for c in p:\n",
        "    char_freq[ord(c) - ord('a')] += 1\n",
        "\n",
        "  # Initialize the result array.\n",
        "  result = []\n",
        "\n",
        "  # Iterate over the characters in s.\n",
        "  for i in range(len(s)):\n",
        "    # Decrement the frequency of the current character in the list.\n",
        "    char_freq[ord(s[i]) - ord('a')] -= 1\n",
        "\n",
        "    # If all the characters in p have a frequency of 0, then the current substring is an anagram of p.\n",
        "    if all(v == 0 for v in char_freq):\n",
        "      result.append(i)\n",
        "\n",
        "    # If the current character is not in p, then reset the list.\n",
        "    else:\n",
        "      char_freq = [0] * 26\n",
        "\n",
        "  return result\n",
        "\n",
        "# Time complexity: O(|s| + |p|), where |s| is the length of s and |p| is the length of p.\n",
        "# Space complexity: O(|p|), since a list of size |p| is used."
      ],
      "metadata": {
        "id": "imY4naeN8tp8"
      },
      "execution_count": null,
      "outputs": []
    },
    {
      "cell_type": "markdown",
      "source": [
        "Question 7\n",
        "Given an encoded string, return its decoded string.\n",
        "The encoding rule is: k[encoded_string], where the encoded_string inside the square brackets is being repeated exactly k times. Note that k is guaranteed to be a positive integer.\n",
        "You may assume that the input string is always valid; there are no extra white spaces, square brackets are well-formed, etc. Furthermore, you may assume that the original data does not contain any digits and that digits are only for those repeat numbers, k. For example, there will not be input like 3a or 2[4].\n",
        "The test cases are generated so that the length of the output will never exceed 105.\n",
        "Example 1:\n",
        "Input: s = \"3[a]2[bc]\"\n",
        "Output: \"aaabcbc\""
      ],
      "metadata": {
        "id": "IO5WenuM9M9U"
      }
    },
    {
      "cell_type": "code",
      "source": [
        "def decodeString(s):\n",
        "    stack = []\n",
        "    current_str = ''\n",
        "    current_num = 0\n",
        "    \n",
        "    for char in s:\n",
        "        if char.isdigit():\n",
        "            # Calculate the number by multiplying the previous number by 10 and adding the new digit\n",
        "            current_num = current_num * 10 + int(char)\n",
        "        elif char == '[':\n",
        "            # Push the current string and number onto the stack\n",
        "            stack.append(current_str)\n",
        "            stack.append(current_num)\n",
        "            # Reset the current string and number\n",
        "            current_str = ''\n",
        "            current_num = 0\n",
        "        elif char == ']':\n",
        "            # Retrieve the previous number and string from the stack\n",
        "            num = stack.pop()\n",
        "            prev_str = stack.pop()\n",
        "            # Repeat the current string by the number of times specified\n",
        "            current_str = prev_str + current_str * num\n",
        "        else:\n",
        "            # Append the character to the current string\n",
        "            current_str += char\n",
        "    \n",
        "    return current_str\n",
        "\n",
        "# time complexity of O(n), where n is the length of the input string s. \n",
        "# space complexity is O(m), where m is the maximum number of nested repetitions in the input string s."
      ],
      "metadata": {
        "id": "Tp9DZCgT9ZTz"
      },
      "execution_count": null,
      "outputs": []
    },
    {
      "cell_type": "markdown",
      "source": [
        "Question 8\n",
        "Given two strings s and goal, return true if you can swap two letters in s so the result is equal to goal*, otherwise, return* false*.*\n",
        "Swapping letters is defined as taking two indices i and j (0-indexed) such that i != j and swapping the characters at s[i] and s[j].\n",
        "-\tFor example, swapping at indices 0 and 2 in \"abcd\" results in \"cbad\".\n",
        "Example 1:\n",
        "Input: s = \"ab\", goal = \"ba\"\n",
        "Output: true\n",
        "Explanation: You can swap s[0] = 'a' and s[1] = 'b' to get \"ba\", which is equal to goal."
      ],
      "metadata": {
        "id": "CMFM-ZWW9ubF"
      }
    },
    {
      "cell_type": "code",
      "source": [
        "def swapString(s, goal):\n",
        "    if len(s) != len(goal):\n",
        "        return False\n",
        "    \n",
        "    if s == goal:\n",
        "        # Check if there are any repeated characters in s\n",
        "        seen = set()\n",
        "        for char in s:\n",
        "            if char in seen:\n",
        "                return True\n",
        "            seen.add(char)\n",
        "        \n",
        "        return False\n",
        "    \n",
        "    # Find the mismatched characters\n",
        "    mismatched = []\n",
        "    for i in range(len(s)):\n",
        "        if s[i] != goal[i]:\n",
        "            mismatched.append(i)\n",
        "    \n",
        "    if len(mismatched) != 2:\n",
        "        return False\n",
        "    \n",
        "    # Check if swapping the mismatched characters results in goal\n",
        "    return s[mismatched[0]] == goal[mismatched[1]] and s[mismatched[1]] == goal[mismatched[0]]\n",
        "\n",
        "# time complexity = O(n)\n",
        "# space complexity = O(1)"
      ],
      "metadata": {
        "id": "-teQL00o-S6s"
      },
      "execution_count": null,
      "outputs": []
    }
  ]
}