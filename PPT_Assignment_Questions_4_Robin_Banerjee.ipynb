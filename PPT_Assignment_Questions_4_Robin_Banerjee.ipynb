{
  "nbformat": 4,
  "nbformat_minor": 0,
  "metadata": {
    "colab": {
      "provenance": []
    },
    "kernelspec": {
      "name": "python3",
      "display_name": "Python 3"
    },
    "language_info": {
      "name": "python"
    }
  },
  "cells": [
    {
      "cell_type": "markdown",
      "source": [
        "Question 1\n",
        "Given three integer arrays arr1, arr2 and arr3 sorted in strictly increasing order, return a sorted array of only the integers that appeared in all three arrays.\n",
        "\n",
        "Example:\n",
        "\n",
        "Input: arr1 = [1,2,3,4,5], arr2 = [1,2,5,7,9], arr3 = [1,3,4,5,8]\n",
        "\n",
        "Output: [1,5]\n",
        "\n",
        "Explanation: Only 1 and 5 appeared in the three arrays."
      ],
      "metadata": {
        "id": "nA42taYAsVu8"
      }
    },
    {
      "cell_type": "code",
      "source": [
        "def find_common_elements(arr1, arr2, arr3):\n",
        "\n",
        "  # Initialize the start pointers for each array.\n",
        "  i = 0\n",
        "  j = 0\n",
        "  k = 0\n",
        "\n",
        "  # Create a list to store the common elements.\n",
        "  common_elements = []\n",
        "\n",
        "  # Iterate over the three arrays.\n",
        "  while i < len(arr1) and j < len(arr2) and k < len(arr3):\n",
        "    # Check if the current elements in the three arrays are equal.\n",
        "    if arr1[i] == arr2[j] == arr3[k]:\n",
        "      # If they are equal, add them to the list of common elements.\n",
        "      common_elements.append(arr1[i])\n",
        "      # Increment the start pointers for all three arrays.\n",
        "      i += 1\n",
        "      j += 1\n",
        "      k += 1\n",
        "    elif arr1[i] < arr2[j]:\n",
        "      # If the current element in arr1 is smaller than the current element in arr2,\n",
        "      # increment the start pointer for arr1.\n",
        "      i += 1\n",
        "    elif arr2[j] < arr3[k]:\n",
        "      # If the current element in arr2 is smaller than the current element in arr3,\n",
        "      # increment the start pointer for arr2.\n",
        "      j += 1\n",
        "    else:\n",
        "      # If the current element in arr3 is smaller than the current element in arr1,\n",
        "      # increment the start pointer for arr3.\n",
        "      k += 1\n",
        "\n",
        "  # Return the list of common elements.\n",
        "  return common_elements\n",
        "\n",
        "# time complexity = O(n)\n",
        "# space complexity = O(1)"
      ],
      "metadata": {
        "id": "eQbZ-WpDyd_l"
      },
      "execution_count": null,
      "outputs": []
    },
    {
      "cell_type": "markdown",
      "source": [
        "Question 2\n",
        "Given two 0-indexed integer arrays nums1 and nums2, return a list answer of size 2 where:\n",
        "•\tanswer[0] is a list of all distinct integers in nums1 which are not present in nums2.\n",
        "•\tanswer[1] is a list of all distinct integers in nums2 which are not present in nums1.\n",
        "Note that the integers in the lists may be returned in any order.\n",
        "Example 1:\n",
        "Input: nums1 = [1,2,3], nums2 = [2,4,6]\n",
        "Output: [[1,3],[4,6]]\n",
        "Explanation:\n",
        "For nums1, nums1[1] = 2 is present at index 0 of nums2, whereas nums1[0] = 1 and nums1[2] = 3 are not present in nums2. Therefore, answer[0] = [1,3].\n",
        "For nums2, nums2[0] = 2 is present at index 1 of nums1, whereas nums2[1] = 4 and nums2[2] = 6 are not present in nums2. Therefore, answer[1] = [4,6]."
      ],
      "metadata": {
        "id": "U0mi0Zm8yne9"
      }
    },
    {
      "cell_type": "code",
      "source": [
        "def find_distinct_elements(nums1, nums2):\n",
        "\n",
        "  # Initialize the start pointers for each array.\n",
        "  i = 0\n",
        "  j = 0\n",
        "\n",
        "  # Create a set to store the distinct elements in nums1.\n",
        "  nums1_set = set(nums1)\n",
        "\n",
        "  # Create a list to store the distinct elements in nums2 which are not present in nums1.\n",
        "  nums2_not_in_nums1 = []\n",
        "\n",
        "  # Iterate over nums2.\n",
        "  while j < len(nums2):\n",
        "    # Check if the current element in nums2 is not present in nums1.\n",
        "    if nums2[j] not in nums1_set:\n",
        "      # If it is not present, add it to the list of distinct elements in nums2 which are not present in nums1.\n",
        "      nums2_not_in_nums1.append(nums2[j])\n",
        "    j += 1\n",
        "\n",
        "  # Create a list to store the distinct elements in nums1 which are not present in nums2.\n",
        "  nums1_not_in_nums2 = list(nums1_set - set(nums2))\n",
        "\n",
        "  # Return a list of two lists, where the first list contains the distinct elements in nums1 which are not present in nums2, and the second list contains the distinct elements in nums2 which are not present in nums1.\n",
        "  return [nums1_not_in_nums2, nums2_not_in_nums1]\n",
        "\n",
        "# time complexity = O(m + n), where m is the length of nums1 and n is the length of nums2\n",
        "# The space complexity = O(m), since it needs to store the set of distinct elements in nums1"
      ],
      "metadata": {
        "id": "-fYzBq960Fru"
      },
      "execution_count": null,
      "outputs": []
    },
    {
      "cell_type": "markdown",
      "source": [
        "Question 3 \n",
        "Given a 2D integer array matrix, return the transpose of matrix.\n",
        "The transpose of a matrix is the matrix flipped over its main diagonal, switching the matrix's row and column indices.\n",
        "Example 1:\n",
        "Input: matrix = [[1,2,3],[4,5,6],[7,8,9]]\n",
        "Output: [[1,4,7],[2,5,8],[3,6,9]] "
      ],
      "metadata": {
        "id": "q4kVyvB60cRE"
      }
    },
    {
      "cell_type": "code",
      "source": [
        "def transpose(matrix):\n",
        "\n",
        "  # Initialize the output array.\n",
        "  output = []\n",
        "\n",
        "  # Iterate over the rows of the input array.\n",
        "  for row in matrix:\n",
        "    # Create a new row for the output array.\n",
        "    new_row = []\n",
        "\n",
        "    # Iterate over the elements in the current row.\n",
        "    for element in row:\n",
        "      # Add the element to the new row.\n",
        "      new_row.append(element)\n",
        "\n",
        "    # Add the new row to the output array.\n",
        "    output.append(new_row)\n",
        "\n",
        "  # Return the output array.\n",
        "  return output\n",
        "\n",
        "# time complexity = O(n)\n",
        "# space complexity = O(n)"
      ],
      "metadata": {
        "id": "TLyqxDoU021-"
      },
      "execution_count": null,
      "outputs": []
    },
    {
      "cell_type": "markdown",
      "source": [
        "Question 4 \n",
        "Given an integer array nums of 2n integers, group these integers into n pairs (a1, b1), (a2, b2), ..., (an, bn) such that the sum of min(ai, bi) for all i is maximized. Return the maximized sum.\n",
        "Example 1:\n",
        "Input: nums = [1,4,3,2]\n",
        "Output: 4\n",
        "Explanation: All possible pairings (ignoring the ordering of elements) are:\n",
        "1.\t(1, 4), (2, 3) -> min(1, 4) + min(2, 3) = 1 + 2 = 3\n",
        "2.\t(1, 3), (2, 4) -> min(1, 3) + min(2, 4) = 1 + 2 = 3\n",
        "3.\t(1, 2), (3, 4) -> min(1, 2) + min(3, 4) = 1 + 3 = 4\n",
        "So the maximum possible sum is 4."
      ],
      "metadata": {
        "id": "TAMRqMkz1GUF"
      }
    },
    {
      "cell_type": "code",
      "source": [
        "def max_pair_sum(nums):\n",
        "  # Sort the array in ascending order.\n",
        "  nums.sort()\n",
        "\n",
        "  # Initialize the sum of min(ai, bi) for all i.\n",
        "  sum_min = 0\n",
        "\n",
        "  # Iterate over the array and add the minimum of each pair to the sum.\n",
        "  for i in range(0, len(nums), 2):\n",
        "    sum_min += min(nums[i], nums[i + 1])\n",
        "\n",
        "  # Return the sum.\n",
        "  return sum_min\n",
        "\n",
        "  # Time complexity = O(n^2)\n",
        "  # space complexity = O(1)"
      ],
      "metadata": {
        "id": "tT0rD3Rf1du-"
      },
      "execution_count": null,
      "outputs": []
    },
    {
      "cell_type": "markdown",
      "source": [
        "Question 5 \n",
        "You have n coins and you want to build a staircase with these coins. The staircase consists of k rows where the ith row has exactly i coins. The last row of the staircase may be incomplete.\n",
        "Given the integer n, return the number of complete rows of the staircase you will build.\n",
        "Example:\n",
        "Input: n = 5\n",
        "Output: 2\n",
        "Explanation: Because the 3rd row is incomplete, we return 2."
      ],
      "metadata": {
        "id": "xzmrLPef2EDj"
      }
    },
    {
      "cell_type": "code",
      "source": [
        "def arrange_coins(n):\n",
        "\n",
        "  # Initialize the number of complete rows.\n",
        "  rows = 0\n",
        "\n",
        "  # Iterate over the coins, adding them to the rows until there are no more coins left.\n",
        "  for i in range(1, n + 1):\n",
        "    # Add the coin to the current row.\n",
        "    rows += 1\n",
        "\n",
        "    # If the current row is complete, increment the number of complete rows.\n",
        "    if rows * i > n:\n",
        "      rows -= 1\n",
        "      break\n",
        "\n",
        "  # Return the number of complete rows.\n",
        "  return rows\n",
        "\n",
        "# time complexity = O(n)\n",
        "# space complexity = O(1)"
      ],
      "metadata": {
        "id": "teZHhfIK3Tfw"
      },
      "execution_count": null,
      "outputs": []
    },
    {
      "cell_type": "markdown",
      "source": [
        "Question 6 \n",
        "Given an integer array nums sorted in non-decreasing order, return an array of the squares of each number sorted in non-decreasing order.\n",
        "Example 1:\n",
        "Input: nums = [-4,-1,0,3,10]\n",
        "Output: [0,1,9,16,100]\n",
        "Explanation: \n",
        "After squaring, the array becomes [16,1,0,9,100]. \n",
        "After sorting, it becomes [0,1,9,16,100]"
      ],
      "metadata": {
        "id": "F7dfdUkX3i5z"
      }
    },
    {
      "cell_type": "code",
      "source": [
        "def sorted_squares(nums):\n",
        "\n",
        "  # Create two pointers, left and right, to point to the beginning and end of the array, respectively.\n",
        "  left = 0\n",
        "  right = len(nums) - 1\n",
        "\n",
        "  # Create a new array to store the squares of the numbers.\n",
        "  squares = []\n",
        "\n",
        "  # Iterate through the array, squaring each number and adding it to the new array.\n",
        "  while left <= right:\n",
        "    # If the left number is less than or equal to the right number, square the left number and add it to the new array.\n",
        "    if nums[left] <= nums[right]:\n",
        "      squares.append(nums[left] ** 2)\n",
        "      left += 1\n",
        "    # Otherwise, square the right number and add it to the new array.\n",
        "    else:\n",
        "      squares.append(nums[right] ** 2)\n",
        "      right -= 1\n",
        "\n",
        "  # Sort the new array in non-decreasing order.\n",
        "  squares.sort()\n",
        "\n",
        "  # Return the new array.\n",
        "  return squares\n",
        "\n",
        "# time complexity = O(n)\n",
        "# space complexity = O(1)"
      ],
      "metadata": {
        "id": "aUYH9LqW5Fgo"
      },
      "execution_count": null,
      "outputs": []
    },
    {
      "cell_type": "markdown",
      "source": [
        "Question 7 \n",
        "You are given an m x n matrix M initialized with all 0's and an array of operations ops, where ops[i] = [ai, bi] means M[x][y] should be incremented by one for all 0 <= x < ai and 0 <= y < bi.\n",
        "Count and return the number of maximum integers in the matrix after performing all the operations\n",
        "Example 1:\n",
        "Input: m = 3, n = 3, ops = [[2,2],[3,3]]\n",
        "Output: 4\n",
        "Explanation: The maximum integer in M is 2, and there are four of it in M. So return 4."
      ],
      "metadata": {
        "id": "LGr8nlxW5SPH"
      }
    },
    {
      "cell_type": "code",
      "source": [
        "def count_max_integers(m, n, ops):\n",
        "\n",
        "  # Create a matrix to store the incremented values.\n",
        "  incremented_matrix = [[0 for j in range(n)] for i in range(m)]\n",
        "\n",
        "  # Iterate through the operations array.\n",
        "  for op in ops:\n",
        "    # Increment the values in the matrix for the specified range.\n",
        "    for i in range(op[0]):\n",
        "      for j in range(op[1]):\n",
        "        incremented_matrix[i][j] += 1\n",
        "\n",
        "  # Find the maximum value in the matrix.\n",
        "  max_value = max(max(row) for row in incremented_matrix)\n",
        "\n",
        "  # Count the number of times the maximum value appears in the matrix.\n",
        "  count = 0\n",
        "  for row in incremented_matrix:\n",
        "    count += row.count(max_value)\n",
        "\n",
        "  # Return the count.\n",
        "  return count\n",
        "\n",
        "# time complexity = O(mn)\n",
        "# space complexity = O(mn)"
      ],
      "metadata": {
        "id": "9Um3Va1dDQL2"
      },
      "execution_count": null,
      "outputs": []
    },
    {
      "cell_type": "markdown",
      "source": [
        "Question 8\n",
        "Given the array nums consisting of 2n elements in the form [x1,x2,...,xn,y1,y2,...,yn]. Return the array in the form [x1,y1,x2,y2,...,xn,yn].\n",
        "Example 1:\n",
        "Input: nums = [2,5,1,3,4,7], n = 3\n",
        "Output: [2,3,5,4,1,7]\n",
        "Explanation: Since x1=2, x2=5, x3=1, y1=3, y2=4, y3=7 then the answer is [2,3,5,4,1,7]."
      ],
      "metadata": {
        "id": "q--rixBZD_iM"
      }
    },
    {
      "cell_type": "code",
      "source": [
        "def rearrange(nums, n):\n",
        "    result = [0] * (2 * n)  # Create a new list to store the shuffled array\n",
        "    p1 = 0  # Pointer 1 for elements from x1 to xn\n",
        "    p2 = n  # Pointer 2 for elements from y1 to yn\n",
        "\n",
        "    # Iterate through the original array and shuffle the elements\n",
        "    for i in range(2 * n):\n",
        "        if i % 2 == 0:\n",
        "            result[i] = nums[p1]  # Place x1, x2, x3, ...\n",
        "            p1 += 1\n",
        "        else:\n",
        "            result[i] = nums[p2]  # Place y1, y2, y3, ...\n",
        "            p2 += 1\n",
        "\n",
        "    return result\n",
        "\n",
        "# time complexity = O(n)\n",
        "# space complexity = O(n)"
      ],
      "metadata": {
        "id": "XYC2nwmAFqho"
      },
      "execution_count": null,
      "outputs": []
    }
  ]
}