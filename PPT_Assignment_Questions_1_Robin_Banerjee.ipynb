{
  "nbformat": 4,
  "nbformat_minor": 0,
  "metadata": {
    "colab": {
      "provenance": []
    },
    "kernelspec": {
      "name": "python3",
      "display_name": "Python 3"
    },
    "language_info": {
      "name": "python"
    }
  },
  "cells": [
    {
      "cell_type": "markdown",
      "source": [
        "Q1. Given an array of integers nums and an integer target, return indices of the two numbers such that they add up to target.\n",
        "\n",
        "You may assume that each input would have exactly one solution, and you may not use the same element twice.\n",
        "\n",
        "You can return the answer in any order.\n",
        "\n",
        "Example:\n",
        "Input: nums = [2,7,11,15], target = 9\n",
        "Output0 [0,1]\n",
        "\n",
        "Explanation: Because nums[0] + nums[1] == 9, we return [0, 1]"
      ],
      "metadata": {
        "id": "vrjabpyNfvH-"
      }
    },
    {
      "cell_type": "code",
      "source": [
        "def two_sum(nums, target):\n",
        "  \"\"\"\n",
        "  Finds two numbers in the array that add up to the target.\n",
        "\n",
        "  Args:\n",
        "    nums: An array of integers.\n",
        "    target: The target sum.\n",
        "\n",
        "  Returns:\n",
        "    A list of two indices, in any order, such that the numbers at those indices\n",
        "    add up to the target. If no such pair exists, returns None.\n",
        "  \"\"\"\n",
        "\n",
        "  # Create a set to store the seen numbers.\n",
        "\n",
        "  seen = set()\n",
        "\n",
        "  # Iterate over the array.\n",
        "\n",
        "  for i in range(len(nums)):\n",
        "\n",
        "    # Calculate the complement of the current number.\n",
        "\n",
        "    complement = target - nums[i]\n",
        "\n",
        "    # Check if the complement is in the seen set.\n",
        "\n",
        "    if complement in seen:\n",
        "\n",
        "      # If it is, return a list of the two indices.\n",
        "\n",
        "      return [i, seen[complement]]\n",
        "\n",
        "    # Otherwise, add the current number to the seen set.\n",
        "\n",
        "    seen.add(nums[i])\n",
        "\n",
        "  # If we reach the end of the loop and no pair has been found, return None.\n",
        "\n",
        "  return None"
      ],
      "metadata": {
        "id": "PDg2OC8kf1e5"
      },
      "execution_count": 1,
      "outputs": []
    },
    {
      "cell_type": "markdown",
      "source": [
        "Q2. Given an integer array nums and an integer val, remove all occurrences of val in nums in-place. The order of the elements may be changed. Then return the number of elements in nums which are not equal to val.\n",
        "\n",
        "Consider the number of elements in nums which are not equal to val be k, to get accepted, you need to do the following things:\n",
        "\n",
        "- Change the array nums such that the first k elements of nums contain the elements which are not equal to val. The remaining elements of nums are not important as well as the size of nums.\n",
        "- Return k.\n",
        "\n",
        "Example :\n",
        "Input: nums = [3,2,2,3], val = 3\n",
        "Output: 2, nums = [2,2,_*,_*]\n",
        "\n",
        "Explanation: Your function should return k = 2, with the first two elements of nums being 2. It does not matter what you leave beyond the returned k (hence they are underscores)"
      ],
      "metadata": {
        "id": "5l0dqjZci1ZU"
      }
    },
    {
      "cell_type": "code",
      "source": [
        "def remove_element(nums, val):\n",
        "  \"\"\"\n",
        "  Removes all occurrences of val from nums in-place.\n",
        "\n",
        "  Args:\n",
        "    nums: An array of integers.\n",
        "    val: The value to remove.\n",
        "\n",
        "  Returns:\n",
        "    The number of elements in nums which are not equal to val.\n",
        "  \"\"\"\n",
        "\n",
        "  # Initialize the count of non-val elements to 0.\n",
        "\n",
        "  count = 0\n",
        "\n",
        "  # Iterate over the array.\n",
        "\n",
        "  for i in range(len(nums)):\n",
        "\n",
        "    # If the current element is not equal to val,\n",
        "    # increment the count and move the element to the front of the array.\n",
        "\n",
        "    if nums[i] != val:\n",
        "      count += 1\n",
        "      nums[count - 1], nums[i] = nums[i], nums[count - 1]\n",
        "\n",
        "  # Return the number of non-val elements.\n",
        "\n",
        "  return count"
      ],
      "metadata": {
        "id": "VKbDASWno_hB"
      },
      "execution_count": null,
      "outputs": []
    },
    {
      "cell_type": "markdown",
      "source": [
        "Q3. Given a sorted array of distinct integers and a target value, return the index if the target is found. If not, return the index where it would be if it were inserted in order.\n",
        "\n",
        "You must write an algorithm with O(log n) runtime complexity.\n",
        "\n",
        "Example:\n",
        "Input: nums = [1,3,5,6], target = 5\n",
        "\n",
        "Output: 2"
      ],
      "metadata": {
        "id": "XkjUF8EDpTAo"
      }
    },
    {
      "cell_type": "code",
      "source": [
        "def search_insert_position(nums, target):\n",
        "  \"\"\"\n",
        "  Searches for the target value in the array and returns the index if it is found. If not, returns the index where it would be if it were inserted in order.\n",
        "\n",
        "  Args:\n",
        "    nums: A sorted array of distinct integers.\n",
        "    target: The target value to search for.\n",
        "\n",
        "  Returns:\n",
        "    The index of the target value, if it is found. If not, returns the index where it would be if it were inserted in order.\n",
        "  \"\"\"\n",
        "\n",
        "  # Initialize the low and high pointers.\n",
        "\n",
        "  low = 0\n",
        "  high = len(nums) - 1\n",
        "\n",
        "  # While the low pointer is less than or equal to the high pointer,\n",
        "  # do the following:\n",
        "\n",
        "  while low <= high:\n",
        "\n",
        "    # Calculate the middle pointer.\n",
        "\n",
        "    mid = (low + high) // 2\n",
        "\n",
        "    # If the target value is equal to the middle element,\n",
        "    # return the index of the middle element.\n",
        "\n",
        "    if nums[mid] == target:\n",
        "      return mid\n",
        "\n",
        "    # If the target value is less than the middle element,\n",
        "    # set the high pointer to the middle pointer - 1.\n",
        "\n",
        "    elif nums[mid] > target:\n",
        "      high = mid - 1\n",
        "\n",
        "    # Otherwise, set the low pointer to the middle pointer + 1.\n",
        "\n",
        "    else:\n",
        "      low = mid + 1\n",
        "\n",
        "  # If the target value is not found,\n",
        "  # return the index where it would be if it were inserted in order.\n",
        "\n",
        "  return low"
      ],
      "metadata": {
        "id": "SLnnNo1lp4c_"
      },
      "execution_count": null,
      "outputs": []
    },
    {
      "cell_type": "markdown",
      "source": [
        "Q4. You are given a large integer represented as an integer array digits, where each digits[i] is the ith digit of the integer. The digits are ordered from most significant to least significant in left-to-right order. The large integer does not contain any leading 0's.\n",
        "\n",
        "Increment the large integer by one and return the resulting array of digits.\n",
        "\n",
        "Example:\n",
        "Input: digits = [1,2,3]\n",
        "Output: [1,2,4]\n",
        "\n",
        "Explanation: The array represents the integer 123.\n",
        "\n",
        "Incrementing by one gives 123 + 1 = 124.\n",
        "Thus, the result should be [1,2,4]."
      ],
      "metadata": {
        "id": "oZVAT2-gp9MB"
      }
    },
    {
      "cell_type": "code",
      "source": [
        "def plus_one(digits):\n",
        "  \"\"\"\n",
        "  Increments the large integer represented by the given array of digits.\n",
        "\n",
        "  Args:\n",
        "    digits: An array of integers representing the large integer.\n",
        "\n",
        "  Returns:\n",
        "    An array of integers representing the incremented large integer.\n",
        "  \"\"\"\n",
        "\n",
        "  # Initialize the carry to 0.\n",
        "\n",
        "  \"\"\"\n",
        "  This line initializes the carry variable to 0. The carry variable will be used to track whether or not there is a carry over from the addition of the current digit and the carry.\n",
        "  \"\"\"\n",
        "  carry = 0\n",
        "\n",
        "  # Iterate over the digits from right to left.\n",
        "\n",
        "  \"\"\"\n",
        "  This loop iterates over the digits from right to left. We start at the end of the array because we want to handle the carry over from the addition of the current digit and the carry.\n",
        "  \"\"\"\n",
        "  for i in range(len(digits) - 1, -1, -1):\n",
        "\n",
        "    # If the current digit is 9,\n",
        "    # set it to 0 and carry over 1.\n",
        "\n",
        "    \"\"\"\n",
        "    This if statement checks if the current digit is 9. If it is, we set it to 0 and carry over 1. This is because we want to handle the carry over from the addition of the current digit and the carry.\n",
        "    \"\"\"\n",
        "    if digits[i] == 9:\n",
        "      digits[i] = 0\n",
        "      carry = 1\n",
        "\n",
        "    # Otherwise,\n",
        "    # increment the current digit and reset the carry to 0.\n",
        "\n",
        "    \"\"\"\n",
        "    This else statement checks if the current digit is less than 9. If it is, we increment the current digit and reset the carry to 0.\n",
        "    \"\"\"\n",
        "    else:\n",
        "      digits[i] += 1\n",
        "      carry = 0\n",
        "\n",
        "  # If the carry is still 1,\n",
        "  # append a 1 to the end of the array.\n",
        "\n",
        "  \"\"\"\n",
        "  This if statement checks if the carry is still 1 after iterating over all of the digits. If it is, we append a 1 to the end of the array. This is because we want to handle the carry over from the addition of the last digit and the carry.\n",
        "  \"\"\"\n",
        "  if carry == 1:\n",
        "    digits.append(1)\n",
        "\n",
        "  return digits"
      ],
      "metadata": {
        "id": "FxJUKXE9rflg"
      },
      "execution_count": null,
      "outputs": []
    },
    {
      "cell_type": "markdown",
      "source": [
        "Q5. You are given two integer arrays nums1 and nums2, sorted in non-decreasing order, and two integers m and n, representing the number of elements in nums1 and nums2 respectively.\n",
        "\n",
        "Merge nums1 and nums2 into a single array sorted in non-decreasing order.\n",
        "\n",
        "The final sorted array should not be returned by the function, but instead be stored inside the array nums1. To accommodate this, nums1 has a length of m + n, where the first m elements denote the elements that should be merged, and the last n elements are set to 0 and should be ignored. nums2 has a length of n.\n",
        "\n",
        "Example:\n",
        "Input: nums1 = [1,2,3,0,0,0], m = 3, nums2 = [2,5,6], n = 3\n",
        "Output: [1,2,2,3,5,6]\n",
        "\n",
        "Explanation: The arrays we are merging are [1,2,3] and [2,5,6].\n",
        "The result of the merge is [1,2,2,3,5,6] with the underlined elements coming from nums1."
      ],
      "metadata": {
        "id": "NI0q0WRvsANX"
      }
    },
    {
      "cell_type": "code",
      "source": [
        "def merge_sorted_arrays(nums1, m, nums2, n):\n",
        "  \"\"\"\n",
        "  Merges two sorted arrays into a single array sorted in non-decreasing order.\n",
        "\n",
        "  Args:\n",
        "    nums1: The first sorted array.\n",
        "    m: The number of elements in nums1.\n",
        "    nums2: The second sorted array.\n",
        "    n: The number of elements in nums2.\n",
        "\n",
        "  Returns:\n",
        "    The merged array sorted in non-decreasing order.\n",
        "  \"\"\"\n",
        "\n",
        "  # Initialize the pointers to the start of each array.\n",
        "\n",
        "  i = 0\n",
        "  j = 0\n",
        "\n",
        "  # Iterate over the arrays until one of them is exhausted.\n",
        "\n",
        "  while i < m and j < n:\n",
        "\n",
        "    # If the current element in nums1 is less than or equal to the current element in nums2,\n",
        "    # add the current element in nums1 to the merged array and increment the pointer to nums1.\n",
        "\n",
        "    if nums1[i] <= nums2[j]:\n",
        "      nums1[i + j] = nums1[i]\n",
        "      i += 1\n",
        "\n",
        "    # Otherwise,\n",
        "    # add the current element in nums2 to the merged array and increment the pointer to nums2.\n",
        "\n",
        "    else:\n",
        "      nums1[i + j] = nums2[j]\n",
        "      j += 1\n",
        "\n",
        "  # Append the remaining elements of nums1 to the merged array.\n",
        "\n",
        "  for k in range(i, m):\n",
        "    nums1[i + j] = nums1[k]\n",
        "    i += 1\n",
        "\n",
        "  # Append the remaining elements of nums2 to the merged array.\n",
        "\n",
        "  for k in range(j, n):\n",
        "    nums1[i + j] = nums2[k]\n",
        "    j += 1\n",
        "\n",
        "  return nums1"
      ],
      "metadata": {
        "id": "-rdk-iGusiKp"
      },
      "execution_count": null,
      "outputs": []
    },
    {
      "cell_type": "markdown",
      "source": [
        "Q6. Given an integer array nums, return true if any value appears at least twice in the array, and return false if every element is distinct.\n",
        "\n",
        "Example:\n",
        "Input: nums = [1,2,3,1]\n",
        "\n",
        "Output: true"
      ],
      "metadata": {
        "id": "94YMm40hsmP-"
      }
    },
    {
      "cell_type": "code",
      "source": [
        "def contains_duplicates(nums):\n",
        "  \"\"\"\n",
        "  Checks if an array contains duplicate elements.\n",
        "\n",
        "  Args:\n",
        "    nums: The array to check.\n",
        "\n",
        "  Returns:\n",
        "    True if the array contains duplicate elements, False otherwise.\n",
        "\n",
        "  \"\"\"\n",
        "\n",
        "  # Initialize a boolean variable to track if any duplicate elements have been found.\n",
        "\n",
        "  has_duplicates = False\n",
        "\n",
        "  # Iterate over the array and compare each element to the elements that have already been seen.\n",
        "\n",
        "  for i in range(len(nums)):\n",
        "    # Check if the current element is equal to any of the elements that have already been seen.\n",
        "    if nums[i] in nums[:i]:\n",
        "      # If it is, set the boolean variable to True and break out of the loop.\n",
        "      has_duplicates = True\n",
        "      break\n",
        "\n",
        "  # Return the boolean variable.\n",
        "\n",
        "  return has_duplicates"
      ],
      "metadata": {
        "id": "k0hs80dQs13J"
      },
      "execution_count": null,
      "outputs": []
    },
    {
      "cell_type": "markdown",
      "source": [
        "Q7. Given an integer array nums, move all 0's to the end of it while maintaining the relative order of the nonzero elements.\n",
        "\n",
        "Note that you must do this in-place without making a copy of the array.\n",
        "\n",
        "Example:\n",
        "Input: nums = [0,1,0,3,12]\n",
        "Output: [1,3,12,0,0]"
      ],
      "metadata": {
        "id": "AXBk3BqEuCt3"
      }
    },
    {
      "cell_type": "code",
      "source": [
        "def move_zeros(nums):\n",
        "  \"\"\"\n",
        "  Move all 0's to the end of the array while maintaining the relative order of the non-zero elements.\n",
        "\n",
        "  Args:\n",
        "    nums: The array to be modified.\n",
        "\n",
        "  Returns:\n",
        "    The modified array.\n",
        "  \"\"\"\n",
        "\n",
        "  # Initialize the pointer to the first non-zero element.\n",
        "  non_zero_ptr = 0\n",
        "\n",
        "  # Iterate over the array.\n",
        "  for i in range(len(nums)):\n",
        "    # If the current element is not zero, swap it with the element at the non-zero pointer.\n",
        "    if nums[i] != 0:\n",
        "      nums[non_zero_ptr], nums[i] = nums[i], nums[non_zero_ptr]\n",
        "      non_zero_ptr += 1\n",
        "\n",
        "  # Return the modified array.\n",
        "  return nums"
      ],
      "metadata": {
        "id": "bb3HbBf-umKx"
      },
      "execution_count": null,
      "outputs": []
    },
    {
      "cell_type": "markdown",
      "source": [
        "Q8. You have a set of integers s, which originally contains all the numbers from 1 to n. Unfortunately, due to some error, one of the numbers in s got duplicated to another number in the set, which results in repetition of one number and loss of another number.\n",
        "\n",
        "You are given an integer array nums representing the data status of this set after the error.\n",
        "\n",
        "Find the number that occurs twice and the number that is missing and return them in the form of an array.\n",
        "\n",
        "Example:\n",
        "Input: nums = [1,2,2,4]\n",
        "Output: [2,3]"
      ],
      "metadata": {
        "id": "7fOrOIKTupFJ"
      }
    },
    {
      "cell_type": "code",
      "source": [
        "def find_duplicate_and_missing(nums):\n",
        "  \"\"\"\n",
        "  Finds the duplicate number and missing number in an array.\n",
        "\n",
        "  Args:\n",
        "    nums: The array to search.\n",
        "\n",
        "  Returns:\n",
        "    A list of two integers, the duplicate number and the missing number.\n",
        "  \"\"\"\n",
        "\n",
        "  # Get the sum of all numbers from 1 to n.\n",
        "  n = len(nums) + 1\n",
        "  sum_of_all_numbers = n * (n + 1) // 2\n",
        "\n",
        "  # Get the sum of all numbers in the array.\n",
        "  sum_of_numbers_in_array = sum(nums)\n",
        "\n",
        "  # Calculate the duplicate number and missing number.\n",
        "  duplicate_number = sum_of_numbers_in_array - sum_of_all_numbers\n",
        "  missing_number = n - duplicate_number\n",
        "\n",
        "  # Return the duplicate number and missing number.\n",
        "  return [duplicate_number, missing_number]"
      ],
      "metadata": {
        "id": "N9N9hJ7yzL0E"
      },
      "execution_count": null,
      "outputs": []
    }
  ]
}