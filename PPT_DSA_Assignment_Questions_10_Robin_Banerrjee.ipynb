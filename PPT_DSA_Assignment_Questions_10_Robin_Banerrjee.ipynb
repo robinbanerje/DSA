{
  "nbformat": 4,
  "nbformat_minor": 0,
  "metadata": {
    "colab": {
      "provenance": []
    },
    "kernelspec": {
      "name": "python3",
      "display_name": "Python 3"
    },
    "language_info": {
      "name": "python"
    }
  },
  "cells": [
    {
      "cell_type": "markdown",
      "source": [
        "Question 1\n",
        "Given an integer n, return true if it is a power of three. Otherwise, return false.\n",
        "An integer n is a power of three, if there exists an integer x such that n == 3x.\n",
        "Example 1:\n",
        "Input: n = 27\n",
        "Output: true\n",
        "Explanation: 27 = 3^3\n",
        "Example 2:\n",
        "Input: n = 0\n",
        "Output: false\n",
        "Explanation: There is no x where 3x = 0.\n",
        "\n",
        "Example 3: Input: n = -1\n",
        "Output: false\n",
        "Explanation: There is no x where 3x = (-1)."
      ],
      "metadata": {
        "id": "oVYb_jiccl6S"
      }
    },
    {
      "cell_type": "code",
      "source": [
        "def is_power_of_three(n):\n",
        "\n",
        "    # if n is less than or equal to 0.\n",
        "    if n <= 0:\n",
        "        # if n is less than or equal to 0, it is not a power of three.\n",
        "        return False\n",
        "\n",
        "    # if n is equal to 1.\n",
        "    elif n == 1:\n",
        "        # if n is equal to 1, it is a power of three.\n",
        "        return True\n",
        "\n",
        "    # recursively checking if n is a power of three.\n",
        "    else:\n",
        "        return is_power_of_three(n // 3)\n",
        "\n",
        "    # Time complexity: O(log n)\n",
        "    # Space complexity: O(log n)"
      ],
      "metadata": {
        "id": "jg0i3rizdsT3"
      },
      "execution_count": null,
      "outputs": []
    },
    {
      "cell_type": "markdown",
      "source": [
        "Question 2\n",
        "You have a list arr of all integers in the range [1, n] sorted in a strictly increasing order. Apply the following algorithm on arr:\n",
        "-\tStarting from left to right, remove the first number and every other number afterward until you reach the end of the list.\n",
        "-\tRepeat the previous step again, but this time from right to left, remove the rightmost number and every other number from the remaining numbers.\n",
        "-\tKeep repeating the steps again, alternating left to right and right to left, until a single number remains.\n",
        "Given the integer n, return the last number that remains in arr.\n",
        "Example 1: Input: n = 9\n",
        "Output: 6\n",
        "Explanation:\n",
        "arr = [1, 2,3, 4,5, 6,7, 8,9]\n",
        "arr = [2,4, 6,8]\n",
        "arr = [2, 6]\n",
        "arr = [6]\n",
        "Example 2: Input: n = 1\n",
        "Output: 1"
      ],
      "metadata": {
        "id": "tHnf94YoeCEK"
      }
    },
    {
      "cell_type": "code",
      "source": [
        "def last_number(arr, n):\n",
        "\n",
        "    # if n is 1, the only remaining number is 1.\n",
        "    if n == 1:\n",
        "        return arr[0]\n",
        "\n",
        "    else:\n",
        "        # if the length of the list is odd, remove the first element.\n",
        "        if n % 2 == 1:\n",
        "            return last_number(arr[1:], n - 1)\n",
        "\n",
        "        # if the length of the list is even, remove the first and last element.\n",
        "        else:\n",
        "            return last_number(arr[2:], n - 2)\n",
        "\n",
        "# Time complexity: O(n)\n",
        "# Space complexity: O(log n)"
      ],
      "metadata": {
        "id": "HIaZ0JT6fyL6"
      },
      "execution_count": null,
      "outputs": []
    },
    {
      "cell_type": "markdown",
      "source": [
        "Question 3\n",
        "Given a set represented as a string, write a recursive code to print all subsets of it. The subsets can be printed in any order.\n",
        "Example 1:\n",
        "Input :  set = “abc”\n",
        "Output : { “”, “a”, “b”, “c”, “ab”, “ac”, “bc”, “abc”}\n",
        "Example 2:\n",
        "Input : set = “abcd”\n",
        "Output : { “”, “a” ,”ab” ,”abc” ,”abcd”, “abd” ,”ac” ,”acd”, “ad” ,”b”, “bc” ,”bcd” ,”bd” ,”c” ,”cd” ,”d” }"
      ],
      "metadata": {
        "id": "aBdia4bBgqnV"
      }
    },
    {
      "cell_type": "code",
      "source": [
        "def print_subsets(set):\n",
        "\n",
        "    if len(set) == 0:\n",
        "        # There are no subsets of an empty set.\n",
        "        return\n",
        "\n",
        "    else:\n",
        "        # Print all subsets of the set without the first element.\n",
        "        print_subsets(set[1:])\n",
        "\n",
        "        # Print all subsets of the set with the first element.\n",
        "        for subset in print_subsets(set[1:]):\n",
        "            # Add the first element to the subset.\n",
        "            subset.add(set[0])\n",
        "            # Print the subset.\n",
        "            print(subset)\n",
        "\n",
        "# Time complexity: O(2^n)\n",
        "# Space complexity: O(2^n)"
      ],
      "metadata": {
        "id": "-I98fLM9iDPm"
      },
      "execution_count": null,
      "outputs": []
    },
    {
      "cell_type": "markdown",
      "source": [
        "Question 4\n",
        "Given a string calculate length of the string using recursion.\n",
        "Examples:\n",
        "Input : str = \"abcd\"\n",
        "Output :4\n",
        "\n",
        "Input : str = \"GEEKSFORGEEKS\"\n",
        "Output :13"
      ],
      "metadata": {
        "id": "qnfoCIeFlgLG"
      }
    },
    {
      "cell_type": "code",
      "source": [
        "def length(str):\n",
        "\n",
        "  # if the string is empty, return 0.\n",
        "  if not str:\n",
        "    return 0\n",
        "\n",
        "  # else, return 1 plus the length of the substring starting at the second character.\n",
        "  return 1 + length(str[1:])\n",
        "\n",
        "# Time complexity: O(n)\n",
        "# Space complexity: O(n)"
      ],
      "metadata": {
        "id": "QEKfnwVzUD0u"
      },
      "execution_count": null,
      "outputs": []
    },
    {
      "cell_type": "markdown",
      "source": [
        "Question 5\n",
        "We are given a string S, we need to find count of all contiguous substrings starting and ending with same character.\n",
        "Examples :\n",
        "Input  : S = \"abcab\"\n",
        "Output : 7\n",
        "There are 15 substrings of \"abcab\"\n",
        "a, ab, abc, abca, abcab, b, bc, bca\n",
        "bcab, c, ca, cab, a, ab, b\n",
        "Out of the above substrings, there\n",
        "are 7 substrings : a, abca, b, bcab, c, a and b.\n",
        "\n",
        "Input  : S = \"aba\"\n",
        "Output : 4\n",
        "The substrings are a, b, a and aba"
      ],
      "metadata": {
        "id": "uMEB_8rsUPnT"
      }
    },
    {
      "cell_type": "code",
      "source": [
        "def countSubstrings(s):\n",
        "\n",
        "    if len(s) <= 1:\n",
        "        # if the string is empty or has only one character, return 0\n",
        "        return 0\n",
        "\n",
        "    count = 0\n",
        "\n",
        "    # Count substrings that start and end with the same character\n",
        "    count += countSubstrings(s[1:])  # Count substrings excluding the first character\n",
        "\n",
        "    for i in range(1, len(s)):\n",
        "        if s[i] == s[0]:\n",
        "            # Found a substring that starts and ends with the same character\n",
        "            count += 1\n",
        "\n",
        "    return count\n",
        "\n",
        "# Time complexity: O(n^2)\n",
        "# Space complexity: O(n)"
      ],
      "metadata": {
        "id": "rw_1aDxcVdzC"
      },
      "execution_count": null,
      "outputs": []
    },
    {
      "cell_type": "markdown",
      "source": [
        "Question 6\n",
        "\n",
        "The tower of Hanoi is a famous puzzle where we have three rods and N disks. The objective of the puzzle is to move the entire stack to another rod. You are given the number of discs N. Initially, these discs are in the rod 1. You need to print all the steps of discs movement so that all the discs reach the 3rd rod. Also, you need to find the total moves.Note: The discs are arranged such that the top disc is numbered 1 and the bottom-most disc is numbered N. Also, all the discs have different sizes and a bigger disc cannot be put on the top of a smaller disc. Refer the provided link to get a better clarity about the puzzle.\n",
        "\n",
        "Example 1:\n",
        "Input:\n",
        "N = 2\n",
        "Output:\n",
        "move disk 1 from rod 1 to rod 2\n",
        "move disk 2 from rod 1 to rod 3\n",
        "move disk 1 from rod 2 to rod 3\n",
        "3\n",
        "\n",
        "Explanation:For N=2 , steps will be\n",
        "as follows in the example and total\n",
        "3 steps will be taken.\n",
        "\n",
        "Example 2:\n",
        "Input:\n",
        "N = 3\n",
        "Output:\n",
        "move disk 1 from rod 1 to rod 3\n",
        "move disk 2 from rod 1 to rod 2\n",
        "move disk 1 from rod 3 to rod 2\n",
        "move disk 3 from rod 1 to rod 3\n",
        "move disk 1 from rod 2 to rod 1\n",
        "move disk 2 from rod 2 to rod 3\n",
        "move disk 1 from rod 1 to rod 3\n",
        "7\n",
        "\n",
        "Explanation:For N=3 , steps will be\n",
        "as follows in the example and total\n",
        "7 steps will be taken."
      ],
      "metadata": {
        "id": "Hprn6k6sVyR7"
      }
    },
    {
      "cell_type": "code",
      "source": [
        "def towerOfHanoi(n, start_rod, mid_rod, last_rod):\n",
        "\n",
        "    # if there is only one disc, return 1 move.\n",
        "    if n == 1:\n",
        "        return 1\n",
        "\n",
        "    # Recurssion: Move n-1 discs from start_rod to mid_rod using last_rod as the intermediate rod.\n",
        "    moves = towerOfHanoi(n - 1, start_rod, last_rod, mid_rod)\n",
        "\n",
        "    # Move the nth disc from start_rod to last_rod.\n",
        "    moves += 1\n",
        "\n",
        "    # Move the n-1 discs from mid_rod to last_rod using start_rod as the intermediate rod.\n",
        "    moves += towerOfHanoi(n - 1, mid_rod, start_rod, last_rod)\n",
        "\n",
        "    return moves\n",
        "\n",
        "# Time complexity: O(2^n)\n",
        "# Space complexity: O(n)"
      ],
      "metadata": {
        "id": "kzNlPbuNXIR7"
      },
      "execution_count": null,
      "outputs": []
    },
    {
      "cell_type": "markdown",
      "source": [
        "Question 7\n",
        "Given a string str, the task is to print all the permutations of str. A permutation is an arrangement of all or part of a set of objects, with regard to the order of the arrangement. For instance, the words ‘bat’ and ‘tab’ represents two distinct permutation (or arrangements) of a similar three letter word.\n",
        "Examples:\n",
        "Input: str = “cd”\n",
        "Output: cd dc\n",
        "Input: str = “abb”\n",
        "Output: abb abb bab bba bab bba"
      ],
      "metadata": {
        "id": "F4jXFh-kYytd"
      }
    },
    {
      "cell_type": "code",
      "source": [
        "def print_permutations(str):\n",
        "\n",
        "  # if the string is empty, there are no permutations.\n",
        "  if len(str) == 0:\n",
        "    return\n",
        "\n",
        "  # Iterate through all the characters in the string.\n",
        "  for i in range(len(str)):\n",
        "\n",
        "    # Create a copy of the string.\n",
        "    str_copy = str[:]\n",
        "\n",
        "    # Swap the current character with the character at the current index.\n",
        "    str_copy[i], str_copy[j] = str_copy[j], str_copy[i]\n",
        "\n",
        "    # Recursively call the function to print all the permutations of the new string.\n",
        "    print_permutations(str_copy)\n",
        "\n",
        "# Time complexity: O(n!)\n",
        "# Space complexity: O(n)"
      ],
      "metadata": {
        "id": "mzho3DKBZXf3"
      },
      "execution_count": null,
      "outputs": []
    },
    {
      "cell_type": "markdown",
      "source": [
        "Question 8\n",
        "Given a string, count total number of consonants in it. A consonant is an English alphabet character that is not vowel (a, e, i, o and u). Examples of constants are b, c, d, f, and g.\n",
        "Examples :\n",
        "Input : abc de\n",
        "Output : 3\n",
        "There are three consonants b, c and d.\n",
        "\n",
        "Input : geeksforgeeks portal\n",
        "Output : 12"
      ],
      "metadata": {
        "id": "PNI8Wz9faDaZ"
      }
    },
    {
      "cell_type": "code",
      "source": [
        "def count_consonants(string):\n",
        "\n",
        "  # if the string is empty, return 0.\n",
        "  if not string:\n",
        "    return 0\n",
        "\n",
        "  # if the first character of the string is a vowel, then recursively count the number of consonants in the rest of the string.\n",
        "  elif string[0] in \"aeiou\":\n",
        "    return count_consonants(string[1:])\n",
        "\n",
        "  # elif first character of the string is a consonant, add 1 to the number of consonants in the rest of the string.\n",
        "  else:\n",
        "    return 1 + count_consonants(string[1:])\n",
        "\n",
        "# Time complexity: O(n)\n",
        "# Space complexity: O(n)"
      ],
      "metadata": {
        "id": "-GONBA08bPy0"
      },
      "execution_count": null,
      "outputs": []
    }
  ]
}