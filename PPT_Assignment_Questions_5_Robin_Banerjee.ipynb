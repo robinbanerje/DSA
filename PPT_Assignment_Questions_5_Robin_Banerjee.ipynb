{
  "nbformat": 4,
  "nbformat_minor": 0,
  "metadata": {
    "colab": {
      "provenance": []
    },
    "kernelspec": {
      "name": "python3",
      "display_name": "Python 3"
    },
    "language_info": {
      "name": "python"
    }
  },
  "cells": [
    {
      "cell_type": "markdown",
      "source": [
        "Question 1\n",
        "Convert 1D Array Into 2D Array\n",
        "You are given a 0-indexed 1-dimensional (1D) integer array original, and two integers, m and n. You are tasked with creating a 2-dimensional (2D) array with  m rows and n columns using all the elements from original.\n",
        "The elements from indices 0 to n - 1 (inclusive) of original should form the first row of the constructed 2D array, the elements from indices n to 2 * n - 1 (inclusive) should form the second row of the constructed 2D array, and so on.\n",
        "Return an m x n 2D array constructed according to the above procedure, or an empty 2D array if it is impossible.\n",
        "Example 1:\n",
        "Input: original = [1,2,3,4], m = 2, n = 2\n",
        "Output: [[1,2],[3,4]]\n",
        "Explanation: The constructed 2D array should contain 2 rows and 2 columns.\n",
        "The first group of n=2 elements in original, [1,2], becomes the first row in the constructed 2D array.\n",
        "The second group of n=2 elements in original, [3,4], becomes the second row in the constructed 2D array."
      ],
      "metadata": {
        "id": "bdDY6ScDTuz4"
      }
    },
    {
      "cell_type": "code",
      "source": [
        "def convert_1d_array_to_2d_array(original, m, n):\n",
        "\n",
        "  # Check if the number of elements in the 1D array is divisible by the number of rows and columns.\n",
        "  if len(original) % (m * n) != 0:\n",
        "    return []\n",
        "\n",
        "  # Create a 2D array with the specified number of rows and columns.\n",
        "  array = [[0 for i in range(n)] for j in range(m)]\n",
        "\n",
        "  # Iterate over the elements in the 1D array and add them to the 2D array.\n",
        "  for i in range(len(original)):\n",
        "    array[i // n][i % n] = original[i]\n",
        "\n",
        "  # Return the 2D array.\n",
        "  return array\n",
        "\n",
        "# Time complexity: O(n)\n",
        "# Space complexity: O(m*n)"
      ],
      "metadata": {
        "id": "Ce5rsOLBaA2F"
      },
      "execution_count": null,
      "outputs": []
    },
    {
      "cell_type": "markdown",
      "source": [
        "Question 2\n",
        "You have n coins and you want to build a staircase with these coins. The staircase consists of k rows where the ith row has exactly i coins. The last row of the staircase may be incomplete.\n",
        "Given the integer n, return the number of complete rows of the staircase you will build.\n",
        "Example 1:\n",
        "Input: n = 5\n",
        "Output: 2\n",
        "Explanation: Because the 3rd row is incomplete, we return 2."
      ],
      "metadata": {
        "id": "9PBe62nmaGpD"
      }
    },
    {
      "cell_type": "code",
      "source": [
        "def arrange_coins(n):\n",
        "\n",
        "  # Initialize the number of complete rows.\n",
        "  rows = 0\n",
        "\n",
        "  # Iterate over the coins, adding them to the rows until there are no more coins left.\n",
        "  for i in range(1, n + 1):\n",
        "    # Add the coin to the current row.\n",
        "    rows += 1\n",
        "\n",
        "    # If the current row is complete, increment the number of complete rows.\n",
        "    if rows * i > n:\n",
        "      rows -= 1\n",
        "      break\n",
        "\n",
        "  # Return the number of complete rows.\n",
        "  return rows\n",
        "\n",
        "# time complexity = O(n)\n",
        "# space complexity = O(1)"
      ],
      "metadata": {
        "id": "bEJmpGlAetUN"
      },
      "execution_count": null,
      "outputs": []
    },
    {
      "cell_type": "markdown",
      "source": [
        "Question 3\n",
        "Given an integer array nums sorted in non-decreasing order, return an array of the squares of each number sorted in non-decreasing order.\n",
        "Example 1:\n",
        "Input: nums = [-4,-1,0,3,10]\n",
        "Output: [0,1,9,16,100]\n",
        "Explanation: After squaring, the array becomes [16,1,0,9,100].\n",
        "After sorting, it becomes [0,1,9,16,100]."
      ],
      "metadata": {
        "id": "LEAEfb0_e3KM"
      }
    },
    {
      "cell_type": "code",
      "source": [
        "def sorted_squares(nums):\n",
        "\n",
        "  # Create a new array to store the squares.\n",
        "  squares = []\n",
        "\n",
        "  # Loop through the input array.\n",
        "  for num in nums:\n",
        "    # Square the number and add it to the new array.\n",
        "    squares.append(num ** 2)\n",
        "\n",
        "  # Sort the new array.\n",
        "  squares.sort()\n",
        "\n",
        "  # Return the sorted array.\n",
        "  return squares\n",
        "\n",
        "# Time complexity: O(n)\n",
        "# Space complexity: O(n)"
      ],
      "metadata": {
        "id": "uTh7fjpUgSHB"
      },
      "execution_count": null,
      "outputs": []
    },
    {
      "cell_type": "markdown",
      "source": [
        "Question 4\n",
        "Given two 0-indexed integer arrays nums1 and nums2, return a list answer of size 2 where:\n",
        "•\tanswer[0] is a list of all distinct integers in nums1 which are not present in nums.\n",
        "•\tanswer[1] is a list of all distinct integers in nums2 which are not present in nums1.\n",
        "Note that the integers in the lists may be returned in any order.\n",
        "Example 1:\n",
        "Input: nums1 = [1,2,3], nums2 = [2,4,6]\n",
        "Output: [[1,3],[4,6]]\n",
        "Explanation:\n",
        "For nums1, nums1[1] = 2 is present at index 0 of nums2, whereas nums1[0] = 1 and nums1[2] = 3 are not present in nums2. Therefore, answer[0] = [1,3].\n",
        "For nums2, nums2[0] = 2 is present at index 1 of nums1, whereas nums2[1] = 4 and nums2[2] = 6 are not present in nums2. Therefore, answer[1] = [4,6]."
      ],
      "metadata": {
        "id": "oUyWhgYzgzvd"
      }
    },
    {
      "cell_type": "code",
      "source": [
        "def findMissingNumbers(nums1, nums2):\n",
        "    set1 = set(nums1)  # Convert nums1 to a set for efficient lookup\n",
        "    set2 = set(nums2)  # Convert nums2 to a set for efficient lookup\n",
        "    \n",
        "    missing_nums_1 = list(set1 - set2)  # Find distinct integers in nums1 not present in nums2\n",
        "    missing_nums_2 = list(set2 - set1)  # Find distinct integers in nums2 not present in nums1\n",
        "    \n",
        "    return [missing_nums_1, missing_nums_2]\n",
        "\n",
        "# time complexity = O(m + n)\n",
        "# space complexity = O(m + n)"
      ],
      "metadata": {
        "id": "PwNIckq4hjPZ"
      },
      "execution_count": null,
      "outputs": []
    },
    {
      "cell_type": "markdown",
      "source": [
        "Question 5\n",
        "Given two integer arrays arr1 and arr2, and the integer d, return the distance value between the two arrays.\n",
        "The distance value is defined as the number of elements arr1[i] such that there is not any element arr2[j] where |arr1[i]-arr2[j]| <= d.\n",
        "Example 1:\n",
        "Input: arr1 = [4,5,8], arr2 = [10,9,1,8], d = 2\n",
        "Output: 2\n",
        "Explanation:\n",
        "For arr1[0]=4 we have:\n",
        "|4-10|=6 > d=2\n",
        "|4-9|=5 > d=2\n",
        "|4-1|=3 > d=2\n",
        "|4-8|=4 > d=2\n",
        "For arr1[1]=5 we have:\n",
        "|5-10|=5 > d=2\n",
        "|5-9|=4 > d=2\n",
        "|5-1|=4 > d=2\n",
        "|5-8|=3 > d=2\n",
        "For arr1[2]=8 we have:\n",
        "|8-10|=2 <= d=2\n",
        "|8-9|=1 <= d=2\n",
        "|8-1|=7 > d=2\n",
        "|8-8|=0 <= d=2"
      ],
      "metadata": {
        "id": "7Yz8h2N4h9l9"
      }
    },
    {
      "cell_type": "code",
      "source": [
        "def findDistanceValue(arr1, arr2, d):\n",
        "\n",
        "    '''\n",
        "    Calculate the distance value. It uses nested list comprehensions and the sum() function to count the number of elements in arr1 that satisfy the given condition.\n",
        "    list comprehension all(abs(a - b) > d for b in arr2) for a in arr1 iterates over each element a in arr1. It checks if there is no element b in arr2 such that the absolute difference between a and b is less than or equal to d. If the condition is satisfied for all elements in arr2, the inner comprehension evaluates to True; otherwise, it evaluates to False.\n",
        "    The sum() function then sums up the resulting boolean values from the outer list comprehension. Since False evaluates to 0 and True evaluates to 1, the sum represents the count of elements in arr1 that satisfy the condition.\n",
        "    '''\n",
        "\n",
        "    distance_value = sum(all(abs(a - b) > d for b in arr2) for a in arr1)\n",
        "    return distance_value\n",
        "\n",
        "# time complexity = O(len(arr1) * len(arr2))\n",
        "# space complexity = O(1)"
      ],
      "metadata": {
        "id": "svWqXRunCpHu"
      },
      "execution_count": null,
      "outputs": []
    },
    {
      "cell_type": "markdown",
      "source": [
        "Question 6\n",
        "Given an integer array nums of length n where all the integers of nums are in the range [1, n] and each integer appears once or twice, return an array of all the integers that appears twice.\n",
        "You must write an algorithm that runs in O(n) time and uses only constant extra space.\n",
        "Example 1:\n",
        "Input: nums = [4,3,2,7,8,2,3,1]\n",
        "Output: [2,3]"
      ],
      "metadata": {
        "id": "14uUNlX5EduT"
      }
    },
    {
      "cell_type": "code",
      "source": [
        "def find_duplicates(nums):\n",
        "\n",
        "  # Create a set to store all the unique elements of nums.\n",
        "  unique_elements = set(nums)\n",
        "\n",
        "  # Initialize a list to store the duplicates.\n",
        "  duplicates = []\n",
        "\n",
        "  # Iterate over the elements of nums.\n",
        "  for num in nums:\n",
        "\n",
        "    # If num is not in the unique_elements set, then it is a duplicate.\n",
        "    if num not in unique_elements:\n",
        "      continue\n",
        "\n",
        "    # If num appears more than once in nums, then it is a duplicate.\n",
        "    if nums.count(num) > 1:\n",
        "      duplicates.append(num)\n",
        "\n",
        "  # Return the list of duplicates.\n",
        "  return duplicates\n",
        "\n",
        "\n",
        "# Time complexity: O(n)\n",
        "# Space complexity: O(1)"
      ],
      "metadata": {
        "id": "OzxoDtytFKfO"
      },
      "execution_count": null,
      "outputs": []
    },
    {
      "cell_type": "markdown",
      "source": [
        "Question 7\n",
        "Suppose an array of length n sorted in ascending order is rotated between 1 and n times. For example, the array nums = [0,1,2,4,5,6,7] might become:\n",
        "•\t[4,5,6,7,0,1,2] if it was rotated 4 times.\n",
        "•\t[0,1,2,4,5,6,7] if it was rotated 7 times.\n",
        "Notice that rotating an array [a[0], a[1], a[2], ..., a[n-1]] 1 time results in the array [a[n-1], a[0], a[1], a[2], ..., a[n-2]].\n",
        "Given the sorted rotated array nums of unique elements, return the minimum element of this array.\n",
        "You must write an algorithm that runs in O(log n) time.\n",
        "Example 1:\n",
        "Input: nums = [3,4,5,1,2]\n",
        "Output: 1\n",
        "Explanation: The original array was [1,2,3,4,5] rotated 3 times."
      ],
      "metadata": {
        "id": "ypruuWPtFSt0"
      }
    },
    {
      "cell_type": "code",
      "source": [
        "def minimum_in_rotated_sorted_array(nums):\n",
        "\n",
        "  # Initialize the left and right pointers.\n",
        "  left = 0\n",
        "  right = len(nums) - 1\n",
        "\n",
        "  # While the left and right pointers are not equal\n",
        "  while left < right:\n",
        "\n",
        "    # Find the middle pointer.\n",
        "    mid = (left + right) // 2\n",
        "\n",
        "    # If the middle element is less than or equal to the right element,\n",
        "    # then the minimum element must be in the left subarray.\n",
        "    if nums[mid] <= nums[right]:\n",
        "      right = mid\n",
        "\n",
        "    # Otherwise, the minimum element must be in the right subarray.\n",
        "    else:\n",
        "      left = mid + 1\n",
        "\n",
        "  # The left pointer now points to the minimum element in the array.\n",
        "  return nums[left]\n",
        "\n",
        "\n",
        "# Time complexity: O(log n)\n",
        "# Space complexity: O(1)"
      ],
      "metadata": {
        "id": "cxSoF-NKF27r"
      },
      "execution_count": null,
      "outputs": []
    },
    {
      "cell_type": "markdown",
      "source": [
        "Question 8\n",
        "An integer array original is transformed into a doubled array changed by appending twice the value of every element in original, and then randomly shuffling the resulting array.\n",
        "Given an array changed, return original if changed is a doubled array. If changed is not a doubled array, return an empty array. The elements in original may be returned in any order.\n",
        "Example 1:\n",
        "Input: changed = [1,3,4,2,6,8]\n",
        "Output: [1,3,4]\n",
        "Explanation: One possible original array could be [1,3,4]:\n",
        "•\tTwice the value of 1 is 1 * 2 = 2.\n",
        "•\tTwice the value of 3 is 3 * 2 = 6.\n",
        "•\tTwice the value of 4 is 4 * 2 = 8.\n",
        "Other original arrays could be [4,3,1] or [3,1,4]."
      ],
      "metadata": {
        "id": "6LSaz2zxGeNO"
      }
    },
    {
      "cell_type": "code",
      "source": [
        "def findOriginalArray(changed):\n",
        "    # Check if the length of the transformed array is odd\n",
        "    if len(changed) % 2 != 0:\n",
        "        return []\n",
        "\n",
        "    # Create a set to store unique elements of the original array\n",
        "    original_set = set(changed)\n",
        "\n",
        "    # Initialize an empty list to store the original array\n",
        "    original_array = []\n",
        "\n",
        "    # Iterate through each element in the transformed array\n",
        "    for num in changed:\n",
        "        # Check if num/2 is present in the original set\n",
        "        if num / 2 in original_set:\n",
        "            # Remove num/2 from the set and add it to the original array\n",
        "            original_set.remove(num / 2)\n",
        "            original_array.append(num / 2)\n",
        "\n",
        "    # Check if the length of the original array matches half the length of the transformed array\n",
        "    if len(original_array) != len(changed) // 2:\n",
        "        return []\n",
        "\n",
        "    # Return the original array\n",
        "    return original_array\n",
        "    \n",
        "# time complexity = O(n)\n",
        "# space complexity = O(n)"
      ],
      "metadata": {
        "id": "CF1KWRDpG942"
      },
      "execution_count": null,
      "outputs": []
    }
  ]
}