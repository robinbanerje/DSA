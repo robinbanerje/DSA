{
  "nbformat": 4,
  "nbformat_minor": 0,
  "metadata": {
    "colab": {
      "provenance": []
    },
    "kernelspec": {
      "name": "python3",
      "display_name": "Python 3"
    },
    "language_info": {
      "name": "python"
    }
  },
  "cells": [
    {
      "cell_type": "markdown",
      "source": [
        "Question 1\n",
        "\n",
        "Given a non-negative integer x, return the square root of x rounded down to the nearest integer. The returned integer should be non-negative as well.\n",
        "You must not use any built-in exponent function or operator.\n",
        "-\t For example, do not use pow(x, 0.5) in c++ or x ** 0.5 in python.\n",
        "\n",
        "Example 1:\n",
        "Input: x = 4\n",
        "Output: 2\n",
        "Explanation: The square root of 4 is 2, so we return 2.\n",
        "\n",
        "Example 2:\n",
        "Input: x = 8\n",
        "Output: 2\n",
        "Explanation: The square root of 8 is 2.82842..., and since we round it down to the nearest integer, 2 is returned."
      ],
      "metadata": {
        "id": "5uyExfDqkJ75"
      }
    },
    {
      "cell_type": "code",
      "source": [
        "def sqrt(x):\n",
        "\n",
        "    # if x is 0 or 1, the square root is equal to x\n",
        "    if x == 0 or x == 1:\n",
        "        return x\n",
        "\n",
        "    # binary search to find the square root\n",
        "    start = 0\n",
        "    end = x\n",
        "\n",
        "    while start <= end:\n",
        "        mid = (start + end) // 2\n",
        "        square = mid * mid\n",
        "\n",
        "        # If the square is equal to x, return mid as the square root\n",
        "        if square == x:\n",
        "            return mid\n",
        "\n",
        "        # If the square is less than x, update the start position\n",
        "        if square < x:\n",
        "            start = mid + 1\n",
        "            result = mid  # Keep track of the floor of square root\n",
        "        else:\n",
        "            # If the square is greater than x, update the end position\n",
        "            end = mid - 1\n",
        "\n",
        "    return result\n",
        "\n",
        "# Time complexity: O(log x)\n",
        "# Space complexity: O(1)"
      ],
      "metadata": {
        "id": "-gv42n4zlE6i"
      },
      "execution_count": null,
      "outputs": []
    },
    {
      "cell_type": "markdown",
      "source": [
        "Question 2\n",
        "\n",
        "A peak element is an element that is strictly greater than its neighbors.\n",
        "Given a 0-indexed integer array nums, find a peak element, and return its index. If the array contains multiple peaks, return the index to any of the peaks.\n",
        "You may imagine that nums[-1] = nums[n] = -∞. In other words, an element is always considered to be strictly greater than a neighbor that is outside the array.\n",
        "You must write an algorithm that runs in O(log n) time.\n",
        "\n",
        "Example 1:\n",
        "Input: nums = [1,2,3,1]\n",
        "Output: 2\n",
        "Explanation: 3 is a peak element and your function should return the index number 2.\n",
        "\n",
        "Example 2:\n",
        "Input: nums = [1,2,1,3,5,6,4]\n",
        "Output: 5\n",
        "Explanation: Your function can return either index number 1 where the peak element is 2, or index number 5 where the peak element is 6."
      ],
      "metadata": {
        "id": "eP5TEnqplbZw"
      }
    },
    {
      "cell_type": "code",
      "source": [
        "def find_peak_element(nums):\n",
        "    low = 0\n",
        "    high = len(nums) - 1\n",
        "\n",
        "    while low <= high:\n",
        "        mid = (low + high) // 2\n",
        "\n",
        "        # if the middle element is a peak element.\n",
        "        if nums[mid] > nums[mid - 1] and nums[mid] > nums[mid + 1]:\n",
        "            return mid\n",
        "\n",
        "        # if the middle element is not a peak element, check if it is on the increasing or decreasing side of the array.\n",
        "        elif nums[mid] < nums[mid - 1]:\n",
        "            high = mid - 1\n",
        "        else:\n",
        "            low = mid + 1\n",
        "\n",
        "    # if the loop terminates, it means that the array has no peak elements.\n",
        "    return -1\n",
        "\n",
        "# Time complexity: O(log n)\n",
        "# Space complexity: O(1)"
      ],
      "metadata": {
        "id": "w3i0wRGKpgXX"
      },
      "execution_count": null,
      "outputs": []
    },
    {
      "cell_type": "markdown",
      "source": [
        "Question 3\n",
        "\n",
        "Given an array `nums` containing `n` distinct numbers in the range `[0, n]`, return the only number in the range that is missing from the array.\n",
        "\n",
        "Example 1:\n",
        "Input: nums = [3,0,1]\n",
        "Output: 2\n",
        "Explanation: n = 3 since there are 3 numbers, so all numbers are in the range [0,3]. 2 is the missing number in the range since it does not appear in nums.\n",
        "\n",
        "Example 2:\n",
        "Input: nums = [0,1]\n",
        "Output: 2\n",
        "Explanation: n = 2 since there are 2 numbers, so all numbers are in the range [0,2]. 2 is the missing number in the range since it does not appear in nums.\n",
        "\n",
        "Example 3:\n",
        "Input: nums = [9,6,4,2,3,5,7,0,1]\n",
        "Output: 8\n",
        "Explanation: n = 9 since there are 9 numbers, so all numbers are in the range [0,9]. 8 is the missing number in the range since it does not appear in nums."
      ],
      "metadata": {
        "id": "OdGpsoEvp5Zt"
      }
    },
    {
      "cell_type": "code",
      "source": [
        "def find_missing_number_binary_search(nums):\n",
        "\n",
        "  left = 0\n",
        "  right = len(nums) - 1\n",
        "\n",
        "  # Loop until the left and right pointers meet.\n",
        "  while left <= right:\n",
        "    # Find the middle element.\n",
        "    mid = (left + right) // 2\n",
        "\n",
        "    # Check if the middle element is missing.\n",
        "    if nums[mid] != mid:\n",
        "      # The missing number is greater than the middle element.\n",
        "      return mid + 1\n",
        "\n",
        "    # If the middle element is not missing, then check if it is on the increasing or decreasing side of the array.\n",
        "    elif nums[mid] < mid:\n",
        "      # The missing number is on the decreasing side of the array.\n",
        "      left = mid + 1\n",
        "    else:\n",
        "      # The missing number is on the increasing side of the array.\n",
        "      right = mid - 1\n",
        "\n",
        "  # If the loop terminates, it means that the array has no missing elements.\n",
        "  return -1\n",
        "\n",
        "# Time complexity: O(log n)\n",
        "# Space complexity: O(1)."
      ],
      "metadata": {
        "id": "_G6yhTE-rKVn"
      },
      "execution_count": null,
      "outputs": []
    },
    {
      "cell_type": "markdown",
      "source": [
        "Question 4\n",
        "\n",
        "Given an array of integers nums containing n + 1 integers where each integer is in the range [1, n] inclusive.\n",
        "There is only one repeated number in nums, return this repeated number.\n",
        "You must solve the problem without modifying the array nums and uses only constant extra space.\n",
        "\n",
        "Example 1:\n",
        "Input: nums = [1,3,4,2,2]\n",
        "Output: 2\n",
        "\n",
        "Example 2:\n",
        "Input: nums = [3,1,3,4,2]\n",
        "Output: 3"
      ],
      "metadata": {
        "id": "UJLKvAADraYf"
      }
    },
    {
      "cell_type": "code",
      "source": [
        "def find_duplicate(nums):\n",
        "\n",
        "    left = 1\n",
        "    right = len(nums) - 1\n",
        "\n",
        "    while left < right:\n",
        "        mid = left + (right - left) // 2  # middle element\n",
        "\n",
        "        count = 0\n",
        "        # Count the number of elements less than or equal to the middle element\n",
        "        for num in nums:\n",
        "            if num <= mid:\n",
        "                count += 1\n",
        "\n",
        "        # If the count is greater than the middle element, the repeated number lies in the left half\n",
        "        if count > mid:\n",
        "            right = mid\n",
        "        # Otherwise, the repeated number lies in the right half\n",
        "        else:\n",
        "            left = mid + 1\n",
        "\n",
        "    return left\n",
        "\n",
        "# Time complexity: O(n log n)\n",
        "# Space complexity: O(1)"
      ],
      "metadata": {
        "id": "eF8N4O4jsFvZ"
      },
      "execution_count": null,
      "outputs": []
    },
    {
      "cell_type": "markdown",
      "source": [
        "Question 5\n",
        "\n",
        "Given two integer arrays nums1 and nums2, return an array of their intersection. Each element in the result must be unique and you may return the result in any order.\n",
        "\n",
        "Example 1:\n",
        "Input: nums1 = [1,2,2,1], nums2 = [2,2]\n",
        "Output: [2]\n",
        "\n",
        "Example 2:\n",
        "Input: nums1 = [4,9,5], nums2 = [9,4,9,8,4]\n",
        "Output: [9,4]\n",
        "Explanation: [4,9] is also accepted."
      ],
      "metadata": {
        "id": "8qF6VC_1sdve"
      }
    },
    {
      "cell_type": "code",
      "source": [
        "def intersection(nums1, nums2):\n",
        "    # Sort the arrays\n",
        "    nums1.sort()\n",
        "    nums2.sort()\n",
        "\n",
        "    result = []\n",
        "\n",
        "    # Iterate over nums1\n",
        "    for num in nums1:\n",
        "        # Perform binary search on nums2\n",
        "        left = 0\n",
        "        right = len(nums2) - 1\n",
        "        while left <= right:\n",
        "            mid = (left + right) // 2\n",
        "            if nums2[mid] == num:\n",
        "                # Add the element to the result if it's not already present\n",
        "                if num not in result:\n",
        "                    result.append(num)\n",
        "                break\n",
        "            elif nums2[mid] < num:\n",
        "                left = mid + 1\n",
        "            else:\n",
        "                right = mid - 1\n",
        "\n",
        "    return result\n",
        "\n",
        "# Time complexity: O(n log m), where n and m are the lengths of nums1 and nums2, respectively\n",
        "# Space complexity: O(1)"
      ],
      "metadata": {
        "id": "Cb5pUwmYtoS2"
      },
      "execution_count": null,
      "outputs": []
    },
    {
      "cell_type": "markdown",
      "source": [
        "Question 6\n",
        "\n",
        "Suppose an array of length n sorted in ascending order is rotated between 1 and n times. For example, the array nums = [0,1,2,4,5,6,7] might become:\n",
        "-\t[4,5,6,7,0,1,2] if it was rotated 4 times.\n",
        "-\t[0,1,2,4,5,6,7] if it was rotated 7 times.\n",
        "Notice that rotating an array [a[0], a[1], a[2], ..., a[n-1]] 1 time results in the array [a[n-1], a[0], a[1], a[2], ..., a[n-2]].\n",
        "Given the sorted rotated array nums of unique elements, return the minimum element of this array.\n",
        "You must write an algorithm that runs in O(log n) time.\n",
        "\n",
        "Example 1:\n",
        "Input: nums = [3,4,5,1,2]\n",
        "Output: 1\n",
        "Explanation: The original array was [1,2,3,4,5] rotated 3 times.\n",
        "\n",
        "Example 2:\n",
        "Input: nums = [4,5,6,7,0,1,2]\n",
        "Output: 0\n",
        "Explanation: The original array was [0,1,2,4,5,6,7] and it was rotated 4 times.\n",
        "\n",
        "Example 3:\n",
        "Input: nums = [11,13,15,17]\n",
        "Output: 11\n",
        "Explanation: The original array was [11,13,15,17] and it was rotated 4 times."
      ],
      "metadata": {
        "id": "PjhEx4l9tyrR"
      }
    },
    {
      "cell_type": "code",
      "source": [
        "def findMin(nums):\n",
        "    left = 0\n",
        "    right = len(nums) - 1\n",
        "\n",
        "    while left < right:\n",
        "        mid = (left + right) // 2\n",
        "\n",
        "        if nums[mid] > nums[right]:\n",
        "            # Minimum element is on the right side\n",
        "            left = mid + 1\n",
        "        else:\n",
        "            # Minimum element is on the left side or at mid\n",
        "            right = mid\n",
        "\n",
        "    return nums[left]\n",
        "\n",
        "# Time complexity: O(log n)\n",
        "# Space complexity: O(1)"
      ],
      "metadata": {
        "id": "VO6HFREAuXKX"
      },
      "execution_count": null,
      "outputs": []
    },
    {
      "cell_type": "markdown",
      "source": [
        "Question 7\n",
        "\n",
        "Given an array of integers nums sorted in non-decreasing order, find the starting and ending position of a given target value.\n",
        "If target is not found in the array, return [-1, -1].\n",
        "You must write an algorithm with O(log n) runtime complexity.\n",
        "\n",
        "Example 1:\n",
        "Input: nums = [5,7,7,8,8,10], target = 8\n",
        "Output: [3,4]\n",
        "\n",
        "Example 2:\n",
        "Input: nums = [5,7,7,8,8,10], target = 6\n",
        "Output: [-1,-1]\n",
        "\n",
        "Example 3:\n",
        "Input: nums = [], target = 0\n",
        "Output: [-1,-1]"
      ],
      "metadata": {
        "id": "anAhvKCfuviz"
      }
    },
    {
      "cell_type": "code",
      "source": [
        "def start_end_position(nums, target):\n",
        "\n",
        "  # Find the index of the target value.\n",
        "  low = 0\n",
        "  high = len(nums) - 1\n",
        "\n",
        "  while low <= high:\n",
        "    mid = (low + high) // 2\n",
        "\n",
        "    if nums[mid] == target:\n",
        "      break\n",
        "    elif nums[mid] < target:\n",
        "      low = mid + 1\n",
        "    else:\n",
        "      high = mid - 1\n",
        "\n",
        "  # If the target value is not found in the array, then return [-1, -1].\n",
        "  if low > high:\n",
        "    return [-1, -1]\n",
        "\n",
        "  # else return a tuple of the starting and ending position of the target value in the array.\n",
        "  start_index = low\n",
        "  end_index = low\n",
        "\n",
        "  while nums[end_index] == target:\n",
        "    end_index += 1\n",
        "\n",
        "  return start_index, end_index\n",
        "\n",
        "  # Time complexity: O(log n)\n",
        "  # Space complexity: O(1)"
      ],
      "metadata": {
        "id": "tvByO-yFw8Cq"
      },
      "execution_count": null,
      "outputs": []
    },
    {
      "cell_type": "markdown",
      "source": [
        "Question 8\n",
        "\n",
        "Given two integer arrays nums1 and nums2, return an array of their intersection. Each element in the result must appear as many times as it shows in both arrays and you may return the result in any order.\n",
        "\n",
        "Example 1:\n",
        "Input: nums1 = [1,2,2,1], nums2 = [2,2]\n",
        "Output: [2,2]\n",
        "\n",
        "Example 2:\n",
        "Input: nums1 = [4,9,5], nums2 = [9,4,9,8,4]\n",
        "Output: [4,9]\n",
        "Explanation: [9,4] is also accepted"
      ],
      "metadata": {
        "id": "dYHwoJeixTiH"
      }
    },
    {
      "cell_type": "code",
      "source": [
        "def intersection(nums1, nums2):\n",
        "  \n",
        "  nums1.sort()\n",
        "  nums2.sort()\n",
        "  result = []\n",
        "\n",
        "  # Iterate over the first array, using binary search to find the corresponding element in the second array.\n",
        "  for num in nums1:\n",
        "    low = 0\n",
        "    high = len(nums2) - 1\n",
        "\n",
        "    while low <= high:\n",
        "      mid = (low + high) // 2\n",
        "\n",
        "      if nums2[mid] == num:\n",
        "        result.append(num)\n",
        "        break\n",
        "      elif nums2[mid] < num:\n",
        "        low = mid + 1\n",
        "      else:\n",
        "        high = mid - 1\n",
        "\n",
        "  return result\n",
        "\n",
        "# Time complexity: O(m log n), where m is the length of nums1 and n is the length of nums2.\n",
        "# Space complexity: O(1)"
      ],
      "metadata": {
        "id": "XqmihuPsx0Ga"
      },
      "execution_count": null,
      "outputs": []
    }
  ]
}