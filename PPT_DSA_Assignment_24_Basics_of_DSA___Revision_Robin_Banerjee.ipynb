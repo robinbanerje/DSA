{
  "nbformat": 4,
  "nbformat_minor": 0,
  "metadata": {
    "colab": {
      "provenance": []
    },
    "kernelspec": {
      "name": "python3",
      "display_name": "Python 3"
    },
    "language_info": {
      "name": "python"
    }
  },
  "cells": [
    {
      "cell_type": "markdown",
      "source": [
        "1. Roman to Integer\n",
        "\n",
        "Roman numerals are represented by seven different symbols: I, V, X, L, C, D and M.\n",
        "\n",
        "Symbol        Value\n",
        "I             1\n",
        "V             5\n",
        "X             10\n",
        "L             50\n",
        "C             100\n",
        "D             500\n",
        "M             1000\n",
        "\n",
        "For example, 2 is written as II in Roman numeral, just two ones added together. 12 is written as XII, which is simply X + II. The number 27 is written as XXVII, which is XX + V + II.\n",
        "\n",
        "Roman numerals are usually written largest to smallest from left to right. However, the numeral for four is not IIII. Instead, the number four is written as IV. Because the one is before the five we subtract it making four. The same principle applies to the number nine, which is written as IX. There are six instances where subtraction is used:\n",
        "-\tI can be placed before V (5) and X (10) to make 4 and 9.\n",
        "-\tX can be placed before L (50) and C (100) to make 40 and 90.\n",
        "-\tC can be placed before D (500) and M (1000) to make 400 and 900.\n",
        "\n",
        "Given a roman numeral, convert it to an integer.\n",
        "\n",
        "Example 1:\n",
        "Input: s = \"III\"\n",
        "Output: 3\n",
        "Explanation: III = 3.\n",
        "\n",
        "Example 2:\n",
        "Input: s = \"LVIII\"\n",
        "Output: 58\n",
        "Explanation: L = 50, V= 5, III = 3.\n",
        "\n",
        "Constraints:\n",
        "-\t1 <= s.length <= 15\n",
        "-\ts contains only the characters ('I', 'V', 'X', 'L', 'C', 'D', 'M').\n",
        "-\tIt is guaranteed that s is a valid roman numeral in the range [1, 3999]."
      ],
      "metadata": {
        "id": "44m3w1oSzXZj"
      }
    },
    {
      "cell_type": "code",
      "execution_count": null,
      "metadata": {
        "id": "PamzZLAdzJ0C"
      },
      "outputs": [],
      "source": [
        "def romanToInt(s):\n",
        "\n",
        "    # Create a dictionary to map Roman numerals to their corresponding values\n",
        "    roman_values = {'I': 1, 'V': 5, 'X': 10, 'L': 50, 'C': 100, 'D': 500, 'M': 1000}\n",
        "\n",
        "    # Initialize the result variable\n",
        "    result = 0\n",
        "\n",
        "    # Iterate over the characters in the input string\n",
        "    for i in range(len(s)):\n",
        "        # Get the value of the current Roman numeral\n",
        "        curr_value = roman_values[s[i]]\n",
        "\n",
        "        # Check if the next character exists and has a higher value\n",
        "        if i + 1 < len(s) and roman_values[s[i + 1]] > curr_value:\n",
        "            # if so, subtract the current value from the result\n",
        "            result -= curr_value\n",
        "        else:\n",
        "            # else, add the current value to the result\n",
        "            result += curr_value\n",
        "\n",
        "    # Return the final result\n",
        "    return result\n",
        "\n",
        "# time complexity: O(n)\n",
        "# space complexity: O(1)"
      ]
    },
    {
      "cell_type": "markdown",
      "source": [
        "2. Longest Substring Without Repeating Characters\n",
        "\n",
        "Given a string s, find the length of the longest substring without repeating characters.\n",
        "\n",
        "Example 1:\n",
        "Input: s = \"abcabcbb\"\n",
        "Output: 3\n",
        "Explanation: The answer is \"abc\", with the length of 3.\n",
        "\n",
        "Example 2:\n",
        "Input: s = \"bbbbb\"\n",
        "Output: 1\n",
        "Explanation: The answer is \"b\", with the length of 1.\n",
        "\n",
        "Example 3:\n",
        "Input: s = \"pwwkew\"\n",
        "Output: 3\n",
        "Explanation: The answer is \"wke\", with the length of 3.\n",
        "\n",
        "Notice that the answer must be a substring, \"pwke\" is a subsequence and not a substring.\n",
        "Constraints:\n",
        "-\t0 <= s.length <= 50000\n",
        "-\ts consists of English letters, digits, symbols and spaces."
      ],
      "metadata": {
        "id": "XScWjHXq06gl"
      }
    },
    {
      "cell_type": "code",
      "source": [
        "def longest_substring_without_repeating_characters(s):\n",
        "\n",
        "  longest_substring_length = 0\n",
        "  current_substring = \"\"\n",
        "  char_set = set()\n",
        "\n",
        "  # Iterate over the string.\n",
        "  for char in s:\n",
        "    # if the character is not in the set, add it to the set and the current substring.\n",
        "    if char not in char_set:\n",
        "      current_substring += char\n",
        "      char_set.add(char)\n",
        "      longest_substring_length = max(longest_substring_length, len(current_substring))\n",
        "    # Otherwise, remove the first occurrence of the character from the set and the current substring.\n",
        "    else:\n",
        "      current_substring = current_substring[1:] + char\n",
        "      char_set.remove(char)\n",
        "\n",
        "  # Return the length of the longest substring.\n",
        "  return longest_substring_length\n",
        "\n",
        "# time complexity: O(n)\\\n",
        "# space complexity: O(n)"
      ],
      "metadata": {
        "id": "oT3Csb7RJwp4"
      },
      "execution_count": 1,
      "outputs": []
    },
    {
      "cell_type": "markdown",
      "source": [
        "3. Majority Element\n",
        "\n",
        "Given an array nums of size n, return the majority element.\n",
        "The majority element is the element that appears more than ⌊n / 2⌋ times. You may assume that the majority element always exists in the array.\n",
        "\n",
        "Example 1:\n",
        "Input: nums = [3,2,3]\n",
        "Output: 3\n",
        "\n",
        "Example 2:\n",
        "Input: nums = [2,2,1,1,1,2,2]\n",
        "Output: 2\n",
        "\n",
        "Constraints:\n",
        "-\tn == nums.length\n",
        "-\t1 <= n <= 5 * 10^4\n",
        "-\t-10^9 <= nums[i] <= 10^9"
      ],
      "metadata": {
        "id": "ItQWbu86I8eM"
      }
    },
    {
      "cell_type": "code",
      "source": [
        "def majorityElement(nums):\n",
        "\n",
        "    count = 0\n",
        "    candidate = None\n",
        "\n",
        "    # Find the potential candidate for the majority element\n",
        "    for num in nums:\n",
        "        if count == 0:\n",
        "            candidate = num\n",
        "        count += 1 if num == candidate else -1\n",
        "\n",
        "    # Check if the potential candidate is the majority element\n",
        "    count = 0\n",
        "    for num in nums:\n",
        "        if num == candidate:\n",
        "            count += 1\n",
        "\n",
        "    if count > len(nums) // 2:\n",
        "        return candidate\n",
        "\n",
        "    # if no majority element found, return None\n",
        "    return None\n",
        "\n",
        "# Test the code with example inputs\n",
        "print(majorityElement([3, 2, 3]))  # Output: 3\n",
        "print(majorityElement([2, 2, 1, 1, 1, 2, 2]))  # Output: 2"
      ],
      "metadata": {
        "colab": {
          "base_uri": "https://localhost:8080/"
        },
        "id": "4cI8BrXWI7Ms",
        "outputId": "47fb313f-e9d6-4e23-e6c3-2b3b1a910938"
      },
      "execution_count": 2,
      "outputs": [
        {
          "output_type": "stream",
          "name": "stdout",
          "text": [
            "3\n",
            "2\n"
          ]
        }
      ]
    },
    {
      "cell_type": "markdown",
      "source": [
        "4. Group Anagram\n",
        "\n",
        "Given an array of strings strs, group the anagrams together. You can return the answer in any order.\n",
        "An Anagram is a word or phrase formed by rearranging the letters of a different word or phrase, typically using all the original letters exactly once.\n",
        "\n",
        "Example 1:\n",
        "Input: strs = [\"eat\",\"tea\",\"tan\",\"ate\",\"nat\",\"bat\"]\n",
        "Output: [[\"bat\"],[\"nat\",\"tan\"],[\"ate\",\"eat\",\"tea\"]]\n",
        "\n",
        "Example 2:\n",
        "Input: strs = [\"\"]\n",
        "Output: [[\"\"]]\n",
        "\n",
        "Example 3:\n",
        "Input: strs = [\"a\"]\n",
        "Output: [[\"a\"]]\n",
        "\n",
        "Constraints:\n",
        "-\t1 <= strs.length <= 10000\n",
        "-\t0 <= strs[i].length <= 100\n",
        "-\tstrs[i] consists of lowercase English letters."
      ],
      "metadata": {
        "id": "sjjrfDndKhoy"
      }
    },
    {
      "cell_type": "code",
      "source": [
        "from collections import defaultdict\n",
        "\n",
        "def groupAnagrams(strs):\n",
        "\n",
        "    groups = defaultdict(list)\n",
        "\n",
        "    for word in strs:\n",
        "        # Sort the characters in the word to get the key\n",
        "        key = ''.join(sorted(word))\n",
        "        # Add the word to the corresponding group\n",
        "        groups[key].append(word)\n",
        "\n",
        "    # Convert the groups dictionary to a list of lists\n",
        "    result = []\n",
        "    for group in groups.values():\n",
        "        result.append(group)\n",
        "\n",
        "    return result\n",
        "\n",
        "# time complexity: O(n * m * log(m)), n = length of the input array strs & m = maximum length of the words in strs\n",
        "# space complexity: O(n * m)"
      ],
      "metadata": {
        "id": "MVyC1ItiKeCe"
      },
      "execution_count": 3,
      "outputs": []
    },
    {
      "cell_type": "markdown",
      "source": [
        "5. Ugly Numbers\n",
        "\n",
        "An ugly number is a positive integer whose prime factors are limited to 2, 3, and 5. Given an integer n, return the nth ugly number.\n",
        "\n",
        "Example 1:\n",
        "Input: n = 10\n",
        "Output: 12\n",
        "Explanation: [1, 2, 3, 4, 5, 6, 8, 9, 10, 12] is the sequence of the first 10 ugly numbers.\n",
        "\n",
        "Example 2:\n",
        "Input: n = 1\n",
        "Output: 1\n",
        "Explanation: 1 has no prime factors, therefore all of its prime factors are limited to 2, 3, and 5.\n",
        "\n",
        "Constraints:\n",
        "-\t1 <= n <= 1690"
      ],
      "metadata": {
        "id": "Y8OX4y25Nfzp"
      }
    },
    {
      "cell_type": "code",
      "source": [
        "def nthUglyNumber(n):\n",
        "\n",
        "    ugly_nums = [1]  # Store the ugly numbers\n",
        "    i2 = i3 = i5 = 0  # Pointers for factors 2, 3, and 5\n",
        "\n",
        "    for i in range(1, n):\n",
        "        # Generate the next ugly number by multiplying the current ugly numbers at the pointers\n",
        "        next_ugly = min(ugly_nums[i2] * 2, ugly_nums[i3] * 3, ugly_nums[i5] * 5)\n",
        "        ugly_nums.append(next_ugly)\n",
        "\n",
        "        # Update the pointers if the next ugly number was generated from the corresponding factor\n",
        "        if next_ugly == ugly_nums[i2] * 2:\n",
        "            i2 += 1\n",
        "        if next_ugly == ugly_nums[i3] * 3:\n",
        "            i3 += 1\n",
        "        if next_ugly == ugly_nums[i5] * 5:\n",
        "            i5 += 1\n",
        "\n",
        "    return ugly_nums[-1]\n",
        "\n",
        "# time complexity: O(n)\n",
        "# space complexity: O(n)"
      ],
      "metadata": {
        "id": "DR1sBBa5NMc2"
      },
      "execution_count": null,
      "outputs": []
    },
    {
      "cell_type": "markdown",
      "source": [
        "6. Top K Frequent Words\n",
        "\n",
        "Given an array of strings words and an integer k, return the k most frequent strings.\n",
        "Return the answer sorted by the frequency from highest to lowest. Sort the words with the same frequency by their lexicographical order.\n",
        "\n",
        "Example 1:\n",
        "Input: words = [\"i\",\"love\",\"leetcode\",\"i\",\"love\",\"coding\"], k = 2\n",
        "Output: [\"i\",\"love\"]\n",
        "Explanation: \"i\" and \"love\" are the two most frequent words.\n",
        "Note that \"i\" comes before \"love\" due to a lower alphabetical order.\n",
        "\n",
        "Example 2:\n",
        "Input: words = [\"the\",\"day\",\"is\",\"sunny\",\"the\",\"the\",\"the\",\"sunny\",\"is\",\"is\"], k = 4\n",
        "Output: [\"the\",\"is\",\"sunny\",\"day\"]\n",
        "Explanation: \"the\", \"is\", \"sunny\" and \"day\" are the four most frequent words, with the number of occurrence being 4, 3, 2 and 1 respectively.\n",
        "\n",
        "Constraints:\n",
        "-\t1 <= words.length <= 500\n",
        "-\t1 <= words[i].length <= 10\n",
        "-\twords[i] consists of lowercase English letters.\n",
        "-\tk is in the range [1, The number of unique words[i]]"
      ],
      "metadata": {
        "id": "--6wIIH-QcF6"
      }
    },
    {
      "cell_type": "code",
      "source": [
        "from collections import Counter\n",
        "\n",
        "def topKFrequent(words, k):\n",
        "    # Step 1: Count the frequency of each word\n",
        "    word_count = Counter(words)\n",
        "\n",
        "    # Step 2: Sort the words based on frequency and lexicographical order\n",
        "    sorted_words = sorted(word_count.keys(), key=lambda w: (-word_count[w], w))\n",
        "\n",
        "    # Step 3: Return the k most frequent words\n",
        "    return sorted_words[:k]\n",
        "\n",
        "# time complexity: O(n log n)\n",
        "# space complexity: O(n)"
      ],
      "metadata": {
        "id": "c94RzAmXQ-xn"
      },
      "execution_count": null,
      "outputs": []
    },
    {
      "cell_type": "markdown",
      "source": [
        "7. Sliding Window Maximum\n",
        "\n",
        "You are given an array of integers nums, there is a sliding window of size k which is moving from the very left of the array to the very right. You can only see the k numbers in the window. Each time the sliding window moves right by one position. Return the max sliding window.\n",
        "\n",
        "Example 1:\n",
        "Input: nums = [1,3,-1,-3,5,3,6,7], k = 3\n",
        "Output: [3,3,5,5,6,7]\n",
        "Explanation:\n",
        "\n",
        "Window position                Max\n",
        "\n",
        "---------------               -----\n",
        "\n",
        "[1  3  -1] -3  5  3  6 7         3\n",
        "\n",
        " 1 [3  -1  -3] 5  3  6 7         3\n",
        "\n",
        " 1  3 [-1  -3  5] 3  6 7         5\n",
        "\n",
        " 1  3  -1 [-3  5  3] 6 7         5\n",
        "\n",
        " 1  3  -1  -3 [5  3  6]7         6\n",
        "\n",
        " 1  3  -1  -3  5 [3  6  7]       7\n",
        "\n",
        "Example 2:\n",
        "Input: nums = [1], k = 1\n",
        "Output: [1]\n",
        "\n",
        "Constraints:\n",
        "-\t1 <= nums.length <= 100000\n",
        "-\t-10000 <= nums[i] <= 10000\n",
        "-\t1 <= k <= nums.length"
      ],
      "metadata": {
        "id": "8JzHgtMZrM-E"
      }
    },
    {
      "cell_type": "code",
      "source": [
        "from collections import deque\n",
        "\n",
        "def sliding_window_maximum(nums, k):\n",
        "\n",
        "  # Initialize the deque and the maximum value.\n",
        "  window = deque(nums[:k])\n",
        "  max_value = max(window)\n",
        "\n",
        "  # Iterate over the remaining elements of the array.\n",
        "  for i in range(k, len(nums)):\n",
        "    # Remove the element from the front of the deque that is no longer in the sliding window.\n",
        "    old_element = window.popleft()\n",
        "\n",
        "    # Add the new element to the back of the deque.\n",
        "    new_element = nums[i]\n",
        "    window.append(new_element)\n",
        "\n",
        "    # Update the maximum value if necessary.\n",
        "    if old_element <= max_value:\n",
        "      max_value = max(window)\n",
        "    else:\n",
        "      max_value = new_element\n",
        "\n",
        "  # Return the maximum element in the sliding window.\n",
        "  return max_value\n",
        "\n",
        "# time complexity: O(n)\n",
        "# space complexity: O(k), k = size of sliding window"
      ],
      "metadata": {
        "id": "tXaUzj4WR3V_"
      },
      "execution_count": 5,
      "outputs": []
    },
    {
      "cell_type": "markdown",
      "source": [
        "8. Find K Closest Elements\n",
        "\n",
        "Given a sorted integer array arr, two integers k and x, return the k closest integers to x in the array. The result should also be sorted in ascending order.\n",
        "An integer a is closer to x than an integer b if:\n",
        "-\t|a - x| < |b - x|, or\n",
        "-\t|a - x| == |b - x| and a < b\n",
        "\n",
        "Example 1:\n",
        "Input: arr = [1,2,3,4,5], k = 4, x = 3\n",
        "Output: [1,2,3,4]\n",
        "\n",
        "Example 2:\n",
        "Input: arr = [1,2,3,4,5], k = 4, x = -1\n",
        "Output: [1,2,3,4]\n",
        "\n",
        "Constraints:\n",
        "-\t1 <= k <= arr.length\n",
        "-\t1 <= arr.length <= 10000\n",
        "-\tarr is sorted in ascending order.\n",
        "-\t-10000 <= arr[i], x <= 10000"
      ],
      "metadata": {
        "id": "GgelkZT0tClX"
      }
    },
    {
      "cell_type": "code",
      "source": [
        "def find_k_closest_elements(arr, k, x):\n",
        "\n",
        "  # Initialize the left and right pointers.\n",
        "  left = 0\n",
        "  right = len(arr) - 1\n",
        "\n",
        "  # Find the element in the array that is closest to x.\n",
        "  while left <= right:\n",
        "    mid = (left + right) // 2\n",
        "    diff = abs(arr[mid] - x)\n",
        "    if diff < abs(arr[mid - 1] - x):\n",
        "      right = mid - 1\n",
        "    elif diff > abs(arr[mid + 1] - x):\n",
        "      left = mid + 1\n",
        "    else:\n",
        "      # The element at mid is the closest element to x.\n",
        "      closest_elements = [arr[mid]]\n",
        "      break\n",
        "\n",
        "  # Iterate over the elements on either side of the element to find the k closest elements.\n",
        "  for i in range(1, k):\n",
        "    if left < 0:\n",
        "      closest_elements.append(arr[right + i])\n",
        "    elif right >= len(arr):\n",
        "      closest_elements.append(arr[left - i])\n",
        "    else:\n",
        "      if abs(arr[left] - x) <= abs(arr[right] - x):\n",
        "        closest_elements.append(arr[left])\n",
        "      else:\n",
        "        closest_elements.append(arr[right])\n",
        "\n",
        "  return closest_elements\n",
        "\n",
        "# time complexity: O(log n + k)\n",
        "# space complexity: O(k), k = number of closest elements to find"
      ],
      "metadata": {
        "id": "xe7NY7bWtBcF"
      },
      "execution_count": null,
      "outputs": []
    }
  ]
}