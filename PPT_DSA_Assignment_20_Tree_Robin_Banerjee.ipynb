{
  "nbformat": 4,
  "nbformat_minor": 0,
  "metadata": {
    "colab": {
      "provenance": []
    },
    "kernelspec": {
      "name": "python3",
      "display_name": "Python 3"
    },
    "language_info": {
      "name": "python"
    }
  },
  "cells": [
    {
      "cell_type": "markdown",
      "source": [
        "Question-1\n",
        "\n",
        "Given a binary tree, your task is to find subtree with maximum sum in tree.\n",
        "\n",
        "Examples:\n",
        "\n",
        "Input1 :\n",
        "\n",
        "  1\n",
        "\n",
        " /    \\\n",
        " 2      3\n",
        "/ \\    / \\\n",
        "4   5  6   7\n",
        "Output1 : 28\n",
        "As all the tree elements are positive, the largest subtree sum is equal to sum of all tree elements.\n",
        "\n",
        "Input2 :\n",
        "   1\n",
        " /    \\\n",
        "-2      3\n",
        "/ \\    /  \\\n",
        "4   5  -6   2\n",
        "Output2 : 7\n",
        "Subtree with largest sum is :\n",
        "-2\n",
        "/ \\\n",
        "4   5\n",
        "Also, entire tree sum is also 7."
      ],
      "metadata": {
        "id": "b6pqKMQO0E4J"
      }
    },
    {
      "cell_type": "code",
      "execution_count": null,
      "metadata": {
        "id": "FQa14Tjnz2t1"
      },
      "outputs": [],
      "source": [
        "class Node:\n",
        "    def __init__(self, data):\n",
        "        self.data = data\n",
        "        self.left = None\n",
        "        self.right = None\n",
        "\n",
        "def findMaxSubtreeSum(root):\n",
        "    # if tree does not exist, then answer is 0\n",
        "    if root is None:\n",
        "        return 0\n",
        "\n",
        "    # Variable to store maximum subtree sum\n",
        "    max_sum = float(\"-inf\")\n",
        "\n",
        "    # Initialize current sum\n",
        "    curr_sum = 0\n",
        "\n",
        "    # Find left subtree sum recursively\n",
        "    left_sum = findMaxSubtreeSum(root.left)\n",
        "\n",
        "    # Find right subtree sum recursively\n",
        "    right_sum = findMaxSubtreeSum(root.right)\n",
        "\n",
        "    # Calculate subtree sum rooted at current node\n",
        "    curr_sum = root.data + left_sum + right_sum\n",
        "\n",
        "    # Update maximum subtree sum if current subtree sum is greater\n",
        "    if curr_sum > max_sum:\n",
        "        max_sum = curr_sum\n",
        "\n",
        "    # Return maximum subtree sum\n",
        "    return max_sum\n",
        "\n",
        "# time complexity: O(N)\n",
        "# space complexity: O(1)"
      ]
    },
    {
      "cell_type": "markdown",
      "source": [
        "Question-2\n",
        "Construct the BST (Binary Search Tree) from its given level order traversal.\n",
        "Example:\n",
        "Input: arr[] = {7, 4, 12, 3, 6, 8, 1, 5, 10}\n",
        "Output: BST:\n",
        "\n",
        "  7\n",
        "\n",
        "/    \\\n",
        "\n",
        "4       12\n",
        "\n",
        "/   \\     /\n",
        "\n",
        "3     6   8\n",
        "/   /     \\\n",
        "1  5      10"
      ],
      "metadata": {
        "id": "3Nq_6hBe3CCW"
      }
    },
    {
      "cell_type": "code",
      "source": [
        "class Node:\n",
        "    def __init__(self, data):\n",
        "        self.data = data\n",
        "        self.left = None\n",
        "        self.right = None\n",
        "\n",
        "\n",
        "def constructBST(arr, start, end):\n",
        "    # if start > end, then tree is empty\n",
        "    if start > end:\n",
        "        return None\n",
        "\n",
        "    # if the array is empty\n",
        "    if start == end:\n",
        "        return Node(arr[start])\n",
        "\n",
        "    # Find the middle element of the given array\n",
        "    mid = (start + end) // 2\n",
        "\n",
        "    # Create a new node with the middle element\n",
        "    root = Node(arr[mid])\n",
        "\n",
        "    # Construct the left subtree of the root node\n",
        "    root.left = constructBST(arr, start, mid - 1)\n",
        "\n",
        "    # Construct the right subtree of the root node\n",
        "    root.right = constructBST(arr, mid + 1, end)\n",
        "\n",
        "    return root\n",
        "\n",
        "# time complexity: O(N)\n",
        "# space complexity: O(N)"
      ],
      "metadata": {
        "id": "r3ixqO4t4m26"
      },
      "execution_count": null,
      "outputs": []
    },
    {
      "cell_type": "markdown",
      "source": [
        "Question-3\n",
        "\n",
        "Given an array of size n. The problem is to check whether the given array can represent the level order traversal of a Binary Search Tree or not.\n",
        "Examples:\n",
        "\n",
        "Input1 : arr[] = {7, 4, 12, 3, 6, 8, 1, 5, 10}\n",
        "Output1 : Yes\n",
        "For the given arr[], the Binary Search Tree is:\n",
        "  7\n",
        "\n",
        "/    \\\n",
        "\n",
        "4     12\n",
        "\n",
        " /  \\   /\n",
        "\n",
        "3    6  8\n",
        "/   /    \\\n",
        "1  5     10\n",
        "\n",
        "Input2 : arr[] = {11, 6, 13, 5, 12, 10}\n",
        "Output2 : No\n",
        "The given arr[] does not represent the level order traversal of a BST"
      ],
      "metadata": {
        "id": "XJaY6Xm352m0"
      }
    },
    {
      "cell_type": "code",
      "source": [
        "class Node:\n",
        "    def __init__(self, data):\n",
        "        self.data = data\n",
        "        self.left = None\n",
        "        self.right = None\n",
        "\n",
        "\n",
        "def isBST(arr, n):\n",
        "    # if the array is empty\n",
        "    if n == 0:\n",
        "        return True\n",
        "\n",
        "    # if the array is even\n",
        "    if n % 2 == 0:\n",
        "        return False\n",
        "\n",
        "    # if the current element is greater than all the elements in its left subtree\n",
        "    for i in range(0, n - 1):\n",
        "        if arr[i] > arr[i + 1]:\n",
        "            return False\n",
        "\n",
        "    # if the current element is less than all the elements in its right subtree\n",
        "    for i in range(1, n):\n",
        "        if arr[i - 1] > arr[i]:\n",
        "            return False\n",
        "\n",
        "    # Recursively check for the left and right subtrees\n",
        "    return isBST(arr, n // 2) and isBST(arr[n // 2:], n // 2 - 1)\n",
        "\n",
        "# time complexity: O(N)\n",
        "# space complexity: O(N)"
      ],
      "metadata": {
        "id": "X_IsiJBS57eu"
      },
      "execution_count": null,
      "outputs": []
    }
  ]
}