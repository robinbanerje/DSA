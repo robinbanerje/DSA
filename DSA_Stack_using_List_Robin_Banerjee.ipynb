{
  "nbformat": 4,
  "nbformat_minor": 0,
  "metadata": {
    "colab": {
      "provenance": []
    },
    "kernelspec": {
      "name": "python3",
      "display_name": "Python 3"
    },
    "language_info": {
      "name": "python"
    }
  },
  "cells": [
    {
      "cell_type": "markdown",
      "source": [
        "Implement a stack using a list in Python. Include the necessary methods such as push, pop, and isEmpty."
      ],
      "metadata": {
        "id": "A0T1VvxIMZ8m"
      }
    },
    {
      "cell_type": "code",
      "execution_count": null,
      "metadata": {
        "id": "dJd081BkMXEJ"
      },
      "outputs": [],
      "source": [
        "class Stack:\n",
        "\n",
        "    def __init__(self, max_size):\n",
        "        \"\"\"\n",
        "        initialized new stack\n",
        "        \"\"\"\n",
        "        self.items = []\n",
        "        self.max_size = max_size\n",
        "\n",
        "    def push(self, item):\n",
        "        \"\"\"\n",
        "        push item onto the stack\n",
        "        \"\"\"\n",
        "        if len(self.items) == self.max_size:\n",
        "            #  stack overflow exception\n",
        "            raise OverflowError(\"Stack overflow\")\n",
        "        self.items.append(item)\n",
        "\n",
        "    def pop(self):\n",
        "        \"\"\"\n",
        "        pop an item from the stack\n",
        "        \"\"\"\n",
        "        if len(self.items) == 0:\n",
        "            # stack underflow exception\n",
        "            raise UnderflowError(\"Stack underflow\")\n",
        "        return self.items.pop()\n",
        "\n",
        "    def isEmpty(self):\n",
        "        \"\"\"\n",
        "        if the stack is empty retrun True, else False\n",
        "        \"\"\"\n",
        "        return len(self.items) == 0\n",
        "\n",
        "# time complexity: O(1)\n",
        "# space complexity: O(n)"
      ]
    }
  ]
}