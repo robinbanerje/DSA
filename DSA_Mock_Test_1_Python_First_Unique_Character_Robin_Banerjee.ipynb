{
  "nbformat": 4,
  "nbformat_minor": 0,
  "metadata": {
    "colab": {
      "provenance": []
    },
    "kernelspec": {
      "name": "python3",
      "display_name": "Python 3"
    },
    "language_info": {
      "name": "python"
    }
  },
  "cells": [
    {
      "cell_type": "markdown",
      "source": [
        "First Unique Character in a String\n",
        "\n",
        "Given a string s, find the first non-repeating character in it and return its index. If it does not exist, return -1.\n",
        "\n",
        "Example 1:\n",
        "Input: s = \"leetcode\"\n",
        "Output: 0\n",
        "\n",
        "Example 2:\n",
        "Input: s = \"loveleetcode\"\n",
        "Output: 2\n",
        "\n",
        "Example 3:\n",
        "Input: s = \"aabb\"\n",
        "Output: -1\n",
        "\n",
        "Constraints:\n",
        "a. 1 <= s.length <= 10^5\n",
        "b. s consists of only lowercase English letters."
      ],
      "metadata": {
        "id": "OuVt7lqTLh0E"
      }
    },
    {
      "cell_type": "code",
      "source": [
        "def first_unique_char(s):\n",
        "\n",
        "  # boolean array to store ASCII character in string\n",
        "  seen = [False] * 256\n",
        "  first_unique_char_index = -1\n",
        "\n",
        "  for i in range(len(s)):\n",
        "  # If the current character has not been seen before, set it to seen and update the index of the first non-repeating character\n",
        "    if s[i] not in seen:\n",
        "      seen[s[i]] = True           # True values represent characters that have been seen\n",
        "      first_unique_char_index = i # update the index of the first non-repeating character\n",
        "\n",
        "  return first_unique_char_index\n",
        "\n",
        "# time complexity = O(n)\n",
        "# space complexity = O(1)"
      ],
      "metadata": {
        "id": "F0_r01vyLmqd"
      },
      "execution_count": null,
      "outputs": []
    }
  ]
}