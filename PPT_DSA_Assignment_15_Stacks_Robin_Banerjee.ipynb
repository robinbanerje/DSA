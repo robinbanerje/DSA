{
  "nbformat": 4,
  "nbformat_minor": 0,
  "metadata": {
    "colab": {
      "provenance": []
    },
    "kernelspec": {
      "name": "python3",
      "display_name": "Python 3"
    },
    "language_info": {
      "name": "python"
    }
  },
  "cells": [
    {
      "cell_type": "markdown",
      "source": [
        "Question 1\n",
        "\n",
        "Given an array arr[ ] of size N having elements, the task is to find the next greater element for each element of the array in order of their appearance in the array.Next greater element of an element in the array is the nearest element on the right which is greater than the current element.If there does not exist next greater of current element, then next greater element for current element is -1. For example, next greater of the last element is always -1.\n",
        "\n",
        "Example 1:\n",
        "Input:\n",
        "N = 4, arr[] = [1 3 2 4]\n",
        "Output:\n",
        "3 4 4 -1\n",
        "Explanation:\n",
        "In the array, the next larger element\n",
        "to 1 is 3 , 3 is 4 , 2 is 4 and for 4 ?\n",
        "since it doesn't exist, it is -1.\n",
        "\n",
        "Example 2:\n",
        "Input:\n",
        "N = 5, arr[] [6 8 0 1 3]\n",
        "Output:\n",
        "8 -1 1 3 -1\n",
        "Explanation:\n",
        "In the array, the next larger element to\n",
        "6 is 8, for 8 there is no larger elements\n",
        "hence it is -1, for 0 it is 1 , for 1 it\n",
        "is 3 and then for 3 there is no larger\n",
        "element on right and hence -1."
      ],
      "metadata": {
        "id": "0HYTour7RbhH"
      }
    },
    {
      "cell_type": "code",
      "source": [
        "def findNextGreaterElement(arr):\n",
        "    stack = []  # Stack to store indices of elements\n",
        "    result = [-1] * len(arr)  # Initialize result array with -1\n",
        "\n",
        "    for i in range(len(arr)):\n",
        "        # if the current element is greater than elements at indices stored in the stack\n",
        "        while stack and arr[i] > arr[stack[-1]]:\n",
        "            index = stack.pop()\n",
        "            result[index] = arr[i]\n",
        "\n",
        "        # Push the current element's index to the stack\n",
        "        stack.append(i)\n",
        "\n",
        "    return result\n",
        "\n",
        "# time complexity: O(N)\n",
        "# space complexity: O(N)"
      ],
      "metadata": {
        "id": "ogfmela4IFJN"
      },
      "execution_count": null,
      "outputs": []
    },
    {
      "cell_type": "markdown",
      "source": [
        "Question 2\n",
        "\n",
        "Given an array a of integers of length n, find the nearest smaller number for every element such that the smaller element is on left side.If no small element present on the left print -1.\n",
        "\n",
        "Example 1:\n",
        "Input: n = 3\n",
        "a = {1, 6, 2}\n",
        "Output: -1 1 1\n",
        "Explaination: There is no number at the\n",
        "left of 1. Smaller number than 6 and 2 is 1.\n",
        "\n",
        "Example 2:\n",
        "Input: n = 6\n",
        "a = {1, 5, 0, 3, 4, 5}\n",
        "Output: -1 1 -1 0 3 4\n",
        "Explaination: Upto 3 it is easy to see\n",
        "the smaller numbers. But for 4 the smaller\n",
        "numbers are 1, 0 and 3. But among them 3\n",
        "is closest. Similary for 5 it is 4."
      ],
      "metadata": {
        "id": "H0N9T8fRKnZU"
      }
    },
    {
      "cell_type": "code",
      "source": [
        "def findNearestSmaller(a):\n",
        "    result = []     # Initialize an empty list to store the nearest smaller numbers\n",
        "    stack = []      # Create an empty stack to keep track of smaller elements on the left\n",
        "\n",
        "    for i in range(len(a)):     # Iterate through each element in the array\n",
        "        while stack and stack[-1] >= a[i]:\n",
        "            # while the stack is not empty and the element at the top of the stack is greater than or equal to the current element\n",
        "            stack.pop()     # Pop the top element from the stack\n",
        "\n",
        "        if not stack:\n",
        "            # if the stack is empty after popping elements, there is no smaller element on the left\n",
        "            result.append(-1)\n",
        "        else:\n",
        "            # if a smaller element is found on the left, append it to the result list\n",
        "            result.append(stack[-1])\n",
        "\n",
        "        stack.append(a[i])      # Push the current element to the stack for comparison with future elements\n",
        "\n",
        "    return result      # Return the list of nearest smaller numbers\n",
        "\n",
        "# time complexity: O(N)\n",
        "# space complexity: O(N)"
      ],
      "metadata": {
        "id": "WGEu3MwhL8_M"
      },
      "execution_count": null,
      "outputs": []
    },
    {
      "cell_type": "markdown",
      "source": [
        "Question 3\n",
        "\n",
        "Implement a Stack using two queues q1 and q2.\n",
        "\n",
        "Example 1:\n",
        "Input:\n",
        "push(2)\n",
        "push(3)\n",
        "pop()\n",
        "push(4)\n",
        "pop()\n",
        "Output:3 4\n",
        "Explanation:\n",
        "push(2) the stack will be {2}\n",
        "push(3) the stack will be {2 3}\n",
        "pop()   poped element will be 3 the\n",
        "        stack will be {2}\n",
        "push(4) the stack will be {2 4}\n",
        "pop()   poped element will be 4\n",
        "\n",
        "Example 2:\n",
        "Input:\n",
        "push(2)\n",
        "pop()\n",
        "pop()\n",
        "push(3)\n",
        "Output:2 -1"
      ],
      "metadata": {
        "id": "xVCG_EhhME2V"
      }
    },
    {
      "cell_type": "code",
      "source": [
        "from queue import Queue\n",
        "\n",
        "class Stack:\n",
        "    def __init__(self):\n",
        "        self.q1 = Queue()   # First queue\n",
        "        self.q2 = Queue()   # Second queue\n",
        "        self.top_element = None   # Variable to keep track of the top element\n",
        "\n",
        "    def push(self, value):\n",
        "        self.q2.put(value)   # Add the new element to the second queue\n",
        "\n",
        "        # Move all elements from the first queue to the second queue\n",
        "        while not self.q1.empty():\n",
        "            self.q2.put(self.q1.get())\n",
        "\n",
        "        # Swap the references of the queues\n",
        "        self.q1, self.q2 = self.q2, self.q1\n",
        "\n",
        "        self.top_element = value   # Update the top element\n",
        "\n",
        "    def pop(self):\n",
        "        if self.q1.empty():\n",
        "            return -1   # Stack is empty, return -1\n",
        "\n",
        "        # Remove and return the top element from the first queue\n",
        "        popped_element = self.q1.get()\n",
        "\n",
        "        # Update the top element if the first queue is not empty\n",
        "        if not self.q1.empty():\n",
        "            self.top_element = self.q1.queue[0]\n",
        "\n",
        "        return popped_element"
      ],
      "metadata": {
        "id": "HXitxqWjOAg9"
      },
      "execution_count": null,
      "outputs": []
    },
    {
      "cell_type": "markdown",
      "source": [
        "Question 4\n",
        "\n",
        "You are given a stack St. You have to reverse the stack using recursion.\n",
        "\n",
        "Example 1:\n",
        "Input:St = {3,2,1,7,6}\n",
        "Output:{6,7,1,2,3}\n",
        "\n",
        "Example 2:\n",
        "Input:St = {4,3,9,6}\n",
        "Output:{6,9,3,4}"
      ],
      "metadata": {
        "id": "BowoQRkHQKSG"
      }
    },
    {
      "cell_type": "code",
      "source": [
        "def reverse_stack(stack):\n",
        "\n",
        "    # if the stack is empty or has only one element, return the stack as it is\n",
        "    if len(stack) <= 1:\n",
        "        return stack\n",
        "\n",
        "    # Pop the top element from the stack and store it\n",
        "    top_element = stack.pop()\n",
        "\n",
        "    # Recursively call the reverse_stack function on the remaining elements of the stack\n",
        "    stack = reverse_stack(stack)\n",
        "\n",
        "    # Insert the top_element at the bottom of the reversed stack\n",
        "    stack = insert_at_bottom(stack, top_element)\n",
        "\n",
        "    return stack\n",
        "\n",
        "\n",
        "def insert_at_bottom(stack, item):\n",
        "\n",
        "    # if the stack is empty, append the item\n",
        "    if len(stack) == 0:\n",
        "        stack.append(item)\n",
        "    else:\n",
        "        # Pop the top element from the stack\n",
        "        top_element = stack.pop()\n",
        "\n",
        "        # Recursively insert the item at the bottom of the stack\n",
        "        stack = insert_at_bottom(stack, item)\n",
        "\n",
        "        # Push the top_element back into the stack\n",
        "        stack.append(top_element)\n",
        "\n",
        "    return stack\n",
        "\n",
        "# time complexity: O(n^2)\n",
        "# space complexity: O(n)"
      ],
      "metadata": {
        "id": "qv932rbsQXvZ"
      },
      "execution_count": null,
      "outputs": []
    },
    {
      "cell_type": "markdown",
      "source": [
        "Question 5\n",
        "You are given a string S, the task is to reverse the string using stack.\n",
        "Example 1:\n",
        "Input: S=\"GeeksforGeeks\"\n",
        "Output: skeeGrofskeeG"
      ],
      "metadata": {
        "id": "_SR_IGKXRhoa"
      }
    },
    {
      "cell_type": "code",
      "source": [
        "def reverse_string(S):\n",
        "\n",
        "    stack = []  # Initialize an empty stack\n",
        "\n",
        "    # Push each character of the string onto the stack\n",
        "    for char in S:\n",
        "        stack.append(char)\n",
        "\n",
        "    reversed_string = \"\"\n",
        "\n",
        "    # Pop each character from the stack to form the reversed string\n",
        "    while len(stack) > 0:\n",
        "        reversed_string += stack.pop()\n",
        "\n",
        "    return reversed_string\n",
        "\n",
        "# time complexity: O(n)\n",
        "# space complexity: O(n)"
      ],
      "metadata": {
        "id": "VKQYWdS7Rq_V"
      },
      "execution_count": null,
      "outputs": []
    },
    {
      "cell_type": "markdown",
      "source": [
        "Question 6\n",
        "\n",
        "Given string S representing a postfix expression, the task is to evaluate the expression and find the final value. Operators will only include the basic arithmetic operators like *, /, + and -.\n",
        "\n",
        "Example 1:\n",
        "Input: S = \"231*+9-\"\n",
        "Output: -4\n",
        "Explanation:\n",
        "After solving the given expression,\n",
        "we have -4 as result.\n",
        "\n",
        "Example 2:\n",
        "Input: S = \"123+*8-\"\n",
        "Output: -3\n",
        "Explanation:\n",
        "After solving the given postfix\n",
        "expression, we have -3 as result."
      ],
      "metadata": {
        "id": "vUi3ShjDSQKv"
      }
    },
    {
      "cell_type": "code",
      "source": [
        "def evaluate_postfix(expression):\n",
        "\n",
        "    stack = []  # Initialize an empty stack\n",
        "\n",
        "    # Iterate over each character in the expression\n",
        "    for char in expression:\n",
        "        # if the character is a digit, push it onto the stack\n",
        "        if char.isdigit():\n",
        "            stack.append(int(char))\n",
        "        else:\n",
        "            # if the character is an operator, pop the top two operands from the stack\n",
        "            operand2 = stack.pop()\n",
        "            operand1 = stack.pop()\n",
        "\n",
        "            # Perform the operation based on the operator\n",
        "            if char == '*':\n",
        "                result = operand1 * operand2\n",
        "            elif char == '/':\n",
        "                result = operand1 / operand2\n",
        "            elif char == '+':\n",
        "                result = operand1 + operand2\n",
        "            elif char == '-':\n",
        "                result = operand1 - operand2\n",
        "\n",
        "            # Push the result back onto the stack\n",
        "            stack.append(result)\n",
        "\n",
        "    # The final result is the only element left in the stack\n",
        "    return stack[0]\n",
        "\n",
        "# time complexity: O(n)\n",
        "# space complexity: O(n)"
      ],
      "metadata": {
        "id": "CSCbUgAiSnLs"
      },
      "execution_count": null,
      "outputs": []
    },
    {
      "cell_type": "markdown",
      "source": [
        "Question 7\n",
        "\n",
        "Design a stack that supports push, pop, top, and retrieving the minimum element in constant time.\n",
        "Implement the MinStack class:\n",
        "-\tMinStack() initializes the stack object.\n",
        "-\tvoid push(int val) pushes the element val onto the stack.\n",
        "-\tvoid pop() removes the element on the top of the stack.\n",
        "-\tint top() gets the top element of the stack.\n",
        "-\tint getMin() retrieves the minimum element in the stack.\n",
        "You must implement a solution with O(1) time complexity for each function.\n",
        "\n",
        "Example 1:\n",
        "Input\n",
        "[\"MinStack\",\"push\",\"push\",\"push\",\"getMin\",\"pop\",\"top\",\"getMin\"]\n",
        "[[],[-2],[0],[-3],[],[],[],[]]\n",
        "\n",
        "Output\n",
        "[null,null,null,null,-3,null,0,-2]\n",
        "\n",
        "Explanation\n",
        "MinStack minStack = new MinStack();\n",
        "minStack.push(-2);\n",
        "minStack.push(0);\n",
        "minStack.push(-3);\n",
        "minStack.getMin(); // return -3\n",
        "minStack.pop();\n",
        "minStack.top();    // return 0\n",
        "minStack.getMin(); // return -2"
      ],
      "metadata": {
        "id": "apV_cJhEToot"
      }
    },
    {
      "cell_type": "code",
      "source": [
        "class MinStack:\n",
        "    def __init__(self):\n",
        "        \"\"\"\n",
        "        Initialize the MinStack object\n",
        "        \"\"\"\n",
        "        self.stack = []\n",
        "        self.min_stack = []\n",
        "\n",
        "    def push(self, val):\n",
        "        \"\"\"\n",
        "        Push the element value onto the stack\n",
        "        \"\"\"\n",
        "        self.stack.append(val)\n",
        "\n",
        "        # Update the min_stack with the minimum element\n",
        "        if not self.min_stack or val <= self.min_stack[-1]:\n",
        "            self.min_stack.append(val)\n",
        "\n",
        "    def pop(self):\n",
        "        \"\"\"\n",
        "        Remove the element on the top of the stack\n",
        "        \"\"\"\n",
        "        if self.stack:\n",
        "            val = self.stack.pop()\n",
        "\n",
        "            # Remove the element from the min_stack if it is the current minimum\n",
        "            if val == self.min_stack[-1]:\n",
        "                self.min_stack.pop()\n",
        "\n",
        "    def top(self):\n",
        "        \"\"\"\n",
        "        Get the top element of the stack\n",
        "        \"\"\"\n",
        "        if self.stack:\n",
        "            return self.stack[-1]\n",
        "\n",
        "    def getMin(self):\n",
        "        \"\"\"\n",
        "        Retrieve the minimum element in the stack\n",
        "        \"\"\"\n",
        "        if self.min_stack:\n",
        "            return self.min_stack[-1]\n",
        "\n",
        "# time complexity of all the operations (push, pop, top, and getMin): O(1)\n",
        "# space complexity is O(n)"
      ],
      "metadata": {
        "id": "tbxmrpGqUXuH"
      },
      "execution_count": null,
      "outputs": []
    },
    {
      "cell_type": "markdown",
      "source": [
        "Question 8\n",
        "\n",
        "Given n non-negative integers representing an elevation map where the width of each bar is 1, compute how much water it can trap after raining.\n",
        "\n",
        "Example 1:\n",
        "Input: height = [0,1,0,2,1,0,1,3,2,1,2,1]\n",
        "Output: 6\n",
        "Explanation: The above elevation map (black section) is represented by array [0,1,0,2,1,0,1,3,2,1,2,1]. In this case, 6 units of rain water (blue section) are being trapped.\n",
        "\n",
        "Example 2:\n",
        "Input: height = [4,2,0,3,2,5]\n",
        "Output: 9"
      ],
      "metadata": {
        "id": "MrwEoXISWWdx"
      }
    },
    {
      "cell_type": "code",
      "source": [
        "def trap(height):\n",
        "    n = len(height)\n",
        "    if n < 3:\n",
        "        return 0\n",
        "\n",
        "    water = 0  # Total amount of trapped water\n",
        "    stack = []  # Stack to store the indices of bars\n",
        "\n",
        "    for i in range(n):\n",
        "        while stack and height[i] > height[stack[-1]]:\n",
        "            # There is a bar at the top of the stack that is smaller than the current bar\n",
        "            top = stack.pop()  # Pop the top bar's index from the stack\n",
        "\n",
        "            if not stack:\n",
        "                break\n",
        "\n",
        "            # Calculate the distance between the current bar and the previous bar in the stack\n",
        "            distance = i - stack[-1] - 1\n",
        "            # Calculate the height difference between the current bar and the previous bar in the stack\n",
        "            bounded_height = min(height[i], height[stack[-1]]) - height[top]\n",
        "            # Add the trapped water for the current segment (width * height)\n",
        "            water += distance * bounded_height\n",
        "\n",
        "        stack.append(i)  # Push the current bar's index into the stack\n",
        "\n",
        "    return water\n",
        "\n",
        "# time complexity: O(n)\n",
        "# space complexity: O(n)"
      ],
      "metadata": {
        "id": "isa1f_hAXcZs"
      },
      "execution_count": null,
      "outputs": []
    }
  ]
}