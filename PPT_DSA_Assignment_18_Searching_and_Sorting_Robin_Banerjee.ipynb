{
  "nbformat": 4,
  "nbformat_minor": 0,
  "metadata": {
    "colab": {
      "provenance": []
    },
    "kernelspec": {
      "name": "python3",
      "display_name": "Python 3"
    },
    "language_info": {
      "name": "python"
    }
  },
  "cells": [
    {
      "cell_type": "markdown",
      "source": [
        "1. Merge Intervals\n",
        "\n",
        "Given an array of intervals where intervals[i] = [starti, endi], merge all overlapping intervals, and return an array of the non-overlapping intervals that cover all the intervals in the input.\n",
        "\n",
        "Example 1:\n",
        "Input: intervals = [[1,3],[2,6],[8,10],[15,18]]\n",
        "Output: [[1,6],[8,10],[15,18]]\n",
        "Explanation: Since intervals [1,3] and [2,6] overlap, merge them into [1,6].\n",
        "\n",
        "Example 2:\n",
        "Input: intervals = [[1,4],[4,5]]\n",
        "Output: [[1,5]]\n",
        "Explanation: Intervals [1,4] and [4,5] are considered overlapping.\n",
        "\n",
        "Constraints:\n",
        "-\t1 <= intervals.length <= 10000\n",
        "-\tintervals[i].length == 2\n",
        "-\t0 <= starti <= endi <= 10000"
      ],
      "metadata": {
        "id": "At3sv2X1E6dg"
      }
    },
    {
      "cell_type": "code",
      "execution_count": null,
      "metadata": {
        "id": "YMG01jCTEyVV"
      },
      "outputs": [],
      "source": [
        "def merge(intervals):\n",
        "    # Sort the intervals based on start time\n",
        "    intervals.sort(key=lambda x: x[0])\n",
        "\n",
        "    # Initialize the merged intervals list\n",
        "    merged = []\n",
        "\n",
        "    for interval in intervals:\n",
        "        # If merged is empty or the current interval does not overlap with the last interval in merged\n",
        "        if not merged or interval[0] > merged[-1][1]:\n",
        "            merged.append(interval)\n",
        "        else:\n",
        "            # Merge the current interval with the last interval in merged\n",
        "            merged[-1][1] = max(merged[-1][1], interval[1])\n",
        "\n",
        "    return merged\n",
        "\n",
        "# time complexity: O(n log n)\n",
        "# space complexity: O(n)"
      ]
    },
    {
      "cell_type": "markdown",
      "source": [
        "2. Sort Colors\n",
        "\n",
        "Given an array nums with n objects colored red, white, or blue, sort them in-place so that objects of the same color are adjacent, with the colors in the order red, white, and blue.\n",
        "We will use the integers 0, 1, and 2 to represent the color red, white, and blue, respectively.\n",
        "You must solve this problem without using the library's sort function.\n",
        "\n",
        "Example 1:\n",
        "Input: nums = [2,0,2,1,1,0]\n",
        "Output: [0,0,1,1,2,2]\n",
        "\n",
        "Example 2:\n",
        "Input: nums = [2,0,1]\n",
        "Output: [0,1,2]\n",
        "\n",
        "Constraints:\n",
        "-\tn == nums.length\n",
        "-\t1 <= n <= 300\n",
        "-\tnums[i] is either 0, 1, or 2."
      ],
      "metadata": {
        "id": "xFPISLMxJEY1"
      }
    },
    {
      "cell_type": "code",
      "source": [
        "def sortColors(nums):\n",
        "    # Initialize the pointers\n",
        "    low = 0  # points to the region of 0s (red)\n",
        "    mid = 0  # points to the current element being processed\n",
        "    high = len(nums) - 1  # points to the region of 2s (blue)\n",
        "\n",
        "    while mid <= high:\n",
        "        if nums[mid] == 0:\n",
        "            # If the current element is 0 (red), swap it with the element at the low pointer\n",
        "            nums[low], nums[mid] = nums[mid], nums[low]\n",
        "            low += 1\n",
        "            mid += 1\n",
        "        elif nums[mid] == 1:\n",
        "            # If the current element is 1 (white), move to the next element\n",
        "            mid += 1\n",
        "        else:\n",
        "            # If the current element is 2 (blue), swap it with the element at the high pointer\n",
        "            nums[mid], nums[high] = nums[high], nums[mid]\n",
        "            high -= 1\n",
        "\n",
        "    return nums\n",
        "\n",
        "# time complexity: O(n)\n",
        "# space complexity: O(1)"
      ],
      "metadata": {
        "id": "dF-YyXF_L4jI"
      },
      "execution_count": null,
      "outputs": []
    },
    {
      "cell_type": "markdown",
      "source": [
        "3. First Bad Version Solution\n",
        "\n",
        "You are a product manager and currently leading a team to develop a new product. Unfortunately, the latest version of your product fails the quality check. Since each version is developed based on the previous version, all the versions after a bad version are also bad.\n",
        "Suppose you have n versions [1, 2, ..., n] and you want to find out the first bad one, which causes all the following ones to be bad.\n",
        "You are given an API bool isBadVersion(version) which returns whether version is bad. Implement a function to find the first bad version. You should minimize the number of calls to the API.\n",
        "\n",
        "Example 1:\n",
        "Input: n = 5, bad = 4\n",
        "Output: 4\n",
        "Explanation:\n",
        "call isBadVersion(3) -> false\n",
        "call isBadVersion(5) -> true\n",
        "call isBadVersion(4) -> true\n",
        "Then 4 is the first bad version.\n",
        "\n",
        "Example 2:\n",
        "Input: n = 1, bad = 1\n",
        "Output: 1\n",
        "\n",
        "Constraints:\n",
        "-\t1 <= bad <= n <= 2^31 - 1"
      ],
      "metadata": {
        "id": "0VNk833YMar9"
      }
    },
    {
      "cell_type": "code",
      "source": [
        "def firstBadVersion(n):\n",
        "    left = 1\n",
        "    right = n\n",
        "\n",
        "    while left < right:\n",
        "        mid = left + (right - left) // 2\n",
        "        if isBadVersion(mid):\n",
        "            # The current version is bad, so search in the left half\n",
        "            right = mid\n",
        "        else:\n",
        "            # The current version is good, so search in the right half\n",
        "            left = mid + 1\n",
        "\n",
        "    # At this point, left and right will be equal, representing the first bad version\n",
        "    return left\n",
        "\n",
        "# time complexity: O(log n)\n",
        "# space complexity: O(1)"
      ],
      "metadata": {
        "id": "2M8KzsZsNFsH"
      },
      "execution_count": null,
      "outputs": []
    },
    {
      "cell_type": "markdown",
      "source": [
        "4. Maximum Gap\n",
        "\n",
        "Given an integer array nums, return the maximum difference between two successive elements in its sorted form. If the array contains less than two elements, return 0.\n",
        "You must write an algorithm that runs in linear time and uses linear extra space.\n",
        "\n",
        "Example 1:\n",
        "Input: nums = [3,6,9,1]\n",
        "Output: 3\n",
        "Explanation: The sorted form of the array is [1,3,6,9], either (3,6) or (6,9) has the maximum difference 3.\n",
        "\n",
        "Example 2:\n",
        "Input: nums = [10]\n",
        "Output: 0\n",
        "Explanation: The array contains less than 2 elements, therefore return 0.\n",
        "\n",
        "Constraints:\n",
        "-\t1 <= nums.length <= 10^5\n",
        "-\t0 <= nums[i] <= 10^9"
      ],
      "metadata": {
        "id": "HE-B6JSqNiPf"
      }
    },
    {
      "cell_type": "code",
      "source": [
        "def maximumGap(nums):\n",
        "    n = len(nums)\n",
        "    if n < 2:\n",
        "        return 0\n",
        "\n",
        "    # Find the minimum and maximum values in the array\n",
        "    min_val = min(nums)\n",
        "    max_val = max(nums)\n",
        "\n",
        "    # Compute the size of each bucket\n",
        "    bucket_size = max(1, (max_val - min_val) // (n - 1))\n",
        "\n",
        "    # Compute the number of buckets\n",
        "    num_buckets = (max_val - min_val) // bucket_size + 1\n",
        "\n",
        "    # Initialize the buckets\n",
        "    buckets = [[float('inf'), float('-inf')] for _ in range(num_buckets)]\n",
        "\n",
        "    # Update the buckets with the minimum and maximum values for each bucket\n",
        "    for num in nums:\n",
        "        index = (num - min_val) // bucket_size\n",
        "        buckets[index][0] = min(buckets[index][0], num)\n",
        "        buckets[index][1] = max(buckets[index][1], num)\n",
        "\n",
        "    # Compute the maximum gap\n",
        "    max_gap = 0\n",
        "    prev_max = min_val\n",
        "\n",
        "    for bucket in buckets:\n",
        "        if bucket[0] == float('inf') and bucket[1] == float('-inf'):\n",
        "            continue\n",
        "        max_gap = max(max_gap, bucket[0] - prev_max)\n",
        "        prev_max = bucket[1]\n",
        "\n",
        "    return max_gap\n",
        "\n",
        "# time complexity: O(n)\n",
        "# space complexity: O(n)"
      ],
      "metadata": {
        "id": "8Z8g80EpQH_w"
      },
      "execution_count": null,
      "outputs": []
    },
    {
      "cell_type": "markdown",
      "source": [
        "5. Contains Duplicate\n",
        "\n",
        "Given an integer array nums, return true if any value appears at least twice in the array, and return false if every element is distinct.\n",
        "\n",
        "Example 1:\n",
        "Input: nums = [1,2,3,1]\n",
        "Output: true\n",
        "\n",
        "Example 2:\n",
        "Input: nums = [1,2,3,4]\n",
        "Output: false\n",
        "\n",
        "Example 3:\n",
        "Input: nums = [1,1,1,3,3,4,3,2,4,2]\n",
        "Output: true\n",
        "\n",
        "Constraints:\n",
        "-\t1 <= nums.length <= 10^5\n",
        "-\t109 <= nums[i] <= 10^9"
      ],
      "metadata": {
        "id": "0qZQam-uQgy9"
      }
    },
    {
      "cell_type": "code",
      "source": [
        "def contains_duplicate(nums):\n",
        "\n",
        "  # Initialize the set.\n",
        "  seen = set()\n",
        "\n",
        "  # Iterate over the array.\n",
        "  for num in nums:\n",
        "    # if the element is already in the set.\n",
        "    if num in seen:\n",
        "      return True\n",
        "\n",
        "    # Add the element to the set.\n",
        "    seen.add(num)\n",
        "\n",
        "  # Return False if no duplicates were found.\n",
        "  return False\n",
        "\n",
        "# time complexity: O(n)\n",
        "# space complexity: O(n)"
      ],
      "metadata": {
        "id": "BCj5V_mSQxP9"
      },
      "execution_count": null,
      "outputs": []
    },
    {
      "cell_type": "markdown",
      "source": [
        "6. Minimum Number of Arrows to Burst Balloons\n",
        "\n",
        "There are some spherical balloons taped onto a flat wall that represents the XY-plane. The balloons are represented as a 2D integer array points where points[i] = [xstart, xend] denotes a balloon whose horizontal diameter stretches between xstart and xend. You do not know the exact y-coordinates of the balloons.\n",
        "Arrows can be shot up directly vertically (in the positive y-direction) from different points along the x-axis. A balloon with xstart and xend is burst by an arrow shot at x if xstart <= x <= xend. There is no limit to the number of arrows that can be shot. A shot arrow keeps traveling up infinitely, bursting any balloons in its path.\n",
        "Given the array points, return the minimum number of arrows that must be shot to burst all balloons.\n",
        "\n",
        "Example 1:\n",
        "Input: points = [[10,16],[2,8],[1,6],[7,12]]\n",
        "Output: 2\n",
        "Explanation: The balloons can be burst by 2 arrows:\n",
        "- Shoot an arrow at x = 6, bursting the balloons [2,8] and [1,6].\n",
        "- Shoot an arrow at x = 11, bursting the balloons [10,16] and [7,12].\n",
        "\n",
        "Example 2:\n",
        "Input: points = [[1,2],[3,4],[5,6],[7,8]]\n",
        "Output: 4\n",
        "Explanation: One arrow needs to be shot for each balloon for a total of 4 arrows.\n",
        "\n",
        "Example 3:\n",
        "Input: points = [[1,2],[2,3],[3,4],[4,5]]\n",
        "Output: 2\n",
        "Explanation: The balloons can be burst by 2 arrows:\n",
        "- Shoot an arrow at x = 2, bursting the balloons [1,2] and [2,3].\n",
        "- Shoot an arrow at x = 4, bursting the balloons [3,4] and [4,5].\n",
        "\n",
        "Constraints:\n",
        "-\t1 <= points.length <= 10^5\n",
        "-\tpoints[i].length == 2\n",
        "-\t231 <= xstart < xend <= 2^31 - 1"
      ],
      "metadata": {
        "id": "svMEGSTbRldE"
      }
    },
    {
      "cell_type": "code",
      "source": [
        "def minimum_arrows_to_burst_balloons(points):\n",
        "\n",
        "  # Initialize the arrows variable.\n",
        "  arrows = 0\n",
        "\n",
        "  # Iterate over the balloons.\n",
        "  for i in range(len(points)):\n",
        "    # if the current balloon is not burst by any of the previous arrows, shoot an arrow at it.\n",
        "    if i == 0 or points[i][0] > points[i - 1][1]:\n",
        "      # if the current balloon is also burst by the previous arrow.\n",
        "      if points[i][1] <= points[i - 1][1]:\n",
        "        continue\n",
        "      arrows += 1\n",
        "\n",
        "  # Return the number of arrows.\n",
        "  return arrows\n",
        "\n",
        "# time complexity: O(n)\n",
        "# space complexity: O(1)"
      ],
      "metadata": {
        "id": "ce1lIzBKSHfE"
      },
      "execution_count": null,
      "outputs": []
    },
    {
      "cell_type": "markdown",
      "source": [
        "7. Longest Increasing Subsequence\n",
        "\n",
        "Given an integer array nums, return the length of the longest strictly increasing subsequence\n",
        "\n",
        "Example 1:\n",
        "Input: nums = [10,9,2,5,3,7,101,18]\n",
        "Output: 4\n",
        "Explanation: The longest increasing subsequence is [2,3,7,101], therefore the length is 4.\n",
        "\n",
        "Example 2:\n",
        "Input: nums = [0,1,0,3,2,3]\n",
        "Output: 4\n",
        "\n",
        "Example 3:\n",
        "Input: nums = [7,7,7,7,7,7,7]\n",
        "Output: 1\n",
        "\n",
        "Constraints:\n",
        "-\t1 <= nums.length <= 2500\n",
        "-\t-10^4 <= nums[i] <= 10^4"
      ],
      "metadata": {
        "id": "i4E2fOexSxEd"
      }
    },
    {
      "cell_type": "code",
      "source": [
        "def longest_increasing_subsequence(nums):\n",
        "\n",
        "  # Initialize the tails array.\n",
        "  tails = [-1] * len(nums)\n",
        "\n",
        "  # Initialize the max value.\n",
        "  max_value = 0\n",
        "\n",
        "  # Iterate over the array.\n",
        "  for i in range(len(nums)):\n",
        "    # Find the largest tail that is less than or equal to nums[i].\n",
        "    j = 0\n",
        "    while j < i and nums[tails[j]] <= nums[i]:\n",
        "      j += 1\n",
        "\n",
        "    # Update the tails[i] value.\n",
        "    tails[i] = j\n",
        "\n",
        "    # Update the max value if necessary.\n",
        "    if max_value < i - tails[i]:\n",
        "      max_value = i - tails[i]\n",
        "\n",
        "  # Return the max value.\n",
        "  return max_value\n",
        "\n",
        "# Time complexity: O(n)\n",
        "# Space complexity: O(n)"
      ],
      "metadata": {
        "id": "JQgqixVHTP1P"
      },
      "execution_count": null,
      "outputs": []
    },
    {
      "cell_type": "markdown",
      "source": [
        "8. 132 Pattern\n",
        "\n",
        "Given an array of n integers nums, a 132 pattern is a subsequence of three integers nums[i], nums[j] and nums[k] such that i < j < k and nums[i] < nums[k] < nums[j].\n",
        "Return true if there is a 132 pattern in nums, otherwise, return false.\n",
        "\n",
        "Example 1:\n",
        "Input: nums = [1,2,3,4]\n",
        "Output: false\n",
        "Explanation: There is no 132 pattern in the sequence.\n",
        "\n",
        "Example 2:\n",
        "Input: nums = [3,1,4,2]\n",
        "Output: true\n",
        "Explanation: There is a 132 pattern in the sequence: [1, 4, 2].\n",
        "\n",
        "Example 3:\n",
        "Input: nums = [-1,3,2,0]\n",
        "Output: true\n",
        "Explanation: There are three 132 patterns in the sequence: [-1, 3, 2], [-1, 3, 0] and [-1, 2, 0].\n",
        "\n",
        "Constraints:\n",
        "-\tn == nums.length\n",
        "-\t1 <= n <= 2 * 10^5\n",
        "-\t-10^9 <= nums[i] <= 10^9"
      ],
      "metadata": {
        "id": "AaaZhmlGUjqM"
      }
    },
    {
      "cell_type": "code",
      "source": [
        "def find_132_pattern(nums):\n",
        "\n",
        "  # Initialize the min_element variable.\n",
        "  min_element = float(\"-inf\")\n",
        "\n",
        "  # Initialize the stack.\n",
        "  stack = []\n",
        "\n",
        "  # Iterate over the array.\n",
        "  for i in range(len(nums)):\n",
        "    # if the current element is less than the minimum element, update the minimum element.\n",
        "    if nums[i] < min_element:\n",
        "      min_element = nums[i]\n",
        "\n",
        "    # if the current element is greater than the top element of the stack and the top element is less than the minimum element, there is a 132 pattern.\n",
        "    while stack and nums[i] > stack[-1] and stack[-1] < min_element:\n",
        "      return True\n",
        "\n",
        "    # Push the current element into the stack.\n",
        "    stack.append(nums[i])\n",
        "\n",
        "  # Return False if no 132 pattern is found.\n",
        "  return False\n",
        "\n",
        "# Time complexity: O(n)\n",
        "# Space complexity: O(n)"
      ],
      "metadata": {
        "id": "d-zDF86iVC8P"
      },
      "execution_count": null,
      "outputs": []
    }
  ]
}