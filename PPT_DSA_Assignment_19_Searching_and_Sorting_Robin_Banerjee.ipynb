{
  "nbformat": 4,
  "nbformat_minor": 0,
  "metadata": {
    "colab": {
      "provenance": []
    },
    "kernelspec": {
      "name": "python3",
      "display_name": "Python 3"
    },
    "language_info": {
      "name": "python"
    }
  },
  "cells": [
    {
      "cell_type": "markdown",
      "source": [
        "1. Merge k Sorted Lists\n",
        "\n",
        "You are given an array of k linked-lists lists, each linked-list is sorted in ascending order. Merge all the linked-lists into one sorted linked-list and return it.\n",
        "\n",
        "Example 1:\n",
        "Input: lists = [[1,4,5],[1,3,4],[2,6]]\n",
        "Output: [1,1,2,3,4,4,5,6]\n",
        "Explanation: The linked-lists are:\n",
        "[\n",
        "  1->4->5,\n",
        "  1->3->4,\n",
        "  2->6\n",
        "]\n",
        "merging them into one sorted list:\n",
        "1->1->2->3->4->4->5->6\n",
        "\n",
        "Example 2:\n",
        "Input: lists = []\n",
        "Output: []\n",
        "\n",
        "Example 3:\n",
        "Input: lists = [[]]\n",
        "Output: []\n",
        "\n",
        "Constraints:\n",
        "-\tk == lists.length\n",
        "-\t0 <= k <= 10000\n",
        "-\t0 <= lists[i].length <= 500\n",
        "-\t-10000 <= lists[i][j] <= 10000\n",
        "-\tlists[i] is sorted in ascending order.\n",
        "-\tThe sum of lists[i].length will not exceed 10000."
      ],
      "metadata": {
        "id": "OYhBHMJ_mCJF"
      }
    },
    {
      "cell_type": "code",
      "source": [
        "def merge_k_sorted_lists(lists):\n",
        "\n",
        "  # Initialize the merged linked-list.\n",
        "  merged_list = None\n",
        "\n",
        "  # Iterate over the linked-lists.\n",
        "  for l in lists:\n",
        "    # Initialize the current linked-list.\n",
        "    current = l\n",
        "\n",
        "    # Iterate over the current linked-list.\n",
        "    while current:\n",
        "      # if the merged linked-list is empty, set it to the current node.\n",
        "      if not merged_list:\n",
        "        merged_list = current\n",
        "      else:\n",
        "        # If the current node is smaller than the first node in the merged linked-list,\n",
        "        # insert the current node before the first node in the merged linked-list.\n",
        "        if current.val < merged_list.val:\n",
        "          new_node = current\n",
        "          new_node.next = merged_list\n",
        "          merged_list = new_node\n",
        "        else:\n",
        "          # else, append the current node to the merged linked-list.\n",
        "          merged_list.next = current\n",
        "\n",
        "      current = current.next\n",
        "\n",
        "  # Return the merged linked-list.\n",
        "  return merged_list\n",
        "\n",
        "# time complexity: O(n)\n",
        "# space complexity: O(1)"
      ],
      "metadata": {
        "id": "Efuk5GmbmBs4"
      },
      "execution_count": null,
      "outputs": []
    },
    {
      "cell_type": "markdown",
      "source": [
        "2. Count of Smaller Numbers After Self\n",
        "\n",
        "Given an integer array nums, return an integer array counts where counts[i] is the number of smaller elements to the right of nums[i].\n",
        "\n",
        "Example 1:\n",
        "Input: nums = [5,2,6,1]\n",
        "Output: [2,1,1,0]\n",
        "Explanation:\n",
        "To the right of 5 there are2 smaller elements (2 and 1).\n",
        "To the right of 2 there is only1 smaller element (1).\n",
        "To the right of 6 there is1 smaller element (1).\n",
        "To the right of 1 there is0 smaller element.\n",
        "\n",
        "Example 2:\n",
        "Input: nums = [-1]\n",
        "Output: [0]\n",
        "\n",
        "Example 3:\n",
        "Input: nums = [-1,-1]\n",
        "Output: [0,0]\n",
        "\n",
        "Constraints:\n",
        "-\t1 <= nums.length <= 100000\n",
        "-\t-10000 <= nums[i] <= 10000"
      ],
      "metadata": {
        "id": "7TQlyPBDm3Wk"
      }
    },
    {
      "cell_type": "code",
      "execution_count": null,
      "metadata": {
        "id": "e9AspBScmAx7"
      },
      "outputs": [],
      "source": [
        "def count_smaller_numbers_after_self(nums):\n",
        "\n",
        "  # Initialize the counts array.\n",
        "  counts = [0] * len(nums)\n",
        "\n",
        "  # Iterate over the array in reverse order.\n",
        "  for i in range(len(nums) - 1, -1, -1):\n",
        "    # Initialize the current count.\n",
        "    count = 0\n",
        "\n",
        "    # Iterate over the elements to the right of the current element.\n",
        "    for j in range(i + 1, len(nums)):\n",
        "      # if the current element is greater than the element to the right, increment the count.\n",
        "      if nums[i] > nums[j]:\n",
        "        count += 1\n",
        "\n",
        "    # Store the count in the counts array.\n",
        "    counts[i] = count\n",
        "\n",
        "  # Return the counts array.\n",
        "  return counts\n",
        "\n",
        "# time complexity: O(n)\n",
        "# space complexity: O(n)"
      ]
    },
    {
      "cell_type": "markdown",
      "source": [
        "3. Sort an Array\n",
        "\n",
        "Given an array of integers nums, sort the array in ascending order and return it. You must solve the problem without using any built-in functions in O(nlog(n)) time complexity and with the smallest space complexity possible.\n",
        "\n",
        "Example 1:\n",
        "Input: nums = [5,2,3,1]\n",
        "Output: [1,2,3,5]\n",
        "Explanation: After sorting the array, the positions of some numbers are not changed (for example, 2 and 3), while the positions of other numbers are changed (for example, 1 and 5).\n",
        "\n",
        "Example 2:\n",
        "Input: nums = [5,1,1,2,0,0]\n",
        "Output: [0,0,1,1,2,5]\n",
        "Explanation: Note that the values of nums are not necessairly unique.\n",
        "\n",
        "Constraints:\n",
        "-\t1 <= nums.length <= 5 * 10000\n",
        "-\t-5 * 104 <= nums[i] <= 5 * 10000"
      ],
      "metadata": {
        "id": "2TkfLLlupP3L"
      }
    },
    {
      "cell_type": "code",
      "source": [
        "def sort_array(nums):\n",
        "\n",
        "  # Initialize the left and right pointers.\n",
        "  left = 0\n",
        "  right = len(nums) - 1\n",
        "\n",
        "  # Iterate until the left pointer and right pointer meet.\n",
        "  while left < right:\n",
        "    # Find the minimum element in the right half of the array.\n",
        "    minimum = nums[right]\n",
        "\n",
        "    # Iterate over the elements in the right half of the array.\n",
        "    for i in range(right - 1, left - 1, -1):\n",
        "      # if the current element is less than the minimum element, swap the elements.\n",
        "      if nums[i] < minimum:\n",
        "        nums[i], minimum = minimum, nums[i]\n",
        "\n",
        "    # Swap the minimum element with the element at the left pointer.\n",
        "    nums[left], minimum = minimum, nums[left]\n",
        "\n",
        "    # Increment the left pointer.\n",
        "    left += 1\n",
        "\n",
        "  # Return the sorted array.\n",
        "  return nums\n",
        "\n",
        "# time complexity: O(nlog(n))\n",
        "# space complexity: O(1)"
      ],
      "metadata": {
        "id": "2Y1BWhxSqYSn"
      },
      "execution_count": null,
      "outputs": []
    },
    {
      "cell_type": "markdown",
      "source": [
        "4. Move all zeroes to end of array\n",
        "\n",
        "Given an array of random numbers, Push all the zero’s of a given array to the end of the array. For example, if the given arrays is {1, 9, 8, 4, 0, 0, 2, 7, 0, 6, 0}, it should be changed to {1, 9, 8, 4, 2, 7, 6, 0, 0, 0, 0}. The order of all other elements should be same. Expected time complexity is O(n) and extra space is O(1).\n",
        "\n",
        "Example:\n",
        "\n",
        "Input :  arr[] = {1, 2, 0, 4, 3, 0, 5, 0};\n",
        "Output : arr[] = {1, 2, 4, 3, 5, 0, 0, 0};\n",
        "\n",
        "Input : arr[]  = {1, 2, 0, 0, 0, 3, 6};\n",
        "Output : arr[] = {1, 2, 3, 6, 0, 0, 0};"
      ],
      "metadata": {
        "id": "yW09cm_kqkwt"
      }
    },
    {
      "cell_type": "code",
      "source": [
        "def move_zeroes_to_end(arr):\n",
        "\n",
        "  # Initialize the index of the last non-zero element.\n",
        "  last_non_zero_index = 0\n",
        "\n",
        "  # Iterate over the array.\n",
        "  for i in range(len(arr)):\n",
        "    # if the current element is not zero, swap it with the element at the last non-zero element index.\n",
        "    if arr[i] != 0:\n",
        "      arr[last_non_zero_index], arr[i] = arr[i], arr[last_non_zero_index]\n",
        "      last_non_zero_index += 1\n",
        "\n",
        "  # Fill the remaining elements with zeroes.\n",
        "  for i in range(last_non_zero_index, len(arr)):\n",
        "    arr[i] = 0\n",
        "\n",
        "  # Return the modified array.\n",
        "  return arr\n",
        "\n",
        "# time complexity: O(n)\n",
        "# space complexity: O(1)"
      ],
      "metadata": {
        "id": "NPA_SlsErb_S"
      },
      "execution_count": null,
      "outputs": []
    },
    {
      "cell_type": "markdown",
      "source": [
        "5. Rearrange array in alternating positive & negative items with O(1) extra space\n",
        "\n",
        "Given an array of positive and negative numbers, arrange them in an alternate fashion such that every positive number is followed by a negative and vice-versa maintaining the order of appearance. The number of positive and negative numbers need not be equal. If there are more positive numbers they appear at the end of the array. If there are more negative numbers, they too appear at the end of the array.\n",
        "\n",
        "Examples:\n",
        "\n",
        "Input:  arr[] = {1, 2, 3, -4, -1, 4} Output: arr[] = {-4, 1, -1, 2, 3, 4}\n",
        "\n",
        "Input:  arr[] = {-5, -2, 5, 2, 4, 7, 1, 8, 0, -8} Output: arr[] = {-5, 5, -2, 2, -8, 4, 7, 1, 8, 0}"
      ],
      "metadata": {
        "id": "ayQZj8odr0Ji"
      }
    },
    {
      "cell_type": "code",
      "source": [
        "def rearrange_positive_and_negative_numbers(arr):\n",
        "\n",
        "  # Initialize the pointers for the positive and negative elements.\n",
        "  positive_pointer = 0\n",
        "  negative_pointer = 1\n",
        "\n",
        "  # Iterate over the array.\n",
        "  while positive_pointer < len(arr) and negative_pointer < len(arr):\n",
        "    # if the current element is positive, swap it with the element at the negative pointer.\n",
        "    if arr[positive_pointer] > 0:\n",
        "      arr[positive_pointer], arr[negative_pointer] = arr[negative_pointer], arr[positive_pointer]\n",
        "\n",
        "    # increment the positive and negative pointers.\n",
        "    positive_pointer += 2\n",
        "    negative_pointer += 2\n",
        "\n",
        "  # Return the rearranged array.\n",
        "  return arr\n",
        "\n",
        "# time complexity: O(n)\n",
        "# space complexity: O(1)"
      ],
      "metadata": {
        "id": "yBxCq5pYswia"
      },
      "execution_count": null,
      "outputs": []
    },
    {
      "cell_type": "markdown",
      "source": [
        "6. Merge two sorted arrays\n",
        "\n",
        "Given two sorted arrays, the task is to merge them in a sorted manner.\n",
        "\n",
        "Examples:\n",
        "\n",
        "Input: arr1[] = { 1, 3, 4, 5}, arr2[] = {2, 4, 6, 8}  Output: arr3[] = {1, 2, 3, 4, 4, 5, 6, 8}\n",
        "\n",
        "Input: arr1[] = { 5, 8, 9}, arr2[] = {4, 7, 8} Output: arr3[] = {4, 5, 7, 8, 8, 9}"
      ],
      "metadata": {
        "id": "hINYDTICtZGp"
      }
    },
    {
      "cell_type": "code",
      "source": [
        "def merge_sorted_arrays(arr1, arr2):\n",
        "\n",
        "  # Initialize the merged array.\n",
        "  merged = []\n",
        "\n",
        "  # Initialize the pointers for the two arrays.\n",
        "  i = 0\n",
        "  j = 0\n",
        "\n",
        "  # Iterate until one of the arrays is exhausted.\n",
        "  while i < len(arr1) and j < len(arr2):\n",
        "    # if the current element in arr1 is less than the current element in arr2, add it to the merged array.\n",
        "    if arr1[i] <= arr2[j]:\n",
        "      merged.append(arr1[i])\n",
        "      i += 1\n",
        "    else:\n",
        "      merged.append(arr2[j])\n",
        "      j += 1\n",
        "\n",
        "  # Append the remaining elements of the two arrays to the merged array.\n",
        "  merged += arr1[i:]\n",
        "  merged += arr2[j:]\n",
        "\n",
        "  # Return the merged array.\n",
        "  return merged\n",
        "\n",
        "# time complexity: O(m + n)\n",
        "# space complexity: O(m + n)"
      ],
      "metadata": {
        "id": "sU5zAltQuLHj"
      },
      "execution_count": null,
      "outputs": []
    },
    {
      "cell_type": "markdown",
      "source": [
        "7. Intersection of Two Arrays\n",
        "\n",
        "Given two integer arrays nums1 and nums2, return an array of their intersection. Each element in the result must be unique and you may return the result in any order.\n",
        "\n",
        "Example 1:\n",
        "Input: nums1 = [1,2,2,1], nums2 = [2,2]\n",
        "Output: [2]\n",
        "\n",
        "Example 2:\n",
        "Input: nums1 = [4,9,5], nums2 = [9,4,9,8,4]\n",
        "Output: [9,4]\n",
        "Explanation: [4,9] is also accepted.\n",
        "\n",
        "Constraints:\n",
        "-\t1 <= nums1.length, nums2.length <= 1000\n",
        "-\t0 <= nums1[i], nums2[i] <= 1000"
      ],
      "metadata": {
        "id": "2MO_FMEzuW74"
      }
    },
    {
      "cell_type": "code",
      "source": [
        "def intersection_of_two_arrays(nums1, nums2):\n",
        "\n",
        "  # Initialize the intersection array.\n",
        "  intersection = []\n",
        "\n",
        "  # Initialize the pointers for the two arrays.\n",
        "  i = 0\n",
        "  j = 0\n",
        "\n",
        "  # Iterate until one of the arrays is exhausted.\n",
        "  while i < len(nums1) and j < len(nums2):\n",
        "    # if the current element in nums1 is equal to the current element in nums2, add it to the intersection array.\n",
        "    if nums1[i] == nums2[j]:\n",
        "      intersection.append(nums1[i])\n",
        "      i += 1\n",
        "      j += 1\n",
        "\n",
        "    # if the current element in nums1 is less than the current element in nums2, increment the pointer for nums1.\n",
        "    elif nums1[i] < nums2[j]:\n",
        "      i += 1\n",
        "\n",
        "    # if the current element in nums1 is greater than the current element in nums2, increment the pointer for nums2.\n",
        "    else:\n",
        "      j += 1\n",
        "\n",
        "  # Return the intersection array.\n",
        "  return intersection\n",
        "\n",
        "# time complexity: O(m + n)\n",
        "# space complexity: O(m + n)"
      ],
      "metadata": {
        "id": "NQaKU-YSusGx"
      },
      "execution_count": null,
      "outputs": []
    },
    {
      "cell_type": "markdown",
      "source": [
        "8. Intersection of Two Arrays II\n",
        "\n",
        "Given two integer arrays nums1 and nums2, return an array of their intersection. Each element in the result must appear as many times as it shows in both arrays and you may return the result in any order.\n",
        "\n",
        "Example 1:\n",
        "Input: nums1 = [1,2,2,1], nums2 = [2,2]\n",
        "Output: [2,2]\n",
        "\n",
        "Example 2:\n",
        "Input: nums1 = [4,9,5], nums2 = [9,4,9,8,4]\n",
        "Output: [4,9]\n",
        "Explanation: [9,4] is also accepted.\n",
        "\n",
        "Constraints:\n",
        "-\t1 <= nums1.length, nums2.length <= 1000\n",
        "-\t0 <= nums1[i], nums2[i] <= 1000"
      ],
      "metadata": {
        "id": "A5XY_T2evctJ"
      }
    },
    {
      "cell_type": "code",
      "source": [
        "def intersection_with_repeated_elements(nums1, nums2):\n",
        "\n",
        "    # Create a dictionary to store the frequency of elements in nums1\n",
        "    count_dict = {}\n",
        "    for num in nums1:\n",
        "        count_dict[num] = count_dict.get(num, 0) + 1\n",
        "\n",
        "    # Create a list to store the intersection\n",
        "    intersection = []\n",
        "\n",
        "    # Iterate through nums2 and check if each element exists in count_dict and has a count greater than 0\n",
        "    for num in nums2:\n",
        "        if num in count_dict and count_dict[num] > 0:\n",
        "            # Add the element to the intersection list\n",
        "            intersection.append(num)\n",
        "            # Decrement the count of the element in count_dict\n",
        "            count_dict[num] -= 1\n",
        "\n",
        "    # Return the intersection list\n",
        "    return intersection\n",
        "\n",
        "# time complexity: O(m + n), where m = len(nums1) and n = len(nums2)\n",
        "# space complexity: O(min(m, n))"
      ],
      "metadata": {
        "id": "QAQ6cZG8wMkp"
      },
      "execution_count": null,
      "outputs": []
    }
  ]
}