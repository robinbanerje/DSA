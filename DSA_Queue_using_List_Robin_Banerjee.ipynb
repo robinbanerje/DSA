{
  "nbformat": 4,
  "nbformat_minor": 0,
  "metadata": {
    "colab": {
      "provenance": []
    },
    "kernelspec": {
      "name": "python3",
      "display_name": "Python 3"
    },
    "language_info": {
      "name": "python"
    }
  },
  "cells": [
    {
      "cell_type": "markdown",
      "source": [
        "Implement a queue using a list in Python. Include the necessary methods such as enqueue, dequeue, and isEmpty."
      ],
      "metadata": {
        "id": "-Y58KJOqR02b"
      }
    },
    {
      "cell_type": "code",
      "execution_count": null,
      "metadata": {
        "id": "640VeJxVRnDe"
      },
      "outputs": [],
      "source": [
        "class Queue:\n",
        "\n",
        "    def __init__(self):\n",
        "        \"\"\"\n",
        "        initialized a new queue\n",
        "        \"\"\"\n",
        "        self.items = []\n",
        "\n",
        "    def enqueue(self, item):\n",
        "        \"\"\"\n",
        "        enqueues item into the queue\n",
        "        \"\"\"\n",
        "        self.items.append(item)\n",
        "\n",
        "    def dequeue(self):\n",
        "        \"\"\"\n",
        "        item that was dequeued from queue, or None if the queue is empty\n",
        "        \"\"\"\n",
        "        if len(self.items) == 0:\n",
        "            return None\n",
        "        return self.items.pop(0)\n",
        "\n",
        "    def isEmpty(self):\n",
        "        \"\"\"\n",
        "        if the queue is empty return True, else False\n",
        "        \"\"\"\n",
        "        return len(self.items) == 0\n",
        "\n",
        "# time complexity: O(1)\n",
        "# space complexity: O(n)"
      ]
    }
  ]
}