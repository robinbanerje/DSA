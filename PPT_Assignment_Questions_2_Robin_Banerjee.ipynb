{
  "nbformat": 4,
  "nbformat_minor": 0,
  "metadata": {
    "colab": {
      "provenance": []
    },
    "kernelspec": {
      "name": "python3",
      "display_name": "Python 3"
    },
    "language_info": {
      "name": "python"
    }
  },
  "cells": [
    {
      "cell_type": "markdown",
      "source": [
        "Question 1\n",
        "Given an integer array nums of 2n integers, group these integers into n pairs (a1, b1), (a2, b2),..., (an, bn) such that the sum of min(ai, bi) for all i is maximized. Return the maximized sum.\n",
        "\n",
        "Example 1:\n",
        "Input: nums = [1,4,3,2]\n",
        "Output: 4\n",
        "\n",
        "Explanation: All possible pairings (ignoring the ordering of elements) are:\n",
        "\n",
        "1. (1, 4), (2, 3) -> min(1, 4) + min(2, 3) = 1 + 2 = 3\n",
        "2. (1, 3), (2, 4) -> min(1, 3) + min(2, 4) = 1 + 2 = 3\n",
        "3. (1, 2), (3, 4) -> min(1, 2) + min(3, 4) = 1 + 3 = 4\n",
        "So the maximum possible sum is 4"
      ],
      "metadata": {
        "id": "jioQcnPplWjp"
      }
    },
    {
      "cell_type": "code",
      "source": [
        "def max_pair_sum(nums):\n",
        "  # Sort the array in ascending order.\n",
        "  nums.sort()\n",
        "\n",
        "  # Initialize the sum of min(ai, bi) for all i.\n",
        "  sum_min = 0\n",
        "\n",
        "  # Iterate over the array and add the minimum of each pair to the sum.\n",
        "  for i in range(0, len(nums), 2):\n",
        "    sum_min += min(nums[i], nums[i + 1])\n",
        "\n",
        "  # Return the sum.\n",
        "  return sum_min\n",
        "\n",
        "  # Time complexity = O(n^2)\n",
        "  # space complexity = O(1)"
      ],
      "metadata": {
        "id": "QQvz7yfcv2s7"
      },
      "execution_count": null,
      "outputs": []
    },
    {
      "cell_type": "markdown",
      "source": [
        "Question 2\n",
        "Alice has n candies, where the ith candy is of type candyType[i]. Alice noticed that she started to gain weight, so she visited a doctor. \n",
        "\n",
        "The doctor advised Alice to only eat n / 2 of the candies she has (n is always even). Alice likes her candies very much, and she wants to eat the maximum number of different types of candies while still following the doctor's advice. \n",
        "\n",
        "Given the integer array candyType of length n, return the maximum number of different types of candies she can eat if she only eats n / 2 of them.\n",
        "\n",
        "Example 1:\n",
        "Input: candyType = [1,1,2,2,3,3]\n",
        "Output: 3\n",
        "\n",
        "Explanation: Alice can only eat 6 / 2 = 3 candies. Since there are only 3 types, she can eat one of each type."
      ],
      "metadata": {
        "id": "fNsyUhRmwH8z"
      }
    },
    {
      "cell_type": "code",
      "source": [
        "def distribute_candies(candyType):\n",
        "  # Initialize the count of candy types.\n",
        "  count = 0\n",
        "\n",
        "  # Iterate over the array and increment the count for each unique candy type.\n",
        "  for candy in candyType:\n",
        "    if candy not in candy_types:\n",
        "      candy_types.add(candy)\n",
        "      count += 1\n",
        "\n",
        "  # Return the count if it is less than or equal to n / 2, otherwise return n / 2.\n",
        "  return count if count <= len(candyType) // 2 else len(candy_types) // 2\n",
        "\n",
        "  # Time complexity: O(n)\n",
        "  # Space complexity: O(n)"
      ],
      "metadata": {
        "id": "gdg-aX_qycEs"
      },
      "execution_count": null,
      "outputs": []
    },
    {
      "cell_type": "markdown",
      "source": [
        "Question 3\n",
        "We define a harmonious array as an array where the difference between its maximum value and its minimum value is exactly 1.\n",
        "\n",
        "Given an integer array nums, return the length of its longest harmonious subsequence among all its possible subsequences.\n",
        "\n",
        "A subsequence of an array is a sequence that can be derived from the array by deleting some or no elements without changing the order of the remaining elements.\n",
        "\n",
        "Example 1:\n",
        "Input: nums = [1,3,2,2,5,2,3,7]\n",
        "Output: 5\n",
        "\n",
        "Explanation: The longest harmonious subsequence is [3,2,2,2,3]."
      ],
      "metadata": {
        "id": "r_QPQxokzOwJ"
      }
    },
    {
      "cell_type": "code",
      "source": [
        "def longest_harmonious_subsequence(nums):\n",
        "\n",
        "  # Create a map from each element in the array to the number of times it appears in the array.\n",
        "  counts = {}\n",
        "  for num in nums:\n",
        "    counts[num] = counts.get(num, 0) + 1\n",
        "\n",
        "  # Initialize the maximum length of a harmonious subsequence to 0.\n",
        "  max_length = 0\n",
        "\n",
        "  # Iterate over each element in the array.\n",
        "  for num in nums:\n",
        "    # Find the minimum value that is greater than or equal to num.\n",
        "    min_value = num + 1\n",
        "    while min_value in counts:\n",
        "      counts[min_value] -= 1\n",
        "      if counts[min_value] == 0:\n",
        "        del counts[min_value]\n",
        "      min_value += 1\n",
        "\n",
        "    # Update the maximum length of a harmonious subsequence if the current element and the minimum value form a harmonious subsequence.\n",
        "    if min_value in counts:\n",
        "      max_length = max(max_length, counts[min_value] + 1)\n",
        "\n",
        "  return max_length\n",
        "\n",
        "# Time complexity: O(n)\n",
        "# Space complexity: O(n)"
      ],
      "metadata": {
        "id": "uUgwZVeG1yRX"
      },
      "execution_count": null,
      "outputs": []
    },
    {
      "cell_type": "markdown",
      "source": [
        "Question 4\n",
        "You have a long flowerbed in which some of the plots are planted, and some are not.\n",
        "However, flowers cannot be planted in adjacent plots.\n",
        "Given an integer array flowerbed containing 0's and 1's, where 0 means empty and 1 means not empty, and an integer n, return true if n new flowers can be planted in the flowerbed without violating the no-adjacent-flowers rule and false otherwise.\n",
        "\n",
        "Example 1:\n",
        "Input: flowerbed = [1,0,0,0,1], n = 1\n",
        "Output: true"
      ],
      "metadata": {
        "id": "6bAt7VYe13bm"
      }
    },
    {
      "cell_type": "code",
      "source": [
        "def can_place_flowers(flowerbed, n):\n",
        "\n",
        "  # Iterate over the flowerbed, counting the number of empty plots in a row.\n",
        "  empty_plots = 0\n",
        "  for i in range(len(flowerbed)):\n",
        "    if flowerbed[i] == 0:\n",
        "      empty_plots += 1\n",
        "    else:\n",
        "      empty_plots = 0\n",
        "\n",
        "  # If the number of empty plots is at least n, then we can plant n new flowers.\n",
        "  return empty_plots >= n\n",
        "\n",
        "# Time complexity: O(n)\n",
        "# Space complexity: O(1)"
      ],
      "metadata": {
        "id": "wY3Ike0F22ZN"
      },
      "execution_count": null,
      "outputs": []
    },
    {
      "cell_type": "markdown",
      "source": [
        "Question 5\n",
        "Given an integer array nums, find three numbers whose product is maximum and return the maximum product.\n",
        "\n",
        "Example 1:\n",
        "Input: nums = [1,2,3]\n",
        "Output: 6"
      ],
      "metadata": {
        "id": "GDQM6j3v3gAI"
      }
    },
    {
      "cell_type": "code",
      "source": [
        "def max_product_of_three(nums):\n",
        "\n",
        "  # Find the three largest numbers in the array.\n",
        "  max1, max2, max3 = float(\"-inf\"), float(\"-inf\"), float(\"-inf\")\n",
        "  for num in nums:\n",
        "    if num > max1:\n",
        "      max3 = max2\n",
        "      max2 = max1\n",
        "      max1 = num\n",
        "    elif num > max2:\n",
        "      max3 = max2\n",
        "      max2 = num\n",
        "    elif num > max3:\n",
        "      max3 = num\n",
        "\n",
        "  # Return the product of the three largest numbers.\n",
        "  return max1 * max2 * max3\n",
        "\n",
        "  # time complexity = O(n)\n",
        "  # space complexity = O(1)"
      ],
      "metadata": {
        "id": "eDU-NqO43oZx"
      },
      "execution_count": null,
      "outputs": []
    },
    {
      "cell_type": "markdown",
      "source": [
        "Question 6\n",
        "Given an array of integers nums which is sorted in ascending order, and an integer target, write a function to search target in nums. If target exists, then return its index. Otherwise, return -1.\n",
        "\n",
        "You must write an algorithm with O(log n) runtime complexity.\n",
        "\n",
        "Input: nums = [-1,0,3,5,9,12], target = 9\n",
        "Output: 4\n",
        "\n",
        "Explanation: 9 exists in nums and its index is 4"
      ],
      "metadata": {
        "id": "kFcLqEBR6vRp"
      }
    },
    {
      "cell_type": "code",
      "source": [
        "def binary_search(array, target):\n",
        "\n",
        "  # Initialize the low and high pointers.\n",
        "  low = 0\n",
        "  high = len(array) - 1\n",
        "\n",
        "  # While the low pointer is less than or equal to the high pointer:\n",
        "  while low <= high:\n",
        "\n",
        "    # Find the middle element of the array.\n",
        "    mid = (low + high) // 2\n",
        "\n",
        "    # Compare the middle element to the target.\n",
        "    if array[mid] == target:\n",
        "\n",
        "      # Return the index of the middle element.\n",
        "      return mid\n",
        "\n",
        "    elif array[mid] < target:\n",
        "\n",
        "      # Set the low pointer to the middle element + 1.\n",
        "      low = mid + 1\n",
        "\n",
        "    else:\n",
        "\n",
        "      # Set the high pointer to the middle element - 1.\n",
        "      high = mid - 1\n",
        "\n",
        "  # If the target is not found, return -1.\n",
        "  return -1\n",
        "\n",
        "# time complexity = O(log n)\n",
        "# space complexity = O(1)"
      ],
      "metadata": {
        "id": "ktfODPTR7yyk"
      },
      "execution_count": null,
      "outputs": []
    },
    {
      "cell_type": "markdown",
      "source": [
        "Question 7\n",
        "An array is monotonic if it is either monotone increasing or monotone decreasing.\n",
        "\n",
        "An array nums is monotone increasing if for all i <= j, nums[i] <= nums[j]. An array nums is\n",
        "monotone decreasing if for all i <= j, nums[i] >= nums[j].\n",
        "\n",
        "Given an integer array nums, return true if the given array is monotonic, or false otherwise.\n",
        "\n",
        "Example 1:\n",
        "Input: nums = [1,2,2,3]\n",
        "Output: true"
      ],
      "metadata": {
        "id": "UCzw60xA8HUb"
      }
    },
    {
      "cell_type": "code",
      "source": [
        "def is_monotonic(nums):\n",
        "\n",
        "  # Initialize two flags to track whether the array is increasing or decreasing.\n",
        "  increasing = True\n",
        "  decreasing = True\n",
        "\n",
        "  # Iterate over the array, checking each element against the previous element.\n",
        "  for i in range(1, len(nums)):\n",
        "    # If the current element is less than the previous element, set the increasing flag to False.\n",
        "    if nums[i] < nums[i - 1]:\n",
        "      increasing = False\n",
        "\n",
        "    # If the current element is greater than the previous element, set the decreasing flag to False.\n",
        "    elif nums[i] > nums[i - 1]:\n",
        "      decreasing = False\n",
        "\n",
        "  # Return True if either flag is still set, indicating that the array is monotonic.\n",
        "  return increasing or decreasing\n",
        "\n",
        "# time complexity = O(n)\n",
        "# space complexity = O(1)"
      ],
      "metadata": {
        "id": "ZZ8Kqef39Gcu"
      },
      "execution_count": null,
      "outputs": []
    },
    {
      "cell_type": "markdown",
      "source": [
        "Question 8\n",
        "You are given an integer array nums and an integer k.\n",
        "\n",
        "In one operation, you can choose any index i where 0 <= i < nums.length and change nums[i] to nums[i] + x where x is an integer from the range [-k, k]. You can apply this operation at most once for each index i.\n",
        "\n",
        "The score of nums is the difference between the maximum and minimum elements in nums.\n",
        "\n",
        "Return the minimum score of nums after applying the mentioned operation at most once for each index in it.\n",
        "\n",
        "Example:\n",
        "Input: nums = [1], k = 0\n",
        "Output: 0\n",
        "\n",
        "Explanation: The score is max(nums) - min(nums) = 1 - 1 = 0"
      ],
      "metadata": {
        "id": "sV0vF7lN9Wxh"
      }
    },
    {
      "cell_type": "code",
      "source": [
        "def min_score(nums, k):\n",
        "\n",
        "  # Find the minimum and maximum elements of nums.\n",
        "  min_val = min(nums)\n",
        "  max_val = max(nums)\n",
        "\n",
        "  # The score of nums is the difference between the maximum and minimum elements.\n",
        "  score = max_val - min_val\n",
        "\n",
        "  # Iterate over each index in nums.\n",
        "  for i in range(len(nums)):\n",
        "\n",
        "    # For each index, we can change nums[i] to nums[i] + x where x is an integer from the range [-k, k].\n",
        "    for x in range(-k, k + 1):\n",
        "\n",
        "      # Update the minimum and maximum elements of nums.\n",
        "      min_val = min(min_val, nums[i] + x)\n",
        "      max_val = max(max_val, nums[i] + x)\n",
        "\n",
        "      # Update the score.\n",
        "      score = min(score, max_val - min_val)\n",
        "\n",
        "  # Return the minimum score of nums.\n",
        "  return score\n",
        "\n",
        "# time complexity = O(n)\n",
        "# space complexity = O(1)"
      ],
      "metadata": {
        "id": "ERrLB1h6-fIz"
      },
      "execution_count": null,
      "outputs": []
    }
  ]
}