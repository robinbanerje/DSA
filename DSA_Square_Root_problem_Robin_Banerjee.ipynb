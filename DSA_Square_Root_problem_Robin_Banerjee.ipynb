{
  "nbformat": 4,
  "nbformat_minor": 0,
  "metadata": {
    "colab": {
      "provenance": []
    },
    "kernelspec": {
      "name": "python3",
      "display_name": "Python 3"
    },
    "language_info": {
      "name": "python"
    }
  },
  "cells": [
    {
      "cell_type": "markdown",
      "source": [
        "Given a non-negative integer x, return the square root of x rounded down to the nearest integer. The returned integer should be non-negative as well. You must not use any built-in exponent function or operator.\n",
        "\n",
        " Example 1:\n",
        "Input: x = 4 Output: 2 Explanation: The square root of 4 is 2, so we return 2.\n",
        "Example 2:\n",
        "\n",
        "Input: x = 8 Output: 2 Explanation: The square root of 8 is 2.82842..., and since we round it down to the nearest integer, 2 is returned.\n",
        "Constraints:\n",
        "\n",
        "0 <= x <= 2^31 - 1"
      ],
      "metadata": {
        "id": "dwgvjaS8V_IW"
      }
    },
    {
      "cell_type": "code",
      "source": [
        "def Sqrt(x):\n",
        "\n",
        "    # if x is 0 or 1\n",
        "    if x == 0 or x == 1:\n",
        "        return x\n",
        "\n",
        "    # else, binary search on the range [0, x]\n",
        "    left = 0\n",
        "    right = x\n",
        "\n",
        "    while left <= right:\n",
        "        mid = left + (right - left) // 2  # calculate the mid point\n",
        "\n",
        "        # if mid squared is equal to x, return mid\n",
        "        if mid * mid == x:\n",
        "            return mid\n",
        "        # if mid squared is less than x, update the left pointer\n",
        "        elif mid * mid < x:\n",
        "            left = mid + 1\n",
        "        # if mid squared is greater than x, update the right pointer\n",
        "        else:\n",
        "            right = mid - 1\n",
        "\n",
        "    # return the rounded down integer part of the square root\n",
        "    return right\n",
        "\n",
        "# time complexity: O(log x)\n",
        "# space complexity: O(1)"
      ],
      "metadata": {
        "id": "K6fV_-B9W0xz"
      },
      "execution_count": 1,
      "outputs": []
    }
  ]
}